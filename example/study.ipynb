{
 "cells": [
  {
   "cell_type": "code",
   "execution_count": 6,
   "id": "76b71f28-fb89-434d-b8d5-996aad8d7bb4",
   "metadata": {},
   "outputs": [
    {
     "data": {
      "text/plain": [
       "0.09477676002747237"
      ]
     },
     "execution_count": 6,
     "metadata": {},
     "output_type": "execute_result"
    }
   ],
   "source": [
    "# from random import random\n",
    "import random as r\n",
    "r.random() # float x , 0.0 <= x < 1.0"
   ]
  },
  {
   "cell_type": "code",
   "execution_count": 9,
   "id": "7c9f7f73-9fbf-4ed8-bb8f-1f4568bd47df",
   "metadata": {},
   "outputs": [
    {
     "data": {
      "text/plain": [
       "3.919820557967612"
      ]
     },
     "execution_count": 9,
     "metadata": {},
     "output_type": "execute_result"
    }
   ],
   "source": [
    "r.uniform(1,45) # float x , 1.0 <= x < 45.0"
   ]
  },
  {
   "cell_type": "code",
   "execution_count": 11,
   "id": "2aa7019f-cc7f-4f8d-a83c-85ebaf99ef9b",
   "metadata": {},
   "outputs": [
    {
     "data": {
      "text/plain": [
       "6"
      ]
     },
     "execution_count": 11,
     "metadata": {},
     "output_type": "execute_result"
    }
   ],
   "source": [
    "r.randint(1,45) # 정수 x , 1 <= x <= 45 , endpoints included"
   ]
  },
  {
   "cell_type": "code",
   "execution_count": 24,
   "id": "5ffb9c35-6d2b-4cfe-9020-5ae6c567a04c",
   "metadata": {},
   "outputs": [
    {
     "data": {
      "text/plain": [
       "40"
      ]
     },
     "execution_count": 24,
     "metadata": {},
     "output_type": "execute_result"
    }
   ],
   "source": [
    "# 함수로 만들어지는 정수중에 하나를 랜덤하게 리턴\n",
    "r.randrange(0, 101 ,2) # Even integer from 0 to 100"
   ]
  },
  {
   "cell_type": "code",
   "execution_count": 26,
   "id": "cbc91af0-c306-46eb-8ea3-026d37d030f8",
   "metadata": {},
   "outputs": [
    {
     "data": {
      "text/plain": [
       "'p'"
      ]
     },
     "execution_count": 26,
     "metadata": {},
     "output_type": "execute_result"
    }
   ],
   "source": [
    "# 랜덤하게 하나의 원소를 선택\n",
    "r.choice('apple is good') # Choose a random element"
   ]
  },
  {
   "cell_type": "code",
   "execution_count": 28,
   "id": "8b999106-a021-4e4b-9b81-c6f149173632",
   "metadata": {},
   "outputs": [
    {
     "data": {
      "text/plain": [
       "[2, 5, 7, 6]"
      ]
     },
     "execution_count": 28,
     "metadata": {},
     "output_type": "execute_result"
    }
   ],
   "source": [
    "# 랜덤하게 여러개의 원소를 선택\n",
    "r.sample([1,2,3,4,5,6,7,8],4) # choice 4 elements"
   ]
  },
  {
   "cell_type": "code",
   "execution_count": 30,
   "id": "4f009bed-7228-4aa8-8d2e-76b077e7d76b",
   "metadata": {},
   "outputs": [
    {
     "name": "stdout",
     "output_type": "stream",
     "text": [
      "[1, 2, 3, 4, 5, 6, 7, 8]\n",
      "[7, 3, 5, 8, 2, 6, 1, 4]\n"
     ]
    }
   ],
   "source": [
    "# 요소를 랜덤하게 섞기\n",
    "a = [1,2,3,4,5,6,7,8] # shuffle in elements\n",
    "print(a)\n",
    "r.shuffle(a)\n",
    "print(a)"
   ]
  },
  {
   "cell_type": "code",
   "execution_count": 1,
   "id": "e2db27d1-ae93-498b-bf1c-4dae63d29acf",
   "metadata": {},
   "outputs": [
    {
     "name": "stdout",
     "output_type": "stream",
     "text": [
      "[1, 2, 4, 26, 34, 42]\n"
     ]
    }
   ],
   "source": [
    "def lotto():\n",
    "    from random import randint\n",
    "    lotto=[]\n",
    "    while (len(lotto)<6):\n",
    "        pick = randint(1,45)\n",
    "        if pick not in lotto:lotto.append(pick)\n",
    "    lotto.sort()\n",
    "    return lotto\n",
    "print(lotto())"
   ]
  },
  {
   "cell_type": "code",
   "execution_count": 46,
   "id": "30936613-dcab-47c5-84f0-99a0c9b81e20",
   "metadata": {},
   "outputs": [],
   "source": [
    "def ck():\n",
    "    str = '■'\n",
    "    cycle = 10000\n",
    "    for k in range(cycle):\n",
    "        out = lotto()\n",
    "        ck = len(set(out))\n",
    "        pr = (k+1)//(cycle//100)\n",
    "        print(f'{pr:<3}% |{str * (pr):<10}|' ,end=\"\\r\")\n",
    "        if ck != 6:\n",
    "            print('\\n',k+1,'번째 중복발생',out)            \n",
    "            break\n",
    "        if ck==6 and (k+1) == cycle:\n",
    "            print('\\n',k+1,'번 이상없이 체크완료')"
   ]
  },
  {
   "cell_type": "code",
   "execution_count": 47,
   "id": "43262bdc-3a89-47a2-ad95-694d03a20880",
   "metadata": {},
   "outputs": [
    {
     "name": "stdout",
     "output_type": "stream",
     "text": [
      "100% |■■■■■■■■■■■■■■■■■■■■■■■■■■■■■■■■■■■■■■■■■■■■■■■■■■■■■■■■■■■■■■■■■■■■■■■■■■■■■■■■■■■■■■■■■■■■■■■■■■■■|\n",
      " 10000 번 이상없이 체크완료\n"
     ]
    }
   ],
   "source": [
    "ck()"
   ]
  },
  {
   "cell_type": "code",
   "execution_count": 23,
   "id": "93f4dd3c-00c9-48e3-8e30-129e071d5c6c",
   "metadata": {},
   "outputs": [
    {
     "name": "stdout",
     "output_type": "stream",
     "text": [
      "100% |■■■■■■■■■■|\r"
     ]
    }
   ],
   "source": [
    "import time as t\n",
    "str = '■'\n",
    "for i in range(101):    \n",
    "    print(f'{i:<3}% |{str * (i//10):<10}|' ,end=\"\\r\")\n",
    "    str\n",
    "    t.sleep(0.1)"
   ]
  },
  {
   "cell_type": "code",
   "execution_count": null,
   "id": "18a15b3d-56b1-44f9-ba45-9d8d565fbe38",
   "metadata": {},
   "outputs": [],
   "source": []
  }
 ],
 "metadata": {
  "kernelspec": {
   "display_name": "Python 3 (ipykernel)",
   "language": "python",
   "name": "python3"
  },
  "language_info": {
   "codemirror_mode": {
    "name": "ipython",
    "version": 3
   },
   "file_extension": ".py",
   "mimetype": "text/x-python",
   "name": "python",
   "nbconvert_exporter": "python",
   "pygments_lexer": "ipython3",
   "version": "3.11.2"
  }
 },
 "nbformat": 4,
 "nbformat_minor": 5
}
