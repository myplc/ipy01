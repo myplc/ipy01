{
 "cells": [
  {
   "cell_type": "markdown",
   "id": "3c356d79-10f9-462c-8a67-f5708aed02a8",
   "metadata": {},
   "source": [
    "# 데이터 수집과 분석"
   ]
  },
  {
   "cell_type": "markdown",
   "id": "41144178-45bf-4bc1-b0b4-b89b00826460",
   "metadata": {},
   "source": [
    "## 관련모듈 설치"
   ]
  },
  {
   "cell_type": "code",
   "execution_count": null,
   "id": "1492dc4c-2ae0-4e87-9015-da67b056b9b7",
   "metadata": {},
   "outputs": [
    {
     "name": "stdout",
     "output_type": "stream",
     "text": [
      "Looking in indexes: https://pypi.org/simple, https://www.piwheels.org/simple\n",
      "Collecting konlpy\n",
      "  Using cached konlpy-0.6.0-py2.py3-none-any.whl (19.4 MB)\n",
      "Collecting JPype1>=0.7.0 (from konlpy)\n",
      "  Using cached https://www.piwheels.org/simple/jpype1/JPype1-1.5.0-cp39-cp39-linux_armv7l.whl (438 kB)\n",
      "Collecting lxml>=4.1.0 (from konlpy)\n",
      "  Using cached lxml-5.1.0.tar.gz (3.8 MB)\n",
      "  Installing build dependencies ... \u001b[?25ldone\n",
      "\u001b[?25h  Getting requirements to build wheel ... \u001b[?25ldone\n",
      "\u001b[?25h  Preparing metadata (pyproject.toml) ... \u001b[?25ldone\n",
      "\u001b[?25hRequirement already satisfied: numpy>=1.6 in /home/pi04/.pyenv/versions/3.9.18/envs/p39/lib/python3.9/site-packages (from konlpy) (1.26.3)\n",
      "Requirement already satisfied: packaging in /home/pi04/.pyenv/versions/3.9.18/envs/p39/lib/python3.9/site-packages (from JPype1>=0.7.0->konlpy) (23.2)\n",
      "Building wheels for collected packages: lxml\n",
      "  Building wheel for lxml (pyproject.toml) ... \u001b[?25l|"
     ]
    }
   ],
   "source": [
    "# !pip install requests\n",
    "!pip install konlpy"
   ]
  },
  {
   "cell_type": "markdown",
   "id": "69ad31bd-ca6b-4e47-a23d-2ec687543d37",
   "metadata": {},
   "source": [
    "## 파싱할 데이터 가져오기"
   ]
  },
  {
   "cell_type": "code",
   "execution_count": null,
   "id": "51587ff7-20c7-4e0d-9d20-9da513979e52",
   "metadata": {},
   "outputs": [],
   "source": [
    "import requests as req\n",
    "import re as r # 정규표현식\n",
    "from bs4 import BeautifulSoup as bs\n",
    "params={'sub':'town','cortar_no':'2600000000'}\n",
    "url= 'https://land.naver.com/community/ourtown.naver' # ?sub=town&cortar_no=2600000000'\n",
    "headers = { 'User-Agent': 'Mozilla/5.0 (Windows NT 10.0; Win64; x64; rv:91.0) Gecko/20100101 Firefox/91.0'} #헤더로 봇 아닌 것처럼\n",
    "web = req.get(url, params=params, headers=headers)\n",
    "soup = bs(web.content, \"html.parser\")\n",
    "con = str(soup.select(\"a\"))\n",
    "rr = r.sub(\"[^가-힣]\",\" \",con) # 한글만 추출해보기 그외는 삭제"
   ]
  },
  {
   "cell_type": "markdown",
   "id": "bdf99023-ddde-4ddb-97ed-765b8e27a66c",
   "metadata": {},
   "source": [
    "## konlpy 설치하여 형태소 분리"
   ]
  },
  {
   "cell_type": "code",
   "execution_count": 2,
   "id": "dfe5b333-3d5f-4eaa-8056-cd92f5d4a065",
   "metadata": {},
   "outputs": [
    {
     "ename": "ModuleNotFoundError",
     "evalue": "No module named 'konlpy'",
     "output_type": "error",
     "traceback": [
      "\u001b[0;31m---------------------------------------------------------------------------\u001b[0m",
      "\u001b[0;31mModuleNotFoundError\u001b[0m                       Traceback (most recent call last)",
      "Cell \u001b[0;32mIn[2], line 1\u001b[0m\n\u001b[0;32m----> 1\u001b[0m \u001b[38;5;28;01mfrom\u001b[39;00m \u001b[38;5;21;01mkonlpy\u001b[39;00m\u001b[38;5;21;01m.\u001b[39;00m\u001b[38;5;21;01mtag\u001b[39;00m \u001b[38;5;28;01mimport\u001b[39;00m Okt\n\u001b[1;32m      2\u001b[0m \u001b[38;5;28;01mfrom\u001b[39;00m \u001b[38;5;21;01mcollections\u001b[39;00m \u001b[38;5;28;01mimport\u001b[39;00m Counter\n",
      "\u001b[0;31mModuleNotFoundError\u001b[0m: No module named 'konlpy'"
     ]
    }
   ],
   "source": [
    "from konlpy.tag import Okt\n",
    "from collections import Counter\n",
    "okt =Okt()\n",
    "txt = okt.morphs(rr)\n",
    "nlist=[]\n",
    "blacklist=['광고','구매','특가']\n",
    "for n, v in enumerate(txt):\n",
    "    if len(v)>1 and v not in blacklist:\n",
    "        nlist.append(v)\n",
    "ct = Counter(nlist)\n",
    "result =ct.most_common(100)\n",
    "result"
   ]
  },
  {
   "cell_type": "code",
   "execution_count": null,
   "id": "5f34cc98-0a90-4c40-85cb-4f719e712b8c",
   "metadata": {},
   "outputs": [],
   "source": []
  },
  {
   "cell_type": "code",
   "execution_count": null,
   "id": "5e222a2b-07d7-46e4-ad6c-f61c35cfd103",
   "metadata": {},
   "outputs": [],
   "source": []
  },
  {
   "cell_type": "code",
   "execution_count": null,
   "id": "fdc9f042-f760-4b4a-9576-9be2d96bb119",
   "metadata": {},
   "outputs": [],
   "source": []
  },
  {
   "cell_type": "code",
   "execution_count": null,
   "id": "97e190db-d32b-4313-81b5-7c85427c998c",
   "metadata": {},
   "outputs": [],
   "source": []
  },
  {
   "cell_type": "code",
   "execution_count": null,
   "id": "b3251f64-a9b3-41d8-b025-0e259f3231e1",
   "metadata": {},
   "outputs": [],
   "source": []
  },
  {
   "cell_type": "code",
   "execution_count": null,
   "id": "840f54c8-b140-46b1-8943-0311e6f74eed",
   "metadata": {},
   "outputs": [],
   "source": []
  },
  {
   "cell_type": "code",
   "execution_count": null,
   "id": "8444a821-90ef-48fa-bd38-2be2ac2a4500",
   "metadata": {},
   "outputs": [],
   "source": []
  },
  {
   "cell_type": "code",
   "execution_count": null,
   "id": "2f2be878-1fab-4726-8483-802f8f7fd5e5",
   "metadata": {},
   "outputs": [],
   "source": []
  },
  {
   "cell_type": "code",
   "execution_count": null,
   "id": "2425a8c6-dc69-4a16-a80b-72da861ad9e1",
   "metadata": {},
   "outputs": [],
   "source": []
  },
  {
   "cell_type": "code",
   "execution_count": null,
   "id": "dfc67306-ceec-48ff-971b-1a17e0ba0b84",
   "metadata": {},
   "outputs": [],
   "source": []
  },
  {
   "cell_type": "code",
   "execution_count": null,
   "id": "5775b153-3215-4773-9133-0e1fec7c147a",
   "metadata": {},
   "outputs": [],
   "source": []
  },
  {
   "cell_type": "code",
   "execution_count": null,
   "id": "955390e3-2563-4c17-8d91-1384ae7d3a98",
   "metadata": {},
   "outputs": [],
   "source": []
  },
  {
   "cell_type": "code",
   "execution_count": null,
   "id": "08d4e1db-92e6-4134-8994-aaab624f08c9",
   "metadata": {},
   "outputs": [],
   "source": []
  },
  {
   "cell_type": "code",
   "execution_count": null,
   "id": "eb21de09-8fe7-4607-a57d-ecb2fb412a49",
   "metadata": {},
   "outputs": [],
   "source": []
  },
  {
   "cell_type": "code",
   "execution_count": null,
   "id": "2a233035-7b29-4587-ad34-2953a2825ea2",
   "metadata": {},
   "outputs": [],
   "source": []
  },
  {
   "cell_type": "code",
   "execution_count": null,
   "id": "0ad284d4-cbfa-4b5d-a7d7-7f3115cb8710",
   "metadata": {},
   "outputs": [],
   "source": []
  },
  {
   "cell_type": "code",
   "execution_count": null,
   "id": "5be3ebfa-6ef3-4193-9e7e-bb4dde1a1b77",
   "metadata": {},
   "outputs": [],
   "source": []
  },
  {
   "cell_type": "code",
   "execution_count": null,
   "id": "6ba60467-0993-4c86-86e9-628a79e12b17",
   "metadata": {},
   "outputs": [],
   "source": []
  },
  {
   "cell_type": "markdown",
   "id": "fca50a89-ed58-4e9b-a026-10e06aabfcf4",
   "metadata": {},
   "source": [
    "# IIOT 센서들"
   ]
  },
  {
   "cell_type": "markdown",
   "id": "16bc664e-6dd2-48cd-ae38-9c394cdf91d8",
   "metadata": {},
   "source": [
    "## 온습도센서"
   ]
  },
  {
   "cell_type": "code",
   "execution_count": 1,
   "id": "b46d27ac-9265-4d56-a3a8-554acb7ddf16",
   "metadata": {},
   "outputs": [
    {
     "name": "stdout",
     "output_type": "stream",
     "text": [
      "패키지 목록을 읽는 중입니다... 완료0%\n",
      "의존성 트리를 만드는 중입니다... 완료%\n",
      "상태 정보를 읽는 중입니다... 완료          \n",
      "python3-dev is already the newest version (3.11.2-1).\n",
      "python3-pip is already the newest version (23.0.1+dfsg-1+rpt1).\n",
      "0개 업그레이드, 0개 새로 설치, 0개 제거 및 9개 업그레이드 안 함.\n"
     ]
    }
   ],
   "source": [
    "!sudo apt-get install python3-dev python3-pip"
   ]
  },
  {
   "cell_type": "code",
   "execution_count": 2,
   "id": "43b41284-38e9-4d28-8413-536fe1e4540d",
   "metadata": {},
   "outputs": [
    {
     "name": "stdout",
     "output_type": "stream",
     "text": [
      "Looking in indexes: https://pypi.org/simple, https://www.piwheels.org/simple\n",
      "Requirement already satisfied: setuptools in /home/pi04/.pyenv/versions/3.9.18/envs/p39/lib/python3.9/site-packages (69.0.3)\n",
      "Requirement already satisfied: wheel in /home/pi04/.pyenv/versions/3.9.18/envs/p39/lib/python3.9/site-packages (0.42.0)\n"
     ]
    }
   ],
   "source": [
    "!pip install setuptools wheel"
   ]
  },
  {
   "cell_type": "code",
   "execution_count": 4,
   "id": "af1b8530-43e4-4adb-86ea-07a87a2f2f1c",
   "metadata": {},
   "outputs": [
    {
     "name": "stdout",
     "output_type": "stream",
     "text": [
      "Looking in indexes: https://pypi.org/simple, https://www.piwheels.org/simple\n",
      "Collecting Adafruit_DHT\n",
      "  Using cached Adafruit_DHT-1.4.0.tar.gz (15 kB)\n",
      "  Preparing metadata (setup.py) ... \u001b[?25ldone\n",
      "\u001b[?25hBuilding wheels for collected packages: Adafruit_DHT\n",
      "  Building wheel for Adafruit_DHT (setup.py) ... \u001b[?25lerror\n",
      "  \u001b[1;31merror\u001b[0m: \u001b[1msubprocess-exited-with-error\u001b[0m\n",
      "  \n",
      "  \u001b[31m×\u001b[0m \u001b[32mpython setup.py bdist_wheel\u001b[0m did not run successfully.\n",
      "  \u001b[31m│\u001b[0m exit code: \u001b[1;36m1\u001b[0m\n",
      "  \u001b[31m╰─>\u001b[0m \u001b[31m[1 lines of output]\u001b[0m\n",
      "  \u001b[31m   \u001b[0m Could not detect if running on the Raspberry Pi or Beaglebone Black.  If this failure is unexpected, you can run again with --force-pi or --force-bbb parameter to force using the Raspberry Pi or Beaglebone Black respectively.\n",
      "  \u001b[31m   \u001b[0m \u001b[31m[end of output]\u001b[0m\n",
      "  \n",
      "  \u001b[1;35mnote\u001b[0m: This error originates from a subprocess, and is likely not a problem with pip.\n",
      "\u001b[31m  ERROR: Failed building wheel for Adafruit_DHT\u001b[0m\u001b[31m\n",
      "\u001b[0m\u001b[?25h  Running setup.py clean for Adafruit_DHT\n",
      "Failed to build Adafruit_DHT\n",
      "\u001b[31mERROR: Could not build wheels for Adafruit_DHT, which is required to install pyproject.toml-based projects\u001b[0m\u001b[31m\n",
      "\u001b[0m"
     ]
    }
   ],
   "source": [
    "!pip install Adafruit_DHT"
   ]
  },
  {
   "cell_type": "code",
   "execution_count": 5,
   "id": "b2c11aa6-48a6-442f-b3eb-7fc0d8b85fe8",
   "metadata": {
    "scrolled": true
   },
   "outputs": [],
   "source": [
    "import sys\n",
    "sys.executable, sys.path\n",
    "sys.path.append(\"PATH\")\n",
    "sys.path.append(\"/usr/local/lib/python3.11/dist-packages\")\n",
    "sys.path.append(\"/usr/local/lib/python3.11/dist-packages/Adafruit_DHT-1.4.0-py3.11-linux-aarch64.egg\")\n",
    "sys.path.append(\"/usr/local/lib/python3.6.9/dist-packages/Adafruit_DHT-1.4.0-py3.11-linux-aarch64.egg\")"
   ]
  },
  {
   "cell_type": "code",
   "execution_count": 13,
   "id": "377d9d30-2405-4f90-9ed5-0871ea7154d0",
   "metadata": {},
   "outputs": [],
   "source": [
    "import Adafruit_DHT"
   ]
  },
  {
   "cell_type": "code",
   "execution_count": 14,
   "id": "f61ad76f-9e6f-4510-807b-3de3d0229de3",
   "metadata": {},
   "outputs": [
    {
     "ename": "RuntimeError",
     "evalue": "Unknown platform.",
     "output_type": "error",
     "traceback": [
      "\u001b[0;31m---------------------------------------------------------------------------\u001b[0m",
      "\u001b[0;31mRuntimeError\u001b[0m                              Traceback (most recent call last)",
      "Cell \u001b[0;32mIn[14], line 4\u001b[0m\n\u001b[1;32m      2\u001b[0m sensor \u001b[38;5;241m=\u001b[39m Adafruit_DHT\u001b[38;5;241m.\u001b[39mDHT11\n\u001b[1;32m      3\u001b[0m pin \u001b[38;5;241m=\u001b[39m \u001b[38;5;241m2\u001b[39m\n\u001b[0;32m----> 4\u001b[0m humidity, temperature \u001b[38;5;241m=\u001b[39m \u001b[43mAdafruit_DHT\u001b[49m\u001b[38;5;241;43m.\u001b[39;49m\u001b[43mread\u001b[49m\u001b[43m(\u001b[49m\u001b[43msensor\u001b[49m\u001b[43m,\u001b[49m\u001b[43m \u001b[49m\u001b[43mpin\u001b[49m\u001b[43m)\u001b[49m\n\u001b[1;32m      5\u001b[0m \u001b[38;5;66;03m# dir(sensor)\u001b[39;00m\n",
      "File \u001b[0;32m/usr/local/lib/python3.11/dist-packages/Adafruit_DHT-1.4.0-py3.11-linux-aarch64.egg/Adafruit_DHT/common.py:80\u001b[0m, in \u001b[0;36mread\u001b[0;34m(sensor, pin, platform)\u001b[0m\n\u001b[1;32m     78\u001b[0m     \u001b[38;5;28;01mraise\u001b[39;00m \u001b[38;5;167;01mValueError\u001b[39;00m(\u001b[38;5;124m'\u001b[39m\u001b[38;5;124mExpected DHT11, DHT22, or AM2302 sensor value.\u001b[39m\u001b[38;5;124m'\u001b[39m)\n\u001b[1;32m     79\u001b[0m \u001b[38;5;28;01mif\u001b[39;00m platform \u001b[38;5;129;01mis\u001b[39;00m \u001b[38;5;28;01mNone\u001b[39;00m:\n\u001b[0;32m---> 80\u001b[0m     platform \u001b[38;5;241m=\u001b[39m \u001b[43mget_platform\u001b[49m\u001b[43m(\u001b[49m\u001b[43m)\u001b[49m\n\u001b[1;32m     81\u001b[0m \u001b[38;5;28;01mreturn\u001b[39;00m platform\u001b[38;5;241m.\u001b[39mread(sensor, pin)\n",
      "File \u001b[0;32m/usr/local/lib/python3.11/dist-packages/Adafruit_DHT-1.4.0-py3.11-linux-aarch64.egg/Adafruit_DHT/common.py:63\u001b[0m, in \u001b[0;36mget_platform\u001b[0;34m()\u001b[0m\n\u001b[1;32m     61\u001b[0m     \u001b[38;5;28;01mreturn\u001b[39;00m Beaglebone_Black\n\u001b[1;32m     62\u001b[0m \u001b[38;5;28;01melse\u001b[39;00m:\n\u001b[0;32m---> 63\u001b[0m     \u001b[38;5;28;01mraise\u001b[39;00m \u001b[38;5;167;01mRuntimeError\u001b[39;00m(\u001b[38;5;124m'\u001b[39m\u001b[38;5;124mUnknown platform.\u001b[39m\u001b[38;5;124m'\u001b[39m)\n",
      "\u001b[0;31mRuntimeError\u001b[0m: Unknown platform."
     ]
    }
   ],
   "source": [
    "import Adafruit_DHT\n",
    "sensor = Adafruit_DHT.DHT11\n",
    "pin = 2\n",
    "humidity, temperature = Adafruit_DHT.read(sensor, pin)\n",
    "# dir(sensor)"
   ]
  },
  {
   "cell_type": "markdown",
   "id": "e65315e1-7f50-491e-becb-50542b41af4b",
   "metadata": {},
   "source": [
    "---"
   ]
  },
  {
   "cell_type": "code",
   "execution_count": 5,
   "id": "df863dc5-12a2-47a0-8da6-bc1e59f65083",
   "metadata": {},
   "outputs": [
    {
     "name": "stdout",
     "output_type": "stream",
     "text": [
      "Looking in indexes: https://pypi.org/simple, https://www.piwheels.org/simple\n",
      "Requirement already satisfied: adafruit-circuitpython-dht in /home/pi04/.pyenv/versions/3.9.18/envs/p39/lib/python3.9/site-packages (4.0.4)\n",
      "Requirement already satisfied: Adafruit-Blinka in /home/pi04/.pyenv/versions/3.9.18/envs/p39/lib/python3.9/site-packages (from adafruit-circuitpython-dht) (8.31.0)\n",
      "Requirement already satisfied: Adafruit-PlatformDetect>=3.53.0 in /home/pi04/.pyenv/versions/3.9.18/envs/p39/lib/python3.9/site-packages (from Adafruit-Blinka->adafruit-circuitpython-dht) (3.59.0)\n",
      "Requirement already satisfied: Adafruit-PureIO>=1.1.7 in /home/pi04/.pyenv/versions/3.9.18/envs/p39/lib/python3.9/site-packages (from Adafruit-Blinka->adafruit-circuitpython-dht) (1.1.11)\n",
      "Requirement already satisfied: pyftdi>=0.40.0 in /home/pi04/.pyenv/versions/3.9.18/envs/p39/lib/python3.9/site-packages (from Adafruit-Blinka->adafruit-circuitpython-dht) (0.55.0)\n",
      "Requirement already satisfied: adafruit-circuitpython-typing in /home/pi04/.pyenv/versions/3.9.18/envs/p39/lib/python3.9/site-packages (from Adafruit-Blinka->adafruit-circuitpython-dht) (1.9.6)\n",
      "Requirement already satisfied: RPi.GPIO in /home/pi04/.pyenv/versions/3.9.18/envs/p39/lib/python3.9/site-packages (from Adafruit-Blinka->adafruit-circuitpython-dht) (0.7.1)\n",
      "Requirement already satisfied: rpi-ws281x>=4.0.0 in /home/pi04/.pyenv/versions/3.9.18/envs/p39/lib/python3.9/site-packages (from Adafruit-Blinka->adafruit-circuitpython-dht) (5.0.0)\n",
      "Requirement already satisfied: sysv-ipc>=1.1.0 in /home/pi04/.pyenv/versions/3.9.18/envs/p39/lib/python3.9/site-packages (from Adafruit-Blinka->adafruit-circuitpython-dht) (1.1.0)\n",
      "Requirement already satisfied: pyusb!=1.2.0,>=1.0.0 in /home/pi04/.pyenv/versions/3.9.18/envs/p39/lib/python3.9/site-packages (from pyftdi>=0.40.0->Adafruit-Blinka->adafruit-circuitpython-dht) (1.2.1)\n",
      "Requirement already satisfied: pyserial>=3.0 in /home/pi04/.pyenv/versions/3.9.18/envs/p39/lib/python3.9/site-packages (from pyftdi>=0.40.0->Adafruit-Blinka->adafruit-circuitpython-dht) (3.5)\n",
      "Requirement already satisfied: adafruit-circuitpython-busdevice in /home/pi04/.pyenv/versions/3.9.18/envs/p39/lib/python3.9/site-packages (from adafruit-circuitpython-typing->Adafruit-Blinka->adafruit-circuitpython-dht) (5.2.6)\n",
      "Requirement already satisfied: adafruit-circuitpython-requests in /home/pi04/.pyenv/versions/3.9.18/envs/p39/lib/python3.9/site-packages (from adafruit-circuitpython-typing->Adafruit-Blinka->adafruit-circuitpython-dht) (2.0.4)\n",
      "Requirement already satisfied: typing-extensions~=4.0 in /home/pi04/.pyenv/versions/3.9.18/envs/p39/lib/python3.9/site-packages (from adafruit-circuitpython-typing->Adafruit-Blinka->adafruit-circuitpython-dht) (4.9.0)\n"
     ]
    }
   ],
   "source": [
    "!pip3 install adafruit-circuitpython-dht"
   ]
  },
  {
   "cell_type": "code",
   "execution_count": 15,
   "id": "544e91b1-04d8-4d86-a356-a1876000c14e",
   "metadata": {},
   "outputs": [
    {
     "ename": "ModuleNotFoundError",
     "evalue": "No module named 'RPi'",
     "output_type": "error",
     "traceback": [
      "\u001b[0;31m---------------------------------------------------------------------------\u001b[0m",
      "\u001b[0;31mModuleNotFoundError\u001b[0m                       Traceback (most recent call last)",
      "Cell \u001b[0;32mIn[15], line 1\u001b[0m\n\u001b[0;32m----> 1\u001b[0m \u001b[38;5;28;01mimport\u001b[39;00m \u001b[38;5;21;01madafruit_dht\u001b[39;00m\n\u001b[1;32m      2\u001b[0m \u001b[38;5;28;01mfrom\u001b[39;00m \u001b[38;5;21;01mtime\u001b[39;00m \u001b[38;5;28;01mimport\u001b[39;00m time\n\u001b[1;32m      3\u001b[0m \u001b[38;5;28;01mfrom\u001b[39;00m \u001b[38;5;21;01mtime\u001b[39;00m \u001b[38;5;28;01mimport\u001b[39;00m sleep\n",
      "File \u001b[0;32m/usr/local/lib/python3.11/dist-packages/adafruit_dht.py:32\u001b[0m\n\u001b[1;32m     30\u001b[0m \u001b[38;5;28;01mimport\u001b[39;00m \u001b[38;5;21;01mtime\u001b[39;00m\n\u001b[1;32m     31\u001b[0m \u001b[38;5;28;01mfrom\u001b[39;00m \u001b[38;5;21;01mos\u001b[39;00m \u001b[38;5;28;01mimport\u001b[39;00m uname\n\u001b[0;32m---> 32\u001b[0m \u001b[38;5;28;01mfrom\u001b[39;00m \u001b[38;5;21;01mdigitalio\u001b[39;00m \u001b[38;5;28;01mimport\u001b[39;00m DigitalInOut, Pull, Direction\n\u001b[1;32m     34\u001b[0m _USE_PULSEIO \u001b[38;5;241m=\u001b[39m \u001b[38;5;28;01mFalse\u001b[39;00m\n\u001b[1;32m     35\u001b[0m \u001b[38;5;28;01mtry\u001b[39;00m:\n",
      "File \u001b[0;32m/usr/local/lib/python3.11/dist-packages/digitalio.py:25\u001b[0m\n\u001b[1;32m     18\u001b[0m \u001b[38;5;28;01mif\u001b[39;00m detector\u001b[38;5;241m.\u001b[39mchip\u001b[38;5;241m.\u001b[39mBCM2XXX:\n\u001b[1;32m     19\u001b[0m     \u001b[38;5;28;01mif\u001b[39;00m board_id \u001b[38;5;129;01min\u001b[39;00m (\n\u001b[1;32m     20\u001b[0m         \u001b[38;5;124m\"\u001b[39m\u001b[38;5;124mRASPBERRY_PI_4B\u001b[39m\u001b[38;5;124m\"\u001b[39m,\n\u001b[1;32m     21\u001b[0m         \u001b[38;5;124m\"\u001b[39m\u001b[38;5;124mRASPBERRY_PI_400\u001b[39m\u001b[38;5;124m\"\u001b[39m,\n\u001b[1;32m     22\u001b[0m         \u001b[38;5;124m\"\u001b[39m\u001b[38;5;124mRASPBERRY_PI_CM4\u001b[39m\u001b[38;5;124m\"\u001b[39m,\n\u001b[1;32m     23\u001b[0m         \u001b[38;5;124m\"\u001b[39m\u001b[38;5;124mRASPBERRY_PI_CM4S\u001b[39m\u001b[38;5;124m\"\u001b[39m,\n\u001b[1;32m     24\u001b[0m     ):\n\u001b[0;32m---> 25\u001b[0m         \u001b[38;5;28;01mfrom\u001b[39;00m \u001b[38;5;21;01madafruit_blinka\u001b[39;00m\u001b[38;5;21;01m.\u001b[39;00m\u001b[38;5;21;01mmicrocontroller\u001b[39;00m\u001b[38;5;21;01m.\u001b[39;00m\u001b[38;5;21;01mbcm2711\u001b[39;00m\u001b[38;5;21;01m.\u001b[39;00m\u001b[38;5;21;01mpin\u001b[39;00m \u001b[38;5;28;01mimport\u001b[39;00m \u001b[38;5;241m*\u001b[39m\n\u001b[1;32m     26\u001b[0m     \u001b[38;5;28;01melif\u001b[39;00m board_id \u001b[38;5;129;01min\u001b[39;00m (\u001b[38;5;124m\"\u001b[39m\u001b[38;5;124mRASPBERRY_PI_5\u001b[39m\u001b[38;5;124m\"\u001b[39m,):\n\u001b[1;32m     27\u001b[0m         \u001b[38;5;28;01mfrom\u001b[39;00m \u001b[38;5;21;01madafruit_blinka\u001b[39;00m\u001b[38;5;21;01m.\u001b[39;00m\u001b[38;5;21;01mmicrocontroller\u001b[39;00m\u001b[38;5;21;01m.\u001b[39;00m\u001b[38;5;21;01mbcm2712\u001b[39;00m\u001b[38;5;21;01m.\u001b[39;00m\u001b[38;5;21;01mpin\u001b[39;00m \u001b[38;5;28;01mimport\u001b[39;00m \u001b[38;5;241m*\u001b[39m\n",
      "File \u001b[0;32m/usr/local/lib/python3.11/dist-packages/adafruit_blinka/microcontroller/bcm2711/pin.py:5\u001b[0m\n\u001b[1;32m      1\u001b[0m \u001b[38;5;66;03m# SPDX-FileCopyrightText: 2021 Melissa LeBlanc-Williams for Adafruit Industries\u001b[39;00m\n\u001b[1;32m      2\u001b[0m \u001b[38;5;66;03m#\u001b[39;00m\n\u001b[1;32m      3\u001b[0m \u001b[38;5;66;03m# SPDX-License-Identifier: MIT\u001b[39;00m\n\u001b[1;32m      4\u001b[0m \u001b[38;5;124;03m\"\"\"Broadcom BCM2711 pin names\"\"\"\u001b[39;00m\n\u001b[0;32m----> 5\u001b[0m \u001b[38;5;28;01mfrom\u001b[39;00m \u001b[38;5;21;01mRPi\u001b[39;00m \u001b[38;5;28;01mimport\u001b[39;00m GPIO\n\u001b[1;32m      6\u001b[0m \u001b[38;5;28;01mfrom\u001b[39;00m \u001b[38;5;21;01madafruit_blinka\u001b[39;00m\u001b[38;5;21;01m.\u001b[39;00m\u001b[38;5;21;01mmicrocontroller\u001b[39;00m\u001b[38;5;21;01m.\u001b[39;00m\u001b[38;5;21;01mbcm283x\u001b[39;00m\u001b[38;5;21;01m.\u001b[39;00m\u001b[38;5;21;01mpin\u001b[39;00m \u001b[38;5;28;01mimport\u001b[39;00m Pin\n\u001b[1;32m      8\u001b[0m GPIO\u001b[38;5;241m.\u001b[39msetmode(GPIO\u001b[38;5;241m.\u001b[39mBCM)  \u001b[38;5;66;03m# Use BCM pins D4 = GPIO #4\u001b[39;00m\n",
      "\u001b[0;31mModuleNotFoundError\u001b[0m: No module named 'RPi'"
     ]
    }
   ],
   "source": [
    "import adafruit_dht\n",
    "from time import time\n",
    "from time import sleep\n",
    "from board import D2\n",
    "\n",
    "sensor = adafruit_dht.DHT11(D2)\n",
    "print(sensor)\n",
    "# while (True):\n",
    "#     hum = sensor.humidity\n",
    "#     temp = sensor.temperature\n",
    "\n",
    "#     ts_ns = int(time() * 1000000000)\n",
    "#     if hum is not None and temp is not None:\n",
    "#         print(f'temperature,{ts_ns},{temp}')\n",
    "#         print(f'humidity,{ts_ns},{hum}')\n",
    "#         sleep(1)"
   ]
  },
  {
   "cell_type": "markdown",
   "id": "6872ace6-f23f-4549-b75a-216639711f17",
   "metadata": {},
   "source": [
    "---"
   ]
  },
  {
   "cell_type": "markdown",
   "id": "d5d4a1fb-8b92-41ff-b810-517b60eadd48",
   "metadata": {},
   "source": [
    "## 시리얼 통신용 센서(일시정지)"
   ]
  },
  {
   "cell_type": "code",
   "execution_count": null,
   "id": "1c8fe707-7196-4b0e-b961-3a6a6a36fcb9",
   "metadata": {},
   "outputs": [],
   "source": [
    "!python -V"
   ]
  },
  {
   "cell_type": "code",
   "execution_count": null,
   "id": "e97ce84e-77dc-4c11-9d39-f93ddf1d0c4d",
   "metadata": {},
   "outputs": [],
   "source": [
    "!sudo rm /usr/lib/python3.11/EXTERNALLY-MANAGED"
   ]
  },
  {
   "cell_type": "code",
   "execution_count": 17,
   "id": "abbf434e-e907-4341-9272-3b939187ab4d",
   "metadata": {},
   "outputs": [
    {
     "name": "stdout",
     "output_type": "stream",
     "text": [
      "Looking in indexes: https://pypi.org/simple, https://www.piwheels.org/simple\n",
      "Requirement already satisfied: pyserial in /home/pi04/.pyenv/versions/3.9.18/envs/p39/lib/python3.9/site-packages (3.5)\n"
     ]
    }
   ],
   "source": [
    "!pip3 install pyserial"
   ]
  },
  {
   "cell_type": "code",
   "execution_count": 3,
   "id": "6cbbfaac-fceb-4e16-b530-b01d6b2ab3ff",
   "metadata": {},
   "outputs": [
    {
     "ename": "ModuleNotFoundError",
     "evalue": "No module named 'RPi'",
     "output_type": "error",
     "traceback": [
      "\u001b[0;31m---------------------------------------------------------------------------\u001b[0m",
      "\u001b[0;31mModuleNotFoundError\u001b[0m                       Traceback (most recent call last)",
      "\u001b[0;32m<ipython-input-3-cc48f862ce44>\u001b[0m in \u001b[0;36m<module>\u001b[0;34m\u001b[0m\n\u001b[0;32m----> 1\u001b[0;31m \u001b[0;32mimport\u001b[0m \u001b[0mRPi\u001b[0m\u001b[0;34m.\u001b[0m\u001b[0mGPIO\u001b[0m \u001b[0;32mas\u001b[0m \u001b[0mGPIO\u001b[0m\u001b[0;34m\u001b[0m\u001b[0;34m\u001b[0m\u001b[0m\n\u001b[0m\u001b[1;32m      2\u001b[0m \u001b[0;32mimport\u001b[0m \u001b[0mtime\u001b[0m \u001b[0;32mas\u001b[0m \u001b[0mt\u001b[0m\u001b[0;34m\u001b[0m\u001b[0;34m\u001b[0m\u001b[0m\n",
      "\u001b[0;31mModuleNotFoundError\u001b[0m: No module named 'RPi'"
     ]
    }
   ],
   "source": [
    "import RPi.GPIO as GPIO \n",
    "import time as t"
   ]
  },
  {
   "cell_type": "code",
   "execution_count": 2,
   "id": "b5da048a-c671-4573-82b3-ce4e493e2584",
   "metadata": {},
   "outputs": [
    {
     "name": "stdout",
     "output_type": "stream",
     "text": [
      "패키지 목록을 읽는 중입니다... 완료0%\n",
      "의존성 트리를 만드는 중입니다... 완료%\n",
      "상태 정보를 읽는 중입니다... 완료          \n",
      "주의, 정규식 'RPi.GPIO'에 대해 'python3-rpi.gpio'을(를) 선택합니다\n",
      "주의, 정규식 'RPi.GPIO'에 대해 'python-rpi.gpio'을(를) 선택합니다\n",
      "주의, 정규식 'RPi.GPIO'에 대해 'rpi.gpio-common'을(를) 선택합니다\n",
      "python3-rpi.gpio is already the newest version (0.7.1~a4-1+b2).\n",
      "rpi.gpio-common is already the newest version (0.7.1~a4-1+b2).\n",
      "0개 업그레이드, 0개 새로 설치, 0개 제거 및 9개 업그레이드 안 함.\n"
     ]
    }
   ],
   "source": [
    "!sudo apt-get install RPi.GPIO "
   ]
  },
  {
   "cell_type": "code",
   "execution_count": null,
   "id": "5204ac11-bda9-47e2-b5c1-c9a656cce032",
   "metadata": {},
   "outputs": [],
   "source": []
  }
 ],
 "metadata": {
  "kernelspec": {
   "display_name": "Python 3 (ipykernel)",
   "language": "python",
   "name": "python3"
  },
  "language_info": {
   "codemirror_mode": {
    "name": "ipython",
    "version": 3
   },
   "file_extension": ".py",
   "mimetype": "text/x-python",
   "name": "python",
   "nbconvert_exporter": "python",
   "pygments_lexer": "ipython3",
   "version": "3.11.2"
  }
 },
 "nbformat": 4,
 "nbformat_minor": 5
}
