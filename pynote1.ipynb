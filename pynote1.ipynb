{
 "cells": [
  {
   "cell_type": "markdown",
   "id": "9f274526-a62d-4e5d-9e20-9014fe19047d",
   "metadata": {},
   "source": [
    "<div style=\"font-size:2em\">ML 문법</div>\n",
    "<hr/>\n",
    "\n",
    "[점프투파이썬](\"https://wikidocs.net\") <br>\n",
    "<span style=\"color:red\">파이썬 학습 노트들</span>"
   ]
  },
  {
   "cell_type": "markdown",
   "id": "c3d2bed7-de09-4404-b2ca-8b0214314d24",
   "metadata": {},
   "source": [
    "# [주피터랩 단축키]\n",
    "A : 위 셀 추가\n",
    "B : 아래 셀 추가\n",
    "Ctrl +shift + 위 : 셀 위로 이동\n",
    "Ctrl +shift + 아래: 셀 아래로 이동\n",
    "Shift +Enter : 셀 실행\n",
    "D 두번 : 셀 삭제\n",
    "X : 셀 잘라내기\n",
    "C : 셀 복사\n",
    "V : 셀 붙여넣기\n",
    "Z : Undo\n",
    "Shift + Z : Redo"
   ]
  },
  {
   "cell_type": "markdown",
   "id": "a3438277-e328-4a7b-896f-47f76617328e",
   "metadata": {},
   "source": [
    "수업시작(둘러보기)"
   ]
  },
  {
   "cell_type": "code",
   "execution_count": null,
   "id": "c142bfb7-d3da-4855-a9d3-5db7f181d62e",
   "metadata": {},
   "outputs": [],
   "source": [
    "1+1"
   ]
  },
  {
   "cell_type": "code",
   "execution_count": null,
   "id": "e082512b-2e2a-439c-9132-e9867bfc83f9",
   "metadata": {},
   "outputs": [],
   "source": [
    "print('안녕하세요')"
   ]
  },
  {
   "cell_type": "code",
   "execution_count": null,
   "id": "6d058004-5d52-4b2f-9522-ce0715eac18f",
   "metadata": {},
   "outputs": [],
   "source": [
    "a='안녕'\n",
    "b='하세요'"
   ]
  },
  {
   "cell_type": "code",
   "execution_count": null,
   "id": "aa875644-efd4-4324-a813-755e922a34d5",
   "metadata": {},
   "outputs": [],
   "source": [
    "# javascript 에서는 console.log(`${a}이고 ${b}이다.`)\n",
    "print(f'{a}이고{b}이다')"
   ]
  },
  {
   "cell_type": "code",
   "execution_count": null,
   "id": "ed806e0f-bc9b-48e3-b186-42cf62a150e0",
   "metadata": {},
   "outputs": [],
   "source": [
    "if 12 > 5 :\n",
    "    print('12가 크다')"
   ]
  },
  {
   "cell_type": "code",
   "execution_count": null,
   "id": "ceb76829-ed56-4bbb-8b6b-d9398b300a4f",
   "metadata": {},
   "outputs": [],
   "source": [
    "for v in [1,2,3,4,5]:\n",
    "    print(f'값은? {v}')"
   ]
  },
  {
   "cell_type": "code",
   "execution_count": null,
   "id": "1f618df6-7093-49af-ba55-73d975c94483",
   "metadata": {},
   "outputs": [],
   "source": [
    "i = 0\n",
    "while i < 5:\n",
    "    i+=1\n",
    "    print(i)"
   ]
  },
  {
   "cell_type": "code",
   "execution_count": null,
   "id": "dd0b84c1-b298-47f2-abbf-d9a8d8accc46",
   "metadata": {},
   "outputs": [],
   "source": [
    "def add(a,b):\n",
    "    return a+b"
   ]
  },
  {
   "cell_type": "code",
   "execution_count": null,
   "id": "39b2691a-2211-46be-9301-6e4c636abcc2",
   "metadata": {},
   "outputs": [],
   "source": [
    "add(11,33)"
   ]
  },
  {
   "cell_type": "markdown",
   "id": "a4a14411-847d-4080-998a-57a1d8be3501",
   "metadata": {},
   "source": [
    "# 기초, 자료형 p45"
   ]
  },
  {
   "cell_type": "markdown",
   "id": "e5dbf34b-e9e3-4357-9315-0b6a54104e52",
   "metadata": {},
   "source": [
    "## 숫자형"
   ]
  },
  {
   "cell_type": "markdown",
   "id": "de807dec-c773-4456-881d-1eeaf8de4399",
   "metadata": {},
   "source": [
    "### 정수형"
   ]
  },
  {
   "cell_type": "code",
   "execution_count": null,
   "id": "259da905-a3b8-439f-8024-468001512727",
   "metadata": {},
   "outputs": [],
   "source": [
    "a = 123\n",
    "b = -123\n",
    "c = 0"
   ]
  },
  {
   "cell_type": "code",
   "execution_count": null,
   "id": "7333435a-0335-45c9-b900-8ae307e128cd",
   "metadata": {},
   "outputs": [],
   "source": [
    "print(a,b,c)"
   ]
  },
  {
   "cell_type": "markdown",
   "id": "1a3c107a-e89f-488a-8e85-757f3ea5e467",
   "metadata": {},
   "source": [
    "### 실수형"
   ]
  },
  {
   "cell_type": "code",
   "execution_count": null,
   "id": "8f13074b-2f96-472f-b0d8-3d8cb46f6080",
   "metadata": {},
   "outputs": [],
   "source": [
    "aa = 1.23\n",
    "bb = -3.1415\n",
    "cc = 3.14e2 #e는 10^ 즉 e2 는 10^2 라는 뜻"
   ]
  },
  {
   "cell_type": "code",
   "execution_count": null,
   "id": "d04899e1-96a6-4a55-bbe5-f59fb8481da0",
   "metadata": {},
   "outputs": [],
   "source": [
    "print(aa,bb,cc)"
   ]
  },
  {
   "cell_type": "markdown",
   "id": "0d00d2fc-0e41-492e-a6b3-ac3a2cbf1575",
   "metadata": {},
   "source": [
    "### 8진수와 16진수 *\n",
    "    8진수 0o17 , 16진수 0x17"
   ]
  },
  {
   "cell_type": "code",
   "execution_count": null,
   "id": "3866ed38-bcd7-4053-ba6c-199ba7820fa1",
   "metadata": {},
   "outputs": [],
   "source": [
    "a = 0o17\n",
    "b = 0x17\n",
    "print(a,b)"
   ]
  },
  {
   "cell_type": "markdown",
   "id": "3733e857-bf42-4d29-a043-f1fae4f72420",
   "metadata": {},
   "source": [
    "### 숫자형을 활용하기 위한 연산자"
   ]
  },
  {
   "cell_type": "markdown",
   "id": "08cc2382-6a86-43bb-bfd3-0a644a0f674b",
   "metadata": {},
   "source": [
    "#### 사칙연산 *"
   ]
  },
  {
   "cell_type": "code",
   "execution_count": null,
   "id": "d053659d-9a6e-4885-9ad7-376da53cf399",
   "metadata": {},
   "outputs": [],
   "source": [
    "a= 1234\n",
    "b= 5678\n",
    "print(a+b)\n",
    "print(a-b)\n",
    "print(a*b)\n",
    "print(a/b)\n",
    "print(a/3)\n",
    "print(a//3)\n",
    "print(a%3)\n",
    "print(a**2,b**3)"
   ]
  },
  {
   "cell_type": "markdown",
   "id": "d3415c06-15e0-4d27-a919-2fe87576d05f",
   "metadata": {},
   "source": [
    "## 문자열 자료형 p50"
   ]
  },
  {
   "cell_type": "markdown",
   "id": "91dcf4e9-bb1b-4aac-bcc6-8facbc9e4355",
   "metadata": {},
   "source": [
    "### 문자열 만드는 법"
   ]
  },
  {
   "cell_type": "markdown",
   "id": "ad013f28-dfe5-4a76-abd8-480591ca8133",
   "metadata": {},
   "source": [
    "#### 큰따옴표 양쪽 둘러싸기"
   ]
  },
  {
   "cell_type": "code",
   "execution_count": null,
   "id": "3618d410-cfcf-45ad-aeb0-bb19c436d498",
   "metadata": {},
   "outputs": [],
   "source": [
    "\"안녕\""
   ]
  },
  {
   "cell_type": "markdown",
   "id": "41e60dd8-ea9d-407d-9b7b-50e8042bc393",
   "metadata": {},
   "source": [
    "#### 작은따옴표 양쪽 둘러싸기"
   ]
  },
  {
   "cell_type": "code",
   "execution_count": null,
   "id": "31f939cc-3103-495d-a14f-e99fdccdbeff",
   "metadata": {},
   "outputs": [],
   "source": [
    "'반가워'"
   ]
  },
  {
   "cell_type": "markdown",
   "id": "9472cb51-7766-4aad-b202-adeda8c17264",
   "metadata": {},
   "source": [
    "#### 큰따옴표 3개를 연속으로 쓰기 *"
   ]
  },
  {
   "cell_type": "code",
   "execution_count": null,
   "id": "891f8205-b4ab-41bc-82c9-e83340f12c05",
   "metadata": {},
   "outputs": [],
   "source": [
    "\"\"\"반갑다\n",
    "친구야\"\"\""
   ]
  },
  {
   "cell_type": "markdown",
   "id": "e1ac4889-eb82-432f-af56-4e61af2fee59",
   "metadata": {},
   "source": [
    "#### 작은따옴표 3개를 연속으로 쓰기"
   ]
  },
  {
   "cell_type": "code",
   "execution_count": null,
   "id": "13eb2cfc-d1d2-4a93-a3d0-d0d8f55cc4df",
   "metadata": {},
   "outputs": [],
   "source": [
    "'''고마워\n",
    "친구야'''"
   ]
  },
  {
   "cell_type": "markdown",
   "id": "12a81b99-a009-4b88-b721-2a2cc5ff31b4",
   "metadata": {},
   "source": [
    "### 문자열안에 작은 따옴표 또는 큰따옴표"
   ]
  },
  {
   "cell_type": "markdown",
   "id": "ce8eac2f-c339-497f-845b-494f498a7024",
   "metadata": {},
   "source": [
    "#### 문자열에 작은따옴표 포함하기"
   ]
  },
  {
   "cell_type": "code",
   "execution_count": 12,
   "id": "a7ea6b30-2358-4332-8982-6641ed1194d8",
   "metadata": {},
   "outputs": [
    {
     "name": "stdout",
     "output_type": "stream",
     "text": [
      "그가 '안녕하세요' 라고 말했다\n"
     ]
    }
   ],
   "source": [
    "say = \"그가 '안녕하세요' 라고 말했다\"\n",
    "print(say)"
   ]
  },
  {
   "cell_type": "markdown",
   "id": "0f8303fb-01ac-452b-9872-77a80a168d9a",
   "metadata": {},
   "source": [
    "#### 문자열에 큰따옴표 포함하기"
   ]
  },
  {
   "cell_type": "code",
   "execution_count": 17,
   "id": "9f5b6b8f-a42d-4fae-aa37-907501bd6af2",
   "metadata": {},
   "outputs": [
    {
     "name": "stdout",
     "output_type": "stream",
     "text": [
      "그가 \"안녕하세요\" 라고 말했다\n"
     ]
    }
   ],
   "source": [
    "say = '그가 \"안녕하세요\" 라고 말했다'\n",
    "print(say)"
   ]
  },
  {
   "cell_type": "markdown",
   "id": "c93cc048-f785-4753-9de7-960416d8445f",
   "metadata": {},
   "source": [
    "#### 역슬래시로 이스캐이프 문자 표현 *"
   ]
  },
  {
   "cell_type": "code",
   "execution_count": 16,
   "id": "3be74b4a-b28e-40a8-ac01-ae1f8bb0f3d1",
   "metadata": {},
   "outputs": [
    {
     "name": "stdout",
     "output_type": "stream",
     "text": [
      "그가  \"안녕하세요\" 라고 말했다\n"
     ]
    }
   ],
   "source": [
    "say = \"그가  \\\"안녕하세요\\\" 라고 말했다\"\n",
    "print(say)"
   ]
  },
  {
   "attachments": {},
   "cell_type": "markdown",
   "id": "98fed34d-0b46-4d3c-9857-2fdeb59f8270",
   "metadata": {},
   "source": [
    "### 여러 줄인 문자열을 변수에 대입하고 싶을 때(생략)"
   ]
  },
  {
   "cell_type": "markdown",
   "id": "ea0b56af-de80-46ba-9f72-605aebc95603",
   "metadata": {},
   "source": [
    "### 문자열 연산하기"
   ]
  },
  {
   "cell_type": "markdown",
   "id": "85923c1e-5172-4efa-924c-f158230d164e",
   "metadata": {},
   "source": [
    "#### 문자열 더하기"
   ]
  },
  {
   "cell_type": "code",
   "execution_count": 18,
   "id": "a5387d87-4631-48ab-90b1-8f244f7cd562",
   "metadata": {},
   "outputs": [
    {
     "name": "stdout",
     "output_type": "stream",
     "text": [
      "파이썬은 재밌다\n"
     ]
    }
   ],
   "source": [
    "a = '파이썬은'\n",
    "b = ' 재밌다'\n",
    "print(a+b)"
   ]
  },
  {
   "cell_type": "markdown",
   "id": "981e3eb2-ed87-48a5-b54c-05efae0a4af2",
   "metadata": {},
   "source": [
    "#### 문자열 곱하기 *"
   ]
  },
  {
   "cell_type": "code",
   "execution_count": 21,
   "id": "35e8a01a-7207-43b9-a397-29d05804e35a",
   "metadata": {},
   "outputs": [
    {
     "name": "stdout",
     "output_type": "stream",
     "text": [
      "배고파!! 배고파!! 배고파!! 배고파!! 배고파!! 배고파!! 배고파!! 배고파!! 배고파!! 배고파!! \n"
     ]
    }
   ],
   "source": [
    "aa = '배고파!! '\n",
    "print(aa *10)"
   ]
  },
  {
   "cell_type": "markdown",
   "id": "b640093f-659c-4e41-9878-414be6b3f316",
   "metadata": {},
   "source": [
    "#### 문자열 곱하기(응용) "
   ]
  },
  {
   "cell_type": "code",
   "execution_count": 22,
   "id": "120476a0-08dc-43a5-9591-5cc10ae300d8",
   "metadata": {},
   "outputs": [
    {
     "name": "stdout",
     "output_type": "stream",
     "text": [
      "==================================================\n",
      "나의 프로그램\n",
      "==================================================\n"
     ]
    }
   ],
   "source": [
    "print('='*50)\n",
    "print('나의 프로그램')\n",
    "print('='*50)"
   ]
  },
  {
   "cell_type": "markdown",
   "id": "91c62835-8013-4233-aef2-7abaac01be97",
   "metadata": {},
   "source": [
    "#### 문자열 길이 구하기 *"
   ]
  },
  {
   "cell_type": "code",
   "execution_count": 25,
   "id": "1acb8b81-617b-4ac3-abed-ab4693fca676",
   "metadata": {},
   "outputs": [
    {
     "data": {
      "text/plain": [
       "17"
      ]
     },
     "execution_count": 25,
     "metadata": {},
     "output_type": "execute_result"
    }
   ],
   "source": [
    "a = \"Life is too short\"\n",
    "len(a)"
   ]
  },
  {
   "cell_type": "markdown",
   "id": "12d8396a-faea-4f69-9705-584753f26f73",
   "metadata": {},
   "source": [
    "### 문자열 인덱싱과 슬라이싱 p56 **"
   ]
  },
  {
   "attachments": {
    "eb41060b-cb6f-485f-87bd-8adb466b5d01.png": {
     "image/png": "[encoded data removed]"
    }
   },
   "cell_type": "markdown",
   "id": "8ed72703-e5bd-4e72-b2fe-239596085b65",
   "metadata": {},
   "source": [
    "#### 문자열 인덱싱\n",
    "![image.png](attachment:eb41060b-cb6f-485f-87bd-8adb466b5d01.png)"
   ]
  },
  {
   "cell_type": "code",
   "execution_count": 27,
   "id": "bb8a83ae-7202-4f87-aef4-c113a6b080cb",
   "metadata": {},
   "outputs": [
    {
     "data": {
      "text/plain": [
       "'e'"
      ]
     },
     "execution_count": 27,
     "metadata": {},
     "output_type": "execute_result"
    }
   ],
   "source": [
    "a = \"Life is too short, You need Python\"\n",
    "a[3]"
   ]
  },
  {
   "cell_type": "markdown",
   "id": "267d3d5a-d4c6-43c8-aafb-fe253b8fada1",
   "metadata": {},
   "source": [
    "#### 문자열 인덱싱 활용하기"
   ]
  },
  {
   "cell_type": "code",
   "execution_count": 33,
   "id": "d870e9b4-6dff-4936-85fd-d86541cc1a95",
   "metadata": {},
   "outputs": [
    {
     "name": "stdout",
     "output_type": "stream",
     "text": [
      "L L\n",
      "s\n",
      "n o y\n"
     ]
    }
   ],
   "source": [
    "a = \"Life is too short, You need Python\"\n",
    "print(a[0],a[-0])\n",
    "print(a[12])\n",
    "print(a[-1],a[-2],a[-5])"
   ]
  },
  {
   "cell_type": "markdown",
   "id": "ab68a560-2281-4b94-a5f2-9aa3b9b85e94",
   "metadata": {},
   "source": [
    "#### 문자열 슬라이싱"
   ]
  },
  {
   "cell_type": "code",
   "execution_count": 34,
   "id": "e3de5c86-1f5d-485c-801f-6f4d7f44f8c0",
   "metadata": {},
   "outputs": [
    {
     "name": "stdout",
     "output_type": "stream",
     "text": [
      "Life\n"
     ]
    }
   ],
   "source": [
    "a = \"Life is too short, You need Python\"\n",
    "b = a[0] + a[1] + a[2] + a[3]\n",
    "print(b)"
   ]
  },
  {
   "cell_type": "code",
   "execution_count": 37,
   "id": "d5918391-e027-4a3e-bd5a-9bbf892cf695",
   "metadata": {},
   "outputs": [
    {
     "name": "stdout",
     "output_type": "stream",
     "text": [
      "Life\n"
     ]
    }
   ],
   "source": [
    "a = \"Life is too short, You need Python\"\n",
    "print(a[0:4]) # a [시작번호 : 끝번호] , js의 예 for (let i=0; i < 10; i++)"
   ]
  },
  {
   "cell_type": "markdown",
   "id": "fc75dcb6-98be-407a-ba77-b7bcb9cb9c49",
   "metadata": {},
   "source": [
    "#### 문자열을 슬라이싱하는 방법"
   ]
  },
  {
   "cell_type": "code",
   "execution_count": 43,
   "id": "bd68e334-3a14-49b9-9f29-7c48bad6dd27",
   "metadata": {},
   "outputs": [
    {
     "name": "stdout",
     "output_type": "stream",
     "text": [
      "is\n",
      "You need Python\n",
      "Life is too short\n",
      "Life is too short, You need Python\n",
      "You need\n"
     ]
    }
   ],
   "source": [
    "a = \"Life is too short, You need Python\"\n",
    "print(a[5:7])\n",
    "print(a[19:])\n",
    "print(a[:17])\n",
    "print(a[:])\n",
    "print(a[19:-7])"
   ]
  },
  {
   "cell_type": "markdown",
   "id": "e2446efc-10b4-4445-86de-cc50378a5784",
   "metadata": {},
   "source": [
    "#### 슬라이싱으로 문자나누기(생략)"
   ]
  },
  {
   "cell_type": "markdown",
   "id": "c3ede0b8-29fc-4416-af01-5ee9dd8c8f94",
   "metadata": {},
   "source": [
    "#### 슬라이싱과 대입 *"
   ]
  },
  {
   "cell_type": "code",
   "execution_count": 52,
   "id": "8ac86236-c009-4ab9-a2aa-31e981ad1eb4",
   "metadata": {},
   "outputs": [
    {
     "name": "stdout",
     "output_type": "stream",
     "text": [
      "Pithon => Python\n"
     ]
    }
   ],
   "source": [
    "a = \"Pithon\"\n",
    "# a[1] = 'y' # 문자열은 변경불가능한 자료형\n",
    "t = a[:1] + 'y' + a[2:]\n",
    "print(a,'=>',t)"
   ]
  },
  {
   "attachments": {
    "e7754bd3-1fc8-458c-bf70-5bf98b5f359c.png": {
     "image/png": "[encoded data removed]"
    }
   },
   "cell_type": "markdown",
   "id": "9fba7857-c5ba-4234-9e36-d4489fad1ebe",
   "metadata": {},
   "source": [
    "<span style=\"color:blue\">문자열은 변경불가능한 자료형</span>\n",
    "\n",
    "![image.png](attachment:e7754bd3-1fc8-458c-bf70-5bf98b5f359c.png)"
   ]
  },
  {
   "attachments": {},
   "cell_type": "markdown",
   "id": "0e49fd14-4327-4519-a595-bc814a207cd7",
   "metadata": {},
   "source": [
    "### 문자열 포매팅\n",
    "<table style=\"float:left\">\n",
    "<thead>\n",
    "<tr>\n",
    "<th>코드</th>\n",
    "<th>설명</th>\n",
    "</tr>\n",
    "</thead>\n",
    "<tbody>\n",
    "<tr>\n",
    "<td>%s</td>\n",
    "<td>문자열(String)</td>\n",
    "</tr>\n",
    "<tr>\n",
    "<td>%c</td>\n",
    "<td>문자 1개(character)</td>\n",
    "</tr>\n",
    "<tr>\n",
    "<td>%d</td>\n",
    "<td>정수(Integer)</td>\n",
    "</tr>\n",
    "<tr>\n",
    "<td>%f</td>\n",
    "<td>부동소수(floating-point)</td>\n",
    "</tr>\n",
    "<tr>\n",
    "<td>%o</td>\n",
    "<td>8진수</td>\n",
    "</tr>\n",
    "<tr>\n",
    "<td>%x</td>\n",
    "<td>16진수</td>\n",
    "</tr>\n",
    "<tr>\n",
    "<td>%%</td>\n",
    "<td>Literal % (문자 <code>%</code> 자체)</td>\n",
    "</tr>\n",
    "</tbody>\n",
    "</table>"
   ]
  },
  {
   "cell_type": "markdown",
   "id": "d5daa55a-79da-465c-be36-2b79164944dd",
   "metadata": {},
   "source": [
    "#### 숫자바로 대입"
   ]
  },
  {
   "cell_type": "code",
   "execution_count": 67,
   "id": "f2187a2c-1c00-4936-95b8-07b96cf31c91",
   "metadata": {},
   "outputs": [
    {
     "name": "stdout",
     "output_type": "stream",
     "text": [
      "I eat 3 apples.\n",
      "I eat five apples.\n",
      "1234의 값은 8진수로 2322이고, 16진수는 4d2 이다.\n",
      "%f는 3.141500처럼 소숫점을 담을 수 있는데, 단순히 %s는 3.1415 처럼 문자열로 바꾸어 대입하기 때문에 복잡하게 생각안해도 된다.\n"
     ]
    }
   ],
   "source": [
    "print(\"I eat %d apples.\" % 3)\n",
    "print(\"I eat %s apples.\" % \"five\")\n",
    "num = 1234\n",
    "print(\"%d의 값은 8진수로 %o이고, 16진수는 %x 이다.\" %(num,num,num))\n",
    "pi = 3.1415\n",
    "print(\"%%f는 %f처럼 소숫점을 담을 수 있는데, 단순히 %%s는 %s 처럼 문자열로 바꾸어 대입하기 때문에 복잡하게 생각안해도 된다.\" %(pi,pi))"
   ]
  },
  {
   "cell_type": "markdown",
   "id": "4aba411d-cc32-4722-8206-27eb9eabf5ea",
   "metadata": {},
   "source": [
    "### 포맷코드와 숫자 함께 사용하기"
   ]
  },
  {
   "attachments": {
    "9e3ec127-be46-4db4-8d7f-787a88f53080.png": {
     "image/png": "[encoded data removed]"
    }
   },
   "cell_type": "markdown",
   "id": "08ad4d19-eb45-42de-97c1-a0c38913a149",
   "metadata": {},
   "source": [
    "#### 정렬과 공백\n",
    "오른쪽 정렬\n",
    "\n",
    "![image.png](attachment:9e3ec127-be46-4db4-8d7f-787a88f53080.png)"
   ]
  },
  {
   "cell_type": "code",
   "execution_count": 68,
   "id": "d958b481-f8f5-4752-8186-78cd87fbeaa9",
   "metadata": {},
   "outputs": [
    {
     "name": "stdout",
     "output_type": "stream",
     "text": [
      "        hi\n"
     ]
    }
   ],
   "source": [
    "print(\"%10s\" % \"hi\")"
   ]
  },
  {
   "attachments": {
    "17d95038-d281-4ad2-a404-573f4f810723.png": {
     "image/png": "[encoded data removed]"
    }
   },
   "cell_type": "markdown",
   "id": "f57d62e2-7d80-4327-b6e8-1cc2ecff92d4",
   "metadata": {},
   "source": [
    "왼쪽 정렬\n",
    "\n",
    "![image.png](attachment:17d95038-d281-4ad2-a404-573f4f810723.png)"
   ]
  },
  {
   "cell_type": "code",
   "execution_count": 70,
   "id": "7b2ad91a-4f5b-459a-a9c9-6883635608fa",
   "metadata": {},
   "outputs": [
    {
     "name": "stdout",
     "output_type": "stream",
     "text": [
      "hi        jane.\n"
     ]
    }
   ],
   "source": [
    "print(\"%-10sjane.\" % \"hi\")"
   ]
  },
  {
   "attachments": {
    "5fc1db25-4446-47b7-9d7d-8e9ce353f98d.png": {
     "image/png": "[encoded data removed]"
    }
   },
   "cell_type": "markdown",
   "id": "a00a7ca5-7e72-47fe-99a3-7b644be3d42a",
   "metadata": {},
   "source": [
    "#### 소수점 표현하기\n",
    "![image.png](attachment:5fc1db25-4446-47b7-9d7d-8e9ce353f98d.png)"
   ]
  },
  {
   "cell_type": "code",
   "execution_count": 75,
   "id": "6fafc1bd-9c35-412d-9fd9-72e253a3d81c",
   "metadata": {},
   "outputs": [
    {
     "name": "stdout",
     "output_type": "stream",
     "text": [
      "3.1416\n",
      "    3.1416kkkk\n",
      "3.1416    kkkk\n"
     ]
    }
   ],
   "source": [
    "pi = 3.141592\n",
    "print(\"%0.4f\" % pi)\n",
    "print(\"%10.4fkkkk\" % pi)\n",
    "print(\"%-10.4fkkkk\" % pi)"
   ]
  },
  {
   "cell_type": "markdown",
   "id": "468732d4-e93c-41f5-942d-843ff41e8c38",
   "metadata": {},
   "source": [
    "### format 함수를 사용한 포매팅"
   ]
  },
  {
   "cell_type": "markdown",
   "id": "b1985eef-8c6f-4389-afa1-e188183220ae",
   "metadata": {},
   "source": [
    "#### 숫자바로대입하기"
   ]
  },
  {
   "cell_type": "code",
   "execution_count": 4,
   "id": "657ecc7f-b992-4a26-9bf6-5ea223c93b27",
   "metadata": {},
   "outputs": [
    {
     "name": "stdout",
     "output_type": "stream",
     "text": [
      "I eat 1004's 777EA apples\n"
     ]
    }
   ],
   "source": [
    "a = \"I eat {0}'s {1}EA apples\".format(1004,777)\n",
    "print(a)"
   ]
  },
  {
   "cell_type": "markdown",
   "id": "79ee0fe5-710c-44bd-aebe-ce0668679c77",
   "metadata": {},
   "source": [
    "#### 숫자 값을 가진 변수로 대입하기"
   ]
  },
  {
   "cell_type": "code",
   "execution_count": 6,
   "id": "a26bf6ef-059a-4576-84c3-9cf1577f9fc3",
   "metadata": {},
   "outputs": [
    {
     "name": "stdout",
     "output_type": "stream",
     "text": [
      "I eat 1004's 777EA apples\n"
     ]
    }
   ],
   "source": [
    "a = 1004\n",
    "b = 777\n",
    "c = \"I eat {0}'s {1}EA apples\".format(a,b)\n",
    "print(c)"
   ]
  },
  {
   "cell_type": "markdown",
   "id": "48d3c575-f760-42ec-b9c9-1cc9e20caa43",
   "metadata": {},
   "source": [
    "#### 2개 이상의 값 넣기"
   ]
  },
  {
   "cell_type": "code",
   "execution_count": 8,
   "id": "a3d6fa12-87bf-4aed-af19-5c8fca4beb00",
   "metadata": {},
   "outputs": [
    {
     "name": "stdout",
     "output_type": "stream",
     "text": [
      "I ate 10 apples. so I was sick for three days.\n"
     ]
    }
   ],
   "source": [
    "number = 10\n",
    "day = 'three'\n",
    "print(\"I ate {0} apples. so I was sick for {1} days.\".format(number,day))"
   ]
  },
  {
   "cell_type": "markdown",
   "id": "ad17d1c9-306a-4163-95f5-b8358d7bf0f8",
   "metadata": {},
   "source": [
    "#### 이름으로 넣기"
   ]
  },
  {
   "cell_type": "code",
   "execution_count": 10,
   "id": "caab2bc3-b569-4790-9cd7-20f8d278518c",
   "metadata": {},
   "outputs": [
    {
     "name": "stdout",
     "output_type": "stream",
     "text": [
      "I ate 10 apples. so I was sick for 3 days.\n"
     ]
    }
   ],
   "source": [
    "a = \"I ate {number} apples. so I was sick for {day} days.\".format(number=10,day=3)\n",
    "print(a)"
   ]
  },
  {
   "cell_type": "markdown",
   "id": "8b4df934-8d8f-4c2f-8570-bea51bd8628d",
   "metadata": {},
   "source": [
    "#### 인덱스와 이름을 혼용해서 넣기"
   ]
  },
  {
   "cell_type": "code",
   "execution_count": 11,
   "id": "2444b9a8-3b86-4d09-afc9-3f59fb98c777",
   "metadata": {},
   "outputs": [
    {
     "name": "stdout",
     "output_type": "stream",
     "text": [
      "I ate 10 apples. so I was sick for 3 days.\n"
     ]
    }
   ],
   "source": [
    "a = \"I ate {0} apples. so I was sick for {day} days.\".format(10,day=3)\n",
    "print(a)"
   ]
  },
  {
   "cell_type": "markdown",
   "id": "d2c0e801-d986-47b0-92e6-e4e81158c037",
   "metadata": {},
   "source": [
    "#### 왼쪽 정렬"
   ]
  },
  {
   "cell_type": "code",
   "execution_count": 15,
   "id": "13dbae99-dc7a-4645-8811-3d11e83b8348",
   "metadata": {},
   "outputs": [
    {
     "name": "stdout",
     "output_type": "stream",
     "text": [
      "hi        kkkk\n"
     ]
    }
   ],
   "source": [
    "a = \"{0:<10}kkkk\".format(\"hi\")\n",
    "print(a)"
   ]
  },
  {
   "cell_type": "markdown",
   "id": "fdf33cdc-fddd-4fa7-a193-840875158b49",
   "metadata": {},
   "source": [
    "#### 가운데 정렬 "
   ]
  },
  {
   "cell_type": "code",
   "execution_count": 16,
   "id": "278e1262-e1d4-4c8d-b9d3-7ec475d55b97",
   "metadata": {},
   "outputs": [
    {
     "name": "stdout",
     "output_type": "stream",
     "text": [
      "    hi    kkkk\n"
     ]
    }
   ],
   "source": [
    "a = \"{0:^10}kkkk\".format(\"hi\")\n",
    "print(a)"
   ]
  },
  {
   "cell_type": "markdown",
   "id": "9b5295bd-649d-41ef-b213-50a8610b9a56",
   "metadata": {},
   "source": [
    "#### 공백 채우기"
   ]
  },
  {
   "cell_type": "code",
   "execution_count": 18,
   "id": "c42599ed-84f8-4964-8844-158d8376d69a",
   "metadata": {},
   "outputs": [
    {
     "name": "stdout",
     "output_type": "stream",
     "text": [
      "====hi====\n",
      "hi!!!!!!!!\n"
     ]
    }
   ],
   "source": [
    "a = \"{0:=^10}\".format(\"hi\")\n",
    "b = \"{0:!<10}\".format(\"hi\")\n",
    "print(a)\n",
    "print(b)"
   ]
  },
  {
   "cell_type": "markdown",
   "id": "b5218446-6bb7-4f19-90aa-ea8f81661629",
   "metadata": {},
   "source": [
    "#### 소수점 표현하기"
   ]
  },
  {
   "cell_type": "code",
   "execution_count": 26,
   "id": "b8855f2d-c571-4d79-b357-8704317ffe3a",
   "metadata": {},
   "outputs": [
    {
     "name": "stdout",
     "output_type": "stream",
     "text": [
      "xxxx3.1416\n"
     ]
    }
   ],
   "source": [
    "a = 3.141592\n",
    "b = \"{0:x>10.4f}\".format(a)\n",
    "print(b)"
   ]
  },
  {
   "cell_type": "markdown",
   "id": "7480c499-b8b5-4f07-b478-a9ce61f8a5b8",
   "metadata": {},
   "source": [
    "#### { 또는 } 문자 표현하기"
   ]
  },
  {
   "cell_type": "code",
   "execution_count": 29,
   "id": "c8ca5fa5-8679-44c4-96e7-8287bdb1b37b",
   "metadata": {},
   "outputs": [
    {
     "name": "stdout",
     "output_type": "stream",
     "text": [
      "{ and }\n"
     ]
    }
   ],
   "source": [
    "b = '{ and }'\n",
    "a = \"{}\".format(b)\n",
    "print(a)"
   ]
  },
  {
   "cell_type": "markdown",
   "id": "aac6e5f5-36f7-4ca6-8988-139266f2c453",
   "metadata": {},
   "source": [
    "### f 문자열 포매팅 **\n",
    "-3.6버전 이상만 가능"
   ]
  },
  {
   "cell_type": "code",
   "execution_count": 52,
   "id": "d0f968a7-c942-4602-9065-d5a863a6d2c6",
   "metadata": {},
   "outputs": [
    {
     "name": "stdout",
     "output_type": "stream",
     "text": [
      "나의 이름은 홍길동 입니다. 나이는 30입니다.\n",
      "나의 이름은 홍길동 입니다. 나이는 31입니다.\n",
      "나의 이름은 슈퍼맨 입니다. 나이는 300입니다.\n",
      "====hi====\n",
      "===홍길동====\n",
      "xxxx3.1416\n",
      "{ and }\n"
     ]
    }
   ],
   "source": [
    "name = '홍길동'\n",
    "age = 30\n",
    "dic = {'name':'슈퍼맨','age':300}\n",
    "print(f'나의 이름은 {name} 입니다. 나이는 {age}입니다.')\n",
    "print(f'나의 이름은 {name} 입니다. 나이는 {age + 1}입니다.')\n",
    "print(f'나의 이름은 {dic[\"name\"]} 입니다. 나이는 {dic[\"age\"]}입니다.')\n",
    "print(f'{\"hi\":=^10}')\n",
    "print(f'{name:=^10}')\n",
    "a = 3.141592\n",
    "b = \"{ and }\"\n",
    "c = f'{a:x>10.4f}'\n",
    "d = f'{ b }'\n",
    "print(c)\n",
    "print(d)"
   ]
  },
  {
   "cell_type": "markdown",
   "id": "35b3215b-087f-4736-8ab5-e3f9edd39a9d",
   "metadata": {},
   "source": [
    "### 문자열 관련 함수들"
   ]
  },
  {
   "cell_type": "markdown",
   "id": "6c882ab4-4fc0-410b-9107-0aad763f415e",
   "metadata": {},
   "source": [
    "#### 문자 개수 세기 - count"
   ]
  },
  {
   "cell_type": "code",
   "execution_count": null,
   "id": "cdd16101-9dbb-4607-883b-4206e3d5ea32",
   "metadata": {},
   "outputs": [],
   "source": [
    "dir(str())"
   ]
  },
  {
   "cell_type": "code",
   "execution_count": 66,
   "id": "7c863cd0-33ae-45ae-84a5-fe770727bd7e",
   "metadata": {},
   "outputs": [
    {
     "name": "stdout",
     "output_type": "stream",
     "text": [
      "2\n"
     ]
    }
   ],
   "source": [
    "a = 'coffee'\n",
    "print(a.count('f'))"
   ]
  },
  {
   "cell_type": "markdown",
   "id": "6549be92-7cc0-44ce-8bef-c99f56265cee",
   "metadata": {},
   "source": [
    "#### 위치 알려주기1 - find\n",
    "- 문자열만 사용가능"
   ]
  },
  {
   "cell_type": "code",
   "execution_count": 67,
   "id": "45fe6ddc-9ee9-4948-bd26-9499ccb1ed50",
   "metadata": {},
   "outputs": [
    {
     "name": "stdout",
     "output_type": "stream",
     "text": [
      "20\n",
      "-1\n"
     ]
    }
   ],
   "source": [
    "a = 'iceAmericano is the best choice in winter'\n",
    "print(a.find('b'))\n",
    "print(a.find('k'))"
   ]
  },
  {
   "cell_type": "code",
   "execution_count": 86,
   "id": "4ad8c50b-ed17-4645-bf94-4248526438d3",
   "metadata": {},
   "outputs": [
    {
     "name": "stdin",
     "output_type": "stream",
     "text": [
      " k\n"
     ]
    },
    {
     "name": "stdout",
     "output_type": "stream",
     "text": [
      "없어!!!\n"
     ]
    }
   ],
   "source": [
    "say = input()\n",
    "if not a.find(say) == -1:\n",
    "    print('있어!',a.find(say),'번째')\n",
    "else:\n",
    "    print('없어!!!')"
   ]
  },
  {
   "cell_type": "markdown",
   "id": "82876768-31ce-4f4b-822c-f395f6ec0eb5",
   "metadata": {},
   "source": [
    "#### 위치 알려주기2 - index\n",
    "- 문자열이외에 리스트와 튜플 자료형에도 사용가능하다. (딕셔너리는 안됨)"
   ]
  },
  {
   "cell_type": "code",
   "execution_count": 90,
   "id": "dd1e2777-bac2-4378-bd25-971f660405f9",
   "metadata": {},
   "outputs": [
    {
     "name": "stdout",
     "output_type": "stream",
     "text": [
      "20\n"
     ]
    }
   ],
   "source": [
    "a = 'iceAmericano is the best choice in winter'\n",
    "print(a.index('b'))\n",
    "# print(a.index('k'))"
   ]
  },
  {
   "cell_type": "markdown",
   "id": "48afdec8-f1a4-4d60-bcc8-b28cdde7ddc5",
   "metadata": {},
   "source": [
    "#### 문자열 삽입 - join *"
   ]
  },
  {
   "cell_type": "code",
   "execution_count": 92,
   "id": "7d6e915f-fdc6-4735-b20f-eda5644a55e9",
   "metadata": {},
   "outputs": [
    {
     "name": "stdout",
     "output_type": "stream",
     "text": [
      "a,b,c,d,e,f,g\n",
      "apple-orange-kiwi-melon-pear-banana\n"
     ]
    }
   ],
   "source": [
    "str = \"abcdefg\"\n",
    "arr = ['apple','orange','kiwi','melon','pear','banana']\n",
    "result = \",\".join(str)\n",
    "result2 = \"-\".join(arr)\n",
    "print(result)\n",
    "print(result2)"
   ]
  },
  {
   "cell_type": "markdown",
   "id": "28809208-0d81-402e-8f9c-8a7f97de7217",
   "metadata": {},
   "source": [
    "#### 소문자를 대문자로 바꾸기 - upper"
   ]
  },
  {
   "cell_type": "code",
   "execution_count": 93,
   "id": "85ae7352-c981-434d-85f4-25071196b138",
   "metadata": {},
   "outputs": [
    {
     "name": "stdout",
     "output_type": "stream",
     "text": [
      "BANANA\n"
     ]
    }
   ],
   "source": [
    "a = 'BaNaNa'\n",
    "print(a.upper())"
   ]
  },
  {
   "cell_type": "markdown",
   "id": "a66f6e6b-df69-4eab-9917-70cfc6e0975f",
   "metadata": {},
   "source": [
    "#### 대문자를 소문자로 바꾸기 - lower"
   ]
  },
  {
   "cell_type": "code",
   "execution_count": 94,
   "id": "ed2c8299-51fc-494d-9e95-7049dbd0210c",
   "metadata": {},
   "outputs": [
    {
     "name": "stdout",
     "output_type": "stream",
     "text": [
      "banana\n"
     ]
    }
   ],
   "source": [
    "a = 'BaNaNa'\n",
    "print(a.lower())"
   ]
  },
  {
   "cell_type": "markdown",
   "id": "85227d2c-597e-433f-a0bc-66129aac6dc5",
   "metadata": {},
   "source": [
    "#### 왼쪽 공백 지우기 - lstrip"
   ]
  },
  {
   "cell_type": "code",
   "execution_count": 102,
   "id": "ba02adb1-241d-47cd-8edf-e8607f4e8692",
   "metadata": {},
   "outputs": [
    {
     "name": "stdout",
     "output_type": "stream",
     "text": [
      "         hi         \n",
      "hi         \n"
     ]
    }
   ],
   "source": [
    "a = f'{\"hi\":^20}'\n",
    "print(a)\n",
    "print(a.lstrip())"
   ]
  },
  {
   "cell_type": "markdown",
   "id": "67954fa1-2737-4eca-b99d-50660a5f4e96",
   "metadata": {},
   "source": [
    "#### 오른쪽 공백 지우기 - rstript"
   ]
  },
  {
   "cell_type": "code",
   "execution_count": 104,
   "id": "6f13b294-8776-49b7-84eb-f330c2f6047a",
   "metadata": {},
   "outputs": [
    {
     "name": "stdout",
     "output_type": "stream",
     "text": [
      "         hi         \n",
      "         hi\n"
     ]
    }
   ],
   "source": [
    "b = f'{\"hi\":^20}'\n",
    "print(b)\n",
    "print(b.rstrip())"
   ]
  },
  {
   "cell_type": "markdown",
   "id": "eaee98b4-c1b5-40aa-841d-c953b3eeaebf",
   "metadata": {},
   "source": [
    "#### 양쪽 공백 지우기 - strip *"
   ]
  },
  {
   "cell_type": "code",
   "execution_count": 116,
   "id": "850bdc2f-ee6d-4542-923e-9aa52e6f55c0",
   "metadata": {},
   "outputs": [
    {
     "name": "stdout",
     "output_type": "stream",
     "text": [
      "         hi         \n",
      "hi\n",
      "xxxxxxxxxhixxxxxxxxx\n",
      "hi\n"
     ]
    }
   ],
   "source": [
    "c = f'{\"hi\":^20}'\n",
    "print(c)\n",
    "print(c.strip())\n",
    "d = f'{\"hi\":x^20}'\n",
    "print(d)\n",
    "print(d.strip('x'))"
   ]
  },
  {
   "cell_type": "markdown",
   "id": "f9b17ade-d1c4-4d74-b57a-0b1eb8e5e363",
   "metadata": {},
   "source": [
    "#### 문자열 바꾸기 - replace **"
   ]
  },
  {
   "cell_type": "code",
   "execution_count": 107,
   "id": "6013382c-8621-4bdd-897e-ac2657617c23",
   "metadata": {},
   "outputs": [
    {
     "name": "stdout",
     "output_type": "stream",
     "text": [
      "Life is too short\n",
      "Your leg is too short\n"
     ]
    }
   ],
   "source": [
    "a = \"Life is too short\"\n",
    "print(a)\n",
    "b = a.replace(\"Life\",\"Your leg\")\n",
    "print(b)"
   ]
  },
  {
   "cell_type": "markdown",
   "id": "617d1193-420e-475f-ac8f-6e4efac8777a",
   "metadata": {},
   "source": [
    "#### 문자열 나누기 - split **\n",
    "- 문자열을 배열로"
   ]
  },
  {
   "cell_type": "code",
   "execution_count": 120,
   "id": "403b532e-64a5-4ca5-a579-83479b0373fb",
   "metadata": {
    "scrolled": true
   },
   "outputs": [
    {
     "name": "stdout",
     "output_type": "stream",
     "text": [
      "['Life', 'is', 'too', 'short']\n",
      "['Life', 'is', 'too', 'short']\n",
      "i*c*e*A*m*e*r*i*c*a*n*o* *i*s* *t*h*e* *b*e*s*t* *c*h*o*i*c*e* *i*n* *w*i*n*t*e*r\n",
      "iceAmericano is the best choice in winter\n",
      "['iceAmericano', 'is', 'the', 'best', 'choice', 'in', 'winter']\n"
     ]
    }
   ],
   "source": [
    "a = \"Life is too short\"\n",
    "print(a.split())\n",
    "b = \"Life/is/too/short\"\n",
    "print(b.split('/'))\n",
    "str = 'iceAmericano is the best choice in winter'\n",
    "j = \"*\".join(str)\n",
    "print(j)\n",
    "t = j.replace('*','')\n",
    "print(t)\n",
    "s = t.split(' ')\n",
    "print(s)"
   ]
  },
  {
   "cell_type": "markdown",
   "id": "b339633a-fafc-4f84-8f99-520b9cd1d024",
   "metadata": {},
   "source": [
    "## 리스트 자료형"
   ]
  },
  {
   "cell_type": "code",
   "execution_count": null,
   "id": "b453d1c4-be8f-4e0c-a9cb-ff86d24587f2",
   "metadata": {},
   "outputs": [],
   "source": []
  },
  {
   "cell_type": "markdown",
   "id": "d2d37b3e-2d0a-4e5f-b8cb-ddb41c6f48ac",
   "metadata": {},
   "source": [
    "### 리스트 표현"
   ]
  },
  {
   "cell_type": "code",
   "execution_count": 121,
   "id": "0bc3e0c7-4c9a-4625-8ea5-a9936186e725",
   "metadata": {},
   "outputs": [],
   "source": [
    "odd = [1,3,5,7,9]\n",
    "even = [2,4,6,8,10]"
   ]
  },
  {
   "cell_type": "markdown",
   "id": "1ce4df7a-26a1-4be1-81ec-0786ecd3dc41",
   "metadata": {},
   "source": [
    "### 리스트의 인덱싱과 슬라이싱"
   ]
  },
  {
   "cell_type": "markdown",
   "id": "5744c4b0-4359-45d1-baa2-e07e81a21a9a",
   "metadata": {},
   "source": [
    "#### 리스트의 인덱싱"
   ]
  },
  {
   "cell_type": "code",
   "execution_count": 125,
   "id": "0dcb50f9-7abe-4942-852c-084434cbe941",
   "metadata": {},
   "outputs": [
    {
     "name": "stdout",
     "output_type": "stream",
     "text": [
      "1\n",
      "['a', 'b', 'c']\n",
      "b\n"
     ]
    }
   ],
   "source": [
    "a = [1,2,3,['a','b','c']]\n",
    "print(a[0])\n",
    "print(a[-1])\n",
    "print(a[-1][1])"
   ]
  },
  {
   "cell_type": "markdown",
   "id": "4c6721ab-3dbf-43ee-9163-8dbe31a08b50",
   "metadata": {},
   "source": [
    "#### 리스트의 슬라이싱 *"
   ]
  },
  {
   "cell_type": "code",
   "execution_count": 137,
   "id": "05574703-85e4-40d5-91e3-6fbaea9636ae",
   "metadata": {},
   "outputs": [
    {
     "name": "stdout",
     "output_type": "stream",
     "text": [
      "[1, 2, 3, 4, 5, 6, 7, 8, 9]\n",
      "[1, 2, 3, 4, 5, 6, 7, 8, 9]\n",
      "[1, 2, 3]\n",
      "[4, 5, 6, 7, 8, 9]\n"
     ]
    }
   ],
   "source": [
    "a = [1,2,3,4,5,6,7,8,9]\n",
    "print(a)\n",
    "print(a[:])\n",
    "print(a[:3])\n",
    "print(a[3:])"
   ]
  },
  {
   "cell_type": "code",
   "execution_count": 136,
   "id": "97e38adc-6ec5-431a-86fc-496c4cf71463",
   "metadata": {},
   "outputs": [
    {
     "name": "stdout",
     "output_type": "stream",
     "text": [
      "[3, ['a', 'b', 'c'], 4]\n",
      "['a', 'b']\n"
     ]
    }
   ],
   "source": [
    "b = [1,2,3,['a','b','c'],4,5]\n",
    "print(b[2:5])\n",
    "print(b[3][:2])"
   ]
  },
  {
   "cell_type": "markdown",
   "id": "67993e69-37e2-4c0c-855f-fcac3410894d",
   "metadata": {},
   "source": [
    "### 리스트 연산하기"
   ]
  },
  {
   "cell_type": "markdown",
   "id": "e93c8401-7ca2-4960-95a9-5fd4dc720b54",
   "metadata": {},
   "source": [
    "#### 리스트 더하기(+)"
   ]
  },
  {
   "cell_type": "code",
   "execution_count": 139,
   "id": "c01be47f-f86d-4b79-ac3a-c1230ecdb863",
   "metadata": {},
   "outputs": [
    {
     "name": "stdout",
     "output_type": "stream",
     "text": [
      "[1, 2, 3, 4, 5, 6]\n"
     ]
    }
   ],
   "source": [
    "a = [1,2,3]\n",
    "b = [4,5,6]\n",
    "c = a + b\n",
    "print(c)"
   ]
  },
  {
   "cell_type": "markdown",
   "id": "1b8b8b28-d95d-48bd-bb93-61a5e7eca14e",
   "metadata": {},
   "source": [
    "#### 리스트 반복하기(*)"
   ]
  },
  {
   "cell_type": "code",
   "execution_count": 140,
   "id": "80a743f8-3423-469f-8142-90851b720f54",
   "metadata": {},
   "outputs": [
    {
     "name": "stdout",
     "output_type": "stream",
     "text": [
      "[1, 2, 3, 1, 2, 3, 1, 2, 3, 1, 2, 3, 1, 2, 3]\n"
     ]
    }
   ],
   "source": [
    "a = [1,2,3]\n",
    "b = a * 5\n",
    "print(b)"
   ]
  },
  {
   "cell_type": "markdown",
   "id": "d60ea0af-683d-42d6-80e9-53eea7e17f8e",
   "metadata": {},
   "source": [
    "#### 리스트 길이 구하기"
   ]
  },
  {
   "cell_type": "code",
   "execution_count": 2,
   "id": "47b57e9a-3226-4fef-9b36-09abc39d87b7",
   "metadata": {},
   "outputs": [
    {
     "name": "stdout",
     "output_type": "stream",
     "text": [
      "7 91\n",
      "4개\n",
      "4개\n"
     ]
    }
   ],
   "source": [
    "a= [1,2,3,4,5,6,7]\n",
    "b= a * 13\n",
    "print(len(a),len(b))\n",
    "print(f'{a[3]}개')\n",
    "print(str(a[3]) + '개') # 에러"
   ]
  },
  {
   "cell_type": "markdown",
   "id": "2e8d6838-b9a6-40e9-96ef-437a34e0e6ba",
   "metadata": {},
   "source": [
    "### 리스트의 수정과 삭제"
   ]
  },
  {
   "cell_type": "markdown",
   "id": "002eede7-20cf-4e19-bc1e-a232d793a9ca",
   "metadata": {},
   "source": [
    "#### 리스트의 값 수정"
   ]
  },
  {
   "cell_type": "code",
   "execution_count": 2,
   "id": "36a5a9cf-7d20-486c-837e-f0685da54f58",
   "metadata": {},
   "outputs": [
    {
     "name": "stdout",
     "output_type": "stream",
     "text": [
      "[1, 2, 4]\n"
     ]
    }
   ],
   "source": [
    "a = [1,2,3]\n",
    "a[2] = 4\n",
    "print(a)"
   ]
  },
  {
   "cell_type": "markdown",
   "id": "23074f5d-46ad-4f75-9dfd-10683e7ca616",
   "metadata": {},
   "source": [
    "#### del 리스트 요소삭제"
   ]
  },
  {
   "cell_type": "code",
   "execution_count": 5,
   "id": "a870148a-f5a6-484f-aebd-b7ac7b1bf6f2",
   "metadata": {},
   "outputs": [
    {
     "name": "stdout",
     "output_type": "stream",
     "text": [
      "[1]\n"
     ]
    }
   ],
   "source": [
    "a = [1,2,3,4,5]\n",
    "del a[2:]\n",
    "del a[-1]\n",
    "print(a)"
   ]
  },
  {
   "cell_type": "markdown",
   "id": "2bc41a78-55f1-43df-ad9b-4caac9391fe6",
   "metadata": {},
   "source": [
    "### 리스트 관련함수 **"
   ]
  },
  {
   "cell_type": "markdown",
   "id": "1015ca4c-b002-492f-9221-a8890e36b9a3",
   "metadata": {},
   "source": [
    "#### 요소 추가 - append"
   ]
  },
  {
   "cell_type": "code",
   "execution_count": 7,
   "id": "3dba12b6-4c0b-4a05-825d-a5a1269bbca5",
   "metadata": {},
   "outputs": [
    {
     "name": "stdout",
     "output_type": "stream",
     "text": [
      "[1, 2, 3, 4]\n",
      "[1, 2, 3, 4, [11, 22, 33]]\n"
     ]
    }
   ],
   "source": [
    "a=[1,2,3]\n",
    "a.append(4)\n",
    "print(a)\n",
    "a.append([11,22,33])\n",
    "print(a)"
   ]
  },
  {
   "cell_type": "markdown",
   "id": "f228fb70-f180-44cd-80bc-ac484389cbe8",
   "metadata": {},
   "source": [
    "#### 정렬 - sort"
   ]
  },
  {
   "cell_type": "code",
   "execution_count": 22,
   "id": "6c39ef93-8216-465f-8ccd-a6994259df19",
   "metadata": {},
   "outputs": [
    {
     "name": "stdout",
     "output_type": "stream",
     "text": [
      "[2, 3, 4, 7, 8, 8, 12, 23]\n",
      "['a', 'b', 'e', 'z']\n",
      "[2, 7, 3, 8, 4, 23, 8, 12, 'b', 'z', 'a', 'e']\n"
     ]
    }
   ],
   "source": [
    "a=[2,7,3,8,4,23,8,12]\n",
    "b=['b','z','a','e']\n",
    "c = a + b\n",
    "a.sort()\n",
    "b.sort()\n",
    "# c.sort() # 리스트내 요소타입이 다를경우 sort 에러\n",
    "print(a)\n",
    "print(b)\n",
    "print(c)"
   ]
  },
  {
   "cell_type": "markdown",
   "id": "38e8ebb6-753d-4105-ab76-a1b8a3dc1996",
   "metadata": {},
   "source": [
    "#### 뒤집기 - reverse\n",
    "- 순서랑 상관없이 있는 그대로 뒤집기"
   ]
  },
  {
   "cell_type": "code",
   "execution_count": 23,
   "id": "f2600271-5a5a-4494-bd58-7966b9e360a2",
   "metadata": {},
   "outputs": [
    {
     "name": "stdout",
     "output_type": "stream",
     "text": [
      "[12, 8, 23, 4, 8, 3, 7, 2]\n",
      "['e', 'a', 'z', 'b']\n",
      "[2, 7, 3, 8, 4, 23, 8, 12, 'b', 'z', 'a', 'e']\n"
     ]
    }
   ],
   "source": [
    "a=[2,7,3,8,4,23,8,12]\n",
    "b=['b','z','a','e']\n",
    "c = a + b\n",
    "# a.sort() 역순 필요시 sort와 reverse 같이 사용할 것\n",
    "a.reverse()\n",
    "b.reverse()\n",
    "# c.reverse() # 리스트내 요소타입이 다를경우 sort 에러\n",
    "print(a)\n",
    "print(b)\n",
    "print(c)"
   ]
  },
  {
   "cell_type": "markdown",
   "id": "18984e98-cf7a-442a-b1ad-3bd3513fd218",
   "metadata": {},
   "source": [
    "#### 반환 - index"
   ]
  },
  {
   "cell_type": "code",
   "execution_count": 28,
   "id": "527eaa65-5701-4135-9367-d4030d49033b",
   "metadata": {},
   "outputs": [
    {
     "name": "stdout",
     "output_type": "stream",
     "text": [
      "2\n",
      "1\n"
     ]
    }
   ],
   "source": [
    "a = [1,2,3,4,5]\n",
    "b=['b','z','a','e']\n",
    "aa = a.index(3)\n",
    "print(aa)\n",
    "# ab = a.index(7) 없을 땐 오류\n",
    "# print(ab)\n",
    "bb = b.index('z')\n",
    "print(bb)"
   ]
  },
  {
   "cell_type": "markdown",
   "id": "0449cd65-eb6d-4e3c-9b06-85b2bfae606d",
   "metadata": {},
   "source": [
    "#### 요소 삽입 - insert *"
   ]
  },
  {
   "cell_type": "code",
   "execution_count": 32,
   "id": "6f3fd9c4-6f92-49cb-86f7-1c938cd05159",
   "metadata": {},
   "outputs": [
    {
     "name": "stdout",
     "output_type": "stream",
     "text": [
      "[4, 1, 2, 5, 3]\n"
     ]
    }
   ],
   "source": [
    "a = [1,2,3]\n",
    "a.insert(0,4)\n",
    "a.insert(3,5)\n",
    "print(a)"
   ]
  },
  {
   "cell_type": "markdown",
   "id": "a2b84712-02c0-4187-9fc7-047f54df3281",
   "metadata": {},
   "source": [
    "#### 요소 제거 - remove"
   ]
  },
  {
   "cell_type": "code",
   "execution_count": 37,
   "id": "388fde43-411c-4eda-ac91-ef298b7cb2e7",
   "metadata": {},
   "outputs": [
    {
     "name": "stdout",
     "output_type": "stream",
     "text": [
      "[1, 2, 3, 1, 2, 3, 1, 2, 3]\n",
      "[1, 2, 1, 2, 3, 1, 2, 3]\n",
      "[1, 2, 1, 2, 1, 2, 3]\n",
      "[1, 2, 1, 2, 1, 2]\n"
     ]
    }
   ],
   "source": [
    "a = [1,2,3]\n",
    "aa = a*3\n",
    "print(aa)\n",
    "aa.remove(3)\n",
    "print(aa)\n",
    "aa.remove(3)\n",
    "print(aa)\n",
    "aa.remove(3)\n",
    "print(aa)"
   ]
  },
  {
   "cell_type": "markdown",
   "id": "534dd821-c81f-43af-b079-1f512bd00569",
   "metadata": {},
   "source": [
    "#### 요소 꺼내기 - pop *"
   ]
  },
  {
   "cell_type": "code",
   "execution_count": 41,
   "id": "15a5863f-b3dc-40f9-a5fe-1afb46cbb397",
   "metadata": {},
   "outputs": [
    {
     "name": "stdout",
     "output_type": "stream",
     "text": [
      "[1, 2, 3, 4]\n",
      "[1, 2, 3]\n",
      "[1, 2]\n",
      "[1]\n",
      "[]\n"
     ]
    }
   ],
   "source": [
    "a = [1,2,3,4,5]\n",
    "a.pop()\n",
    "print(a)\n",
    "a.pop()\n",
    "print(a)\n",
    "a.pop()\n",
    "print(a)\n",
    "a.pop()\n",
    "print(a)\n",
    "a.pop()\n",
    "print(a)"
   ]
  },
  {
   "cell_type": "code",
   "execution_count": 1,
   "id": "9fb6c9fb-c6f0-460a-924b-ef310e12ea84",
   "metadata": {},
   "outputs": [
    {
     "name": "stdin",
     "output_type": "stream",
     "text": [
      "[1, 2, 3, 4, 5]중에 제거할 숫자의 인덱스를 입력하시오. 2\n"
     ]
    },
    {
     "name": "stdout",
     "output_type": "stream",
     "text": [
      "2\n",
      "3를 꺼내면[1, 2, 4, 5]가 된다.\n"
     ]
    }
   ],
   "source": [
    "a = [1,2,3,4,5]\n",
    "ch = input(f'{a}중에 제거할 숫자의 인덱스를 입력하시오.')\n",
    "print(ch)\n",
    "b = a.pop(int(ch))\n",
    "print(f'{b}를 꺼내면{a}가 된다.')"
   ]
  },
  {
   "cell_type": "markdown",
   "id": "da0e860f-de81-46c2-a3d7-a2c9e0332289",
   "metadata": {},
   "source": [
    "#### 요소 X의 개수 세기 - count"
   ]
  },
  {
   "cell_type": "code",
   "execution_count": 2,
   "id": "c935fda3-45a0-4879-8d61-4ef48ed98dc5",
   "metadata": {},
   "outputs": [
    {
     "data": {
      "text/plain": [
       "2"
      ]
     },
     "execution_count": 2,
     "metadata": {},
     "output_type": "execute_result"
    }
   ],
   "source": [
    "a =[1,2,3,1]\n",
    "a.count(1)"
   ]
  },
  {
   "cell_type": "markdown",
   "id": "f833fd68-c1de-4061-8f15-a2cfadbb4bd4",
   "metadata": {},
   "source": [
    "#### 확장 - extend"
   ]
  },
  {
   "cell_type": "code",
   "execution_count": 3,
   "id": "8d4b7d85-c66d-4b55-aaf7-c2818ae906ae",
   "metadata": {},
   "outputs": [
    {
     "name": "stdout",
     "output_type": "stream",
     "text": [
      "[1, 2, 3, 4, 5, 6, 7]\n",
      "[1, 2, 3, 4, 5, 6, 7, 8, 9]\n"
     ]
    }
   ],
   "source": [
    "a = [1,2,3,4,5]\n",
    "b = [8,9]\n",
    "a.extend([6,7])\n",
    "print(a)\n",
    "a.extend(b)\n",
    "print(a)"
   ]
  },
  {
   "cell_type": "markdown",
   "id": "80417f30-3491-461b-b6cb-d2387a6cf43d",
   "metadata": {},
   "source": [
    "- 리스트확장에서 문자 + 숫자 리스트 도전해보기"
   ]
  },
  {
   "cell_type": "code",
   "execution_count": 9,
   "id": "b5fe54d8-5442-4e69-beb4-5cd6a8266e0e",
   "metadata": {},
   "outputs": [
    {
     "name": "stdout",
     "output_type": "stream",
     "text": [
      "[1, 2, 3, 4, 5, 'a', 'b', 'c']\n",
      "[1, 2, 3, 4, 5, 'a', 'b', 'c', 11, 22, 33, 44]\n"
     ]
    }
   ],
   "source": [
    "a = [1,2,3,4,5]\n",
    "b = ['a','b','c']\n",
    "c = [11,22,33,44]\n",
    "a.extend(b)\n",
    "print(a)\n",
    "a += c  # a = a + c ; extend와 기능이 같다.\n",
    "print(a)"
   ]
  },
  {
   "cell_type": "markdown",
   "id": "272a1c06-71ab-40cd-bc8d-b217eb32d3cc",
   "metadata": {},
   "source": [
    "## 튜플 자료형"
   ]
  },
  {
   "cell_type": "markdown",
   "id": "b98ed5b0-2102-40dc-a342-0d3fb27c7332",
   "metadata": {},
   "source": [
    "### 튜플형식"
   ]
  },
  {
   "cell_type": "code",
   "execution_count": 10,
   "id": "6f031a63-d416-44e5-9b41-6153d750da4a",
   "metadata": {},
   "outputs": [],
   "source": [
    "t1 = ()\n",
    "t2 = (1,) #*\n",
    "t3 = (1,2,3)\n",
    "t4 = 1,2,3 #*\n",
    "t5 =('a','b',('ab','cd'))"
   ]
  },
  {
   "cell_type": "markdown",
   "id": "319543a5-8c60-4078-9d93-6ba029f4e404",
   "metadata": {},
   "source": [
    "### 튜플 요소를 삭제나 변경하면?"
   ]
  },
  {
   "cell_type": "markdown",
   "id": "b923eb3a-d644-4569-b880-0b08d747228f",
   "metadata": {},
   "source": [
    "#### 튜플 요소값 삭제?"
   ]
  },
  {
   "cell_type": "code",
   "execution_count": null,
   "id": "ae25514e-47a1-4fd8-bdcb-8dbd75b9e90f",
   "metadata": {
    "scrolled": true
   },
   "outputs": [],
   "source": [
    "t1 = (1,2,'a','b')\n",
    "del t1[0]"
   ]
  },
  {
   "attachments": {
    "9c29088a-e225-47de-8893-df661dbbfe06.png": {
     "image/png": "[encoded data removed]"
    }
   },
   "cell_type": "markdown",
   "id": "f816a5f5-1484-434f-97ce-b4d6064c3a67",
   "metadata": {},
   "source": [
    "![image.png](attachment:9c29088a-e225-47de-8893-df661dbbfe06.png)"
   ]
  },
  {
   "cell_type": "markdown",
   "id": "f12fe3ca-6ca2-4b6b-a872-4f9626a61b5b",
   "metadata": {},
   "source": [
    "#### 튜플 요소값 변경?"
   ]
  },
  {
   "cell_type": "code",
   "execution_count": null,
   "id": "24c3416b-eb3b-41da-9674-2f1cf7fdc9d7",
   "metadata": {
    "scrolled": true
   },
   "outputs": [],
   "source": [
    "t1 = (1,2,'a','b')\n",
    "t1[0] = 'c'"
   ]
  },
  {
   "attachments": {
    "01bbc6bf-2029-4f15-9f83-cc0c3eb5f5d5.png": {
     "image/png": "[encoded data removed]"
    }
   },
   "cell_type": "markdown",
   "id": "ebe85681-a5a1-4360-9df1-a2825d46ca89",
   "metadata": {},
   "source": [
    "![image.png](attachment:01bbc6bf-2029-4f15-9f83-cc0c3eb5f5d5.png)"
   ]
  },
  {
   "cell_type": "markdown",
   "id": "e1941249-8600-41d2-958b-03674b9fb4cc",
   "metadata": {},
   "source": [
    "### 튜플 다루기"
   ]
  },
  {
   "cell_type": "markdown",
   "id": "f4e0d995-b1ab-4cca-b766-d401c0cd5f09",
   "metadata": {},
   "source": [
    "#### 인덱싱하기"
   ]
  },
  {
   "cell_type": "code",
   "execution_count": 14,
   "id": "2570c472-9595-482a-8415-e2e763f5294c",
   "metadata": {},
   "outputs": [
    {
     "name": "stdout",
     "output_type": "stream",
     "text": [
      "1\n",
      "b\n"
     ]
    }
   ],
   "source": [
    "t1 = (1,2,'a','b')\n",
    "print(t1[0])\n",
    "print(t1[3])"
   ]
  },
  {
   "cell_type": "markdown",
   "id": "bdae2b49-753c-4649-9145-fc2eb782c61b",
   "metadata": {},
   "source": [
    "#### 슬라이싱하기"
   ]
  },
  {
   "cell_type": "code",
   "execution_count": 15,
   "id": "594ae3f9-1257-4578-9752-fa50194f6e3f",
   "metadata": {},
   "outputs": [
    {
     "name": "stdout",
     "output_type": "stream",
     "text": [
      "(2, 'a', 'b')\n"
     ]
    }
   ],
   "source": [
    "t1 = (1,2,'a','b')\n",
    "print(t1[1:])"
   ]
  },
  {
   "cell_type": "markdown",
   "id": "d5453a18-df70-4fac-81df-7893854e6ea4",
   "metadata": {},
   "source": [
    "#### 튜플 더하기"
   ]
  },
  {
   "cell_type": "code",
   "execution_count": 16,
   "id": "5556469f-e289-4a02-a57f-ca57609c6b68",
   "metadata": {},
   "outputs": [
    {
     "name": "stdout",
     "output_type": "stream",
     "text": [
      "(1, 2, 'a', 'b', 3, 4)\n"
     ]
    }
   ],
   "source": [
    "t1 = (1,2,'a','b')\n",
    "t2 = (3,4)\n",
    "t3 = t1 + t2\n",
    "print(t3)"
   ]
  },
  {
   "cell_type": "markdown",
   "id": "ccafe4d1-36c7-40d1-9ce0-aa4f8bd5d91b",
   "metadata": {},
   "source": [
    "#### 튜플 곱하기"
   ]
  },
  {
   "cell_type": "code",
   "execution_count": 17,
   "id": "62491b05-c52c-4b3d-bd37-b3a43c5b8efa",
   "metadata": {},
   "outputs": [
    {
     "name": "stdout",
     "output_type": "stream",
     "text": [
      "(3, 4, 3, 4, 3, 4)\n"
     ]
    }
   ],
   "source": [
    "t2 = (3,4)\n",
    "t3 = t2 * 3\n",
    "print(t3)"
   ]
  },
  {
   "cell_type": "markdown",
   "id": "37b38076-5606-46bf-b9cf-72acb81ad498",
   "metadata": {},
   "source": [
    "#### 튜플 길이구하기"
   ]
  },
  {
   "cell_type": "code",
   "execution_count": 18,
   "id": "862e17c2-5bc2-41c3-8087-88d799cda644",
   "metadata": {},
   "outputs": [
    {
     "name": "stdout",
     "output_type": "stream",
     "text": [
      "6\n"
     ]
    }
   ],
   "source": [
    "t1 = (1,2,'a','b')\n",
    "t2 = (3,4)\n",
    "t3 = t1 + t2\n",
    "print(len(t3))"
   ]
  },
  {
   "cell_type": "markdown",
   "id": "b913eb03-344b-4118-a1f5-7cffe6ecbb41",
   "metadata": {},
   "source": [
    "## 딕셔너리 자료형"
   ]
  },
  {
   "cell_type": "markdown",
   "id": "8373dbef-5360-42dc-8864-2c69a37dcd69",
   "metadata": {},
   "source": [
    "### 딕셔너리"
   ]
  },
  {
   "cell_type": "code",
   "execution_count": 30,
   "id": "89fb2fdb-ebb8-4dd5-a4d2-9ef2eee5bf61",
   "metadata": {},
   "outputs": [
    {
     "name": "stdout",
     "output_type": "stream",
     "text": [
      "{'name': 'pey', 'phone': '010-999-1234', 'birth': 1118}\n",
      "pey\n",
      "{0: 'ok', 1: 'hi'}\n",
      "ok\n",
      "{'a': [1, 2, 3, 4]}\n",
      "[1, 2, 3, 4]\n",
      "<class 'dict'>\n",
      "<class 'list'>\n"
     ]
    }
   ],
   "source": [
    "dic = {'name':'pey','phone':'010-999-1234','birth':1118}\n",
    "a = {0:'ok',1:'hi'}\n",
    "b = {'a':[1,2,3,4]}\n",
    "print(dic)\n",
    "print(dic['name'])\n",
    "print(a)\n",
    "print(a[0])\n",
    "print(b)\n",
    "print(b['a'])\n",
    "print(type(b))\n",
    "print(type(b['a']))"
   ]
  },
  {
   "cell_type": "markdown",
   "id": "78ba0442-bdbd-425e-87ea-09d9a3fcc6ed",
   "metadata": {},
   "source": [
    "### 딕셔너리 쌍 추가,삭제하기"
   ]
  },
  {
   "cell_type": "markdown",
   "id": "ac561186-3b9d-4cfc-8c5b-6d79820ccf82",
   "metadata": {},
   "source": [
    "#### 딕셔너리 쌍 추가하기"
   ]
  },
  {
   "cell_type": "code",
   "execution_count": 37,
   "id": "70dac522-b858-4928-8041-f8bcbffdccb0",
   "metadata": {},
   "outputs": [
    {
     "name": "stdout",
     "output_type": "stream",
     "text": [
      "{1: 'a', 2: 'b', 'name': 'pey', 'arr': [1, 2, 3, 4]}\n"
     ]
    }
   ],
   "source": [
    "a = {1:'a'}\n",
    "a[2] = 'b'\n",
    "a['name'] = 'pey'\n",
    "a['arr'] = [1,2,3,4]\n",
    "print(a)"
   ]
  },
  {
   "cell_type": "markdown",
   "id": "b8135564-8301-4a12-808b-3496a33aea75",
   "metadata": {},
   "source": [
    "#### 딕셔너리 요소 삭제하기"
   ]
  },
  {
   "cell_type": "code",
   "execution_count": 38,
   "id": "83b822d5-302f-4fc9-8b80-44a72c5b25d6",
   "metadata": {},
   "outputs": [
    {
     "name": "stdout",
     "output_type": "stream",
     "text": [
      "{1: 'a', 2: 'b', 'arr': [1, 2, 3, 4]}\n"
     ]
    }
   ],
   "source": [
    "aa = {1: 'a', 2: 'b', 'name': 'pey', 'arr': [1, 2, 3, 4]}\n",
    "del aa['name']\n",
    "print(aa)"
   ]
  },
  {
   "cell_type": "markdown",
   "id": "8c87d4b1-5743-4d36-a439-1c00b56ad3c2",
   "metadata": {},
   "source": [
    "### 딕셔너리를 사용하는 방법"
   ]
  },
  {
   "cell_type": "code",
   "execution_count": 39,
   "id": "f8e2657b-6582-477e-86f7-2043ce48867f",
   "metadata": {},
   "outputs": [
    {
     "data": {
      "text/plain": [
       "{'김연아': '피겨스케이팅', '류현진': '야구', '손흥민': '축구', '귀도': '파이썬'}"
      ]
     },
     "execution_count": 39,
     "metadata": {},
     "output_type": "execute_result"
    }
   ],
   "source": [
    "{\"김연아\": \"피겨스케이팅\", \"류현진\": \"야구\", \"손흥민\": \"축구\", \"귀도\": \"파이썬\"}"
   ]
  },
  {
   "cell_type": "markdown",
   "id": "e051bf0a-bba9-4e79-a094-825b680eca09",
   "metadata": {},
   "source": [
    "#### 딕셔너리에서 Key를 사용해 Value 얻기"
   ]
  },
  {
   "cell_type": "code",
   "execution_count": 51,
   "id": "d705030b-688e-4e88-a827-3cbdd5eaf93d",
   "metadata": {},
   "outputs": [
    {
     "name": "stdout",
     "output_type": "stream",
     "text": [
      "10 99\n",
      "pey\n",
      "010-9999-1234\n",
      "1118\n"
     ]
    }
   ],
   "source": [
    "grade = {'pey':10, 'julliet':99}\n",
    "dic = {'name':'pey', 'phone':'010-9999-1234', 'birth': '1118'}\n",
    "print(grade['pey'], grade['julliet'])\n",
    "print(dic['name'])\n",
    "print(dic['phone'])\n",
    "print(dic['birth'])"
   ]
  },
  {
   "cell_type": "markdown",
   "id": "c6cd7551-437a-4aea-a105-8172c85aacc8",
   "metadata": {},
   "source": [
    "#### 딕셔너리 만들 때 주의할 사항"
   ]
  },
  {
   "cell_type": "markdown",
   "id": "40821af8-d5bf-4b02-a6b2-73004a44eec0",
   "metadata": {},
   "source": [
    "- 중복되지말 것: a = {1:'a',1:'b'} <- 1이라는 key 값이 중복으로 사용되면 그결과 중 1:'a' 쌍이 무시됨\n",
    "- 키 값을 리스트로 하지말 것: a = {[1,2]:'hi'} <- 리스트를 키로 사용하면 오류 발생"
   ]
  },
  {
   "cell_type": "markdown",
   "id": "d31b64c4-b565-437b-ba52-abb17b071288",
   "metadata": {},
   "source": [
    "### 딕셔너리 관련 함수 *"
   ]
  },
  {
   "cell_type": "markdown",
   "id": "67f755a2-46b9-4a91-90ce-7fe8c45639a4",
   "metadata": {},
   "source": [
    "#### Key 리스트 만들기 - keys(dict_keys) *"
   ]
  },
  {
   "cell_type": "code",
   "execution_count": 53,
   "id": "9dc3ae02-27f8-4179-a1ac-20fc05cf7214",
   "metadata": {},
   "outputs": [
    {
     "name": "stdout",
     "output_type": "stream",
     "text": [
      "1: dict_keys([(1, 2, 3), 'phone', 'birth']) <class 'dict_keys'>\n",
      "2: [(1, 2, 3), 'phone', 'birth'] <class 'list'>\n",
      "3: ((1, 2, 3), 'phone', 'birth') <class 'tuple'>\n"
     ]
    }
   ],
   "source": [
    "a = {(1,2,3):'pey', 'phone':'010-9999-1234', 'birth': '1118'} # 튜플로 키가 가능\n",
    "print('1:',a.keys(),type(a.keys()))\n",
    "\n",
    "list_keys = list(a.keys())\n",
    "print('2:',list_keys,type(list_keys))\n",
    "\n",
    "t_keys = tuple(list_keys)\n",
    "print('3:',t_keys,type(t_keys))"
   ]
  },
  {
   "cell_type": "code",
   "execution_count": 55,
   "id": "45a81dd0-f268-4fdb-b1a1-2dcfbbc5b88b",
   "metadata": {},
   "outputs": [
    {
     "name": "stdout",
     "output_type": "stream",
     "text": [
      "(1, 2, 3)\n",
      "phone\n",
      "birth\n"
     ]
    }
   ],
   "source": [
    "'''dict_keys 객체는 리스트를 사용하는 것과 별 차이는 없지만, 리스트 고유의\n",
    "   append, insert, pop, remove, sort 함수는 수행할 수 없다.'''\n",
    "for k in a.keys():\n",
    "    print(k)"
   ]
  },
  {
   "cell_type": "markdown",
   "id": "2d076755-2d40-4a9d-b745-9f5220eaac99",
   "metadata": {},
   "source": [
    "#### Value 리스트 만들기 - values(dict_values)*"
   ]
  },
  {
   "cell_type": "code",
   "execution_count": 56,
   "id": "d0e69e29-bb49-42af-9419-bb27d9dfa09a",
   "metadata": {},
   "outputs": [
    {
     "name": "stdout",
     "output_type": "stream",
     "text": [
      "1: dict_values(['pey', '010-9999-1234', '1118']) <class 'dict_values'>\n",
      "2: ['pey', '010-9999-1234', '1118'] <class 'list'>\n",
      "3: ('pey', '010-9999-1234', '1118') <class 'tuple'>\n"
     ]
    }
   ],
   "source": [
    "a = {(1,2,3):'pey', 'phone':'010-9999-1234', 'birth': '1118'}\n",
    "print('1:',a.values(),type(a.values()))\n",
    "\n",
    "list_values = list(a.values())\n",
    "print('2:',list_values,type(list_values))\n",
    "\n",
    "t_values = tuple(list_values)\n",
    "print('3:',t_values,type(t_values))"
   ]
  },
  {
   "cell_type": "markdown",
   "id": "e0a33c46-9c28-4787-88eb-7553ce49805a",
   "metadata": {},
   "source": [
    "#### Key, Value 쌍 얻기 - items(dict_items) "
   ]
  },
  {
   "cell_type": "code",
   "execution_count": 57,
   "id": "0a0a560b-6e13-4996-87fa-e1c50c749faf",
   "metadata": {},
   "outputs": [
    {
     "name": "stdout",
     "output_type": "stream",
     "text": [
      "1: dict_items([((1, 2, 3), 'pey'), ('phone', '010-9999-1234'), ('birth', '1118')]) <class 'dict_items'>\n",
      "2: [((1, 2, 3), 'pey'), ('phone', '010-9999-1234'), ('birth', '1118')] <class 'list'>\n",
      "3: (((1, 2, 3), 'pey'), ('phone', '010-9999-1234'), ('birth', '1118')) <class 'tuple'>\n"
     ]
    }
   ],
   "source": [
    "a = {(1,2,3):'pey', 'phone':'010-9999-1234', 'birth': '1118'}\n",
    "print('1:',a.items(),type(a.items()))\n",
    "\n",
    "list_items = list(a.items())\n",
    "print('2:',list_items,type(list_items))\n",
    "\n",
    "t_items = tuple(list_items)\n",
    "print('3:',t_items,type(t_items))"
   ]
  },
  {
   "cell_type": "markdown",
   "id": "d94599b2-cfad-43b5-bc1b-8602562f71c1",
   "metadata": {},
   "source": [
    "#### Key:Value 쌍 모두 지우기 - clear *"
   ]
  },
  {
   "cell_type": "code",
   "execution_count": 62,
   "id": "aaeb5f97-727d-484f-a0f6-508120067a84",
   "metadata": {},
   "outputs": [
    {
     "name": "stdout",
     "output_type": "stream",
     "text": [
      "전: {(1, 2, 3): 'pey', 'phone': '010-9999-1234', 'birth': '1118'}\n",
      "후: {}\n",
      "전: {(1, 2, 3): 'pey', 'phone': '010-9999-1234', 'birth': '1118'}\n",
      "후: {}\n"
     ]
    }
   ],
   "source": [
    "a = {(1,2,3):'pey', 'phone':'010-9999-1234', 'birth': '1118'}\n",
    "print('전:',a)\n",
    "a={}\n",
    "print('후:',a)\n",
    "b = {(1,2,3):'pey', 'phone':'010-9999-1234', 'birth': '1118'}\n",
    "print('전:',b)\n",
    "b.clear()\n",
    "print('후:',b)"
   ]
  },
  {
   "cell_type": "markdown",
   "id": "d8e87d3b-80d6-4762-aacd-5d7521d66632",
   "metadata": {},
   "source": [
    "#### Key로 Value 얻기 - get *"
   ]
  },
  {
   "cell_type": "code",
   "execution_count": 69,
   "id": "6469d425-3282-4a6e-9396-126814be5c5b",
   "metadata": {},
   "outputs": [
    {
     "name": "stdout",
     "output_type": "stream",
     "text": [
      "None\n",
      "없어요!\n"
     ]
    }
   ],
   "source": [
    "a = {(1,2,3):'pey', 'phone':'010-9999-1234', 'birth': '1118'}\n",
    "# print(a['hi']) # 에러\n",
    "print(a.get('hi'))\n",
    "if not a.get('hi'):\n",
    "    print('없어요!')"
   ]
  },
  {
   "cell_type": "markdown",
   "id": "8f4ccf49-418d-4724-a36e-bb557905605e",
   "metadata": {},
   "source": [
    "- 응용"
   ]
  },
  {
   "cell_type": "code",
   "execution_count": 73,
   "id": "cf0cc442-427a-43af-a702-2fba96347146",
   "metadata": {},
   "outputs": [
    {
     "name": "stdin",
     "output_type": "stream",
     "text": [
      "원하는 값을 찾을 키를 입력하세요. 11\n"
     ]
    },
    {
     "name": "stdout",
     "output_type": "stream",
     "text": [
      "찾는 키가 없어요!\n"
     ]
    }
   ],
   "source": [
    "a = {(1,2,3):'pey', 'phone':'010-9999-1234', 'birth': '1118'}\n",
    "key = input('원하는 값을 찾을 키를 입력하세요.')\n",
    "# if not a.get(key): # 업을때는 기본 None을 리턴\n",
    "if a.get(key,'code77') =='code77': # a.get('nokey','code77')\n",
    "    print('찾는 키가 없어요!')\n",
    "else:\n",
    "    print(a[key])"
   ]
  },
  {
   "cell_type": "markdown",
   "id": "12c2a51a-236b-4136-beaa-fb366aafa6f3",
   "metadata": {},
   "source": [
    "#### 해당 Key가 딕셔너리 안에 있는지 조사하기 - in *"
   ]
  },
  {
   "cell_type": "code",
   "execution_count": 79,
   "id": "71843be8-8093-447e-a08a-5009f7d11763",
   "metadata": {},
   "outputs": [
    {
     "name": "stdout",
     "output_type": "stream",
     "text": [
      "True\n",
      "False\n"
     ]
    }
   ],
   "source": [
    "a = {(1,2,3):'pey', 'phone':'010-9999-1234', 'birth': '1118'}\n",
    "print((1,2,3) in a)\n",
    "print('hi' in a)"
   ]
  },
  {
   "cell_type": "markdown",
   "id": "af0dbba6-626a-421b-a432-28b72d229783",
   "metadata": {},
   "source": [
    "## 집합 자료형 *"
   ]
  },
  {
   "cell_type": "markdown",
   "id": "0e9831ea-1700-41c6-962f-4d229b8cfb4a",
   "metadata": {},
   "source": [
    "### 집합자료형 set"
   ]
  },
  {
   "cell_type": "code",
   "execution_count": 81,
   "id": "180e7c7d-194f-4e39-9722-3eed42db389d",
   "metadata": {},
   "outputs": [
    {
     "name": "stdout",
     "output_type": "stream",
     "text": [
      "{1, 2, 3, 4, 5}\n",
      "{'f', 'C', 'e', 'o'}\n"
     ]
    }
   ],
   "source": [
    "s1 = set([5,1,2,3,3,2,1,4])\n",
    "s2 = set('Coffee')\n",
    "print(s1)\n",
    "print(s2)"
   ]
  },
  {
   "cell_type": "markdown",
   "id": "a50fcdf8-c466-4f9f-a2d7-702f76079e23",
   "metadata": {},
   "source": [
    "### 집합자료형의 특징\n",
    "- 중복을 허용하지 않는다.\n",
    "- 순서가 없다.(unordered)\n",
    "- 필터로 사용가능.\n",
    "- 리스트나 튜플로 사용하면 요소에 접근가능."
   ]
  },
  {
   "cell_type": "code",
   "execution_count": 91,
   "id": "b38d9a73-42ca-4ba8-9dab-a24936578ef6",
   "metadata": {},
   "outputs": [
    {
     "name": "stdout",
     "output_type": "stream",
     "text": [
      "원본: [5, 1, 2, 3, 3, 2, 1, 4]\n",
      "중복제거SET: {1, 2, 3, 4, 5}\n",
      "리스트변환: [1, 2, 3, 4, 5] / 인덱스2: 3\n",
      "튜플변환: (1, 2, 3, 4, 5) / 인덱스2: 3\n"
     ]
    }
   ],
   "source": [
    "s = [5,1,2,3,3,2,1,4]\n",
    "s1 = set(s)\n",
    "l1 = list(s1)\n",
    "t1 = tuple(s1)\n",
    "print('원본:',s)\n",
    "print('중복제거SET:',s1)\n",
    "print('리스트변환:',l1,'/ 인덱스2:',l1[2])\n",
    "print('튜플변환:',t1,'/ 인덱스2:',t1[2])"
   ]
  },
  {
   "cell_type": "markdown",
   "id": "56071a90-bf40-4ebf-9540-cc3db1c8b21e",
   "metadata": {},
   "source": [
    "### 교집합, 합집합, 차집합 구하기 *"
   ]
  },
  {
   "cell_type": "code",
   "execution_count": 92,
   "id": "c58de868-5d01-4c95-b63b-555ea2a141f1",
   "metadata": {},
   "outputs": [],
   "source": [
    "s1 = set([1,2,3,4,5,6])\n",
    "s2 = set([4,5,6,7,8,9])"
   ]
  },
  {
   "cell_type": "markdown",
   "id": "ba1f98d8-cc9d-4fec-b16c-a66e9ce41318",
   "metadata": {},
   "source": [
    "#### 교집합 구하기"
   ]
  },
  {
   "cell_type": "code",
   "execution_count": 94,
   "id": "141196be-c735-4388-9612-bc662d6853e4",
   "metadata": {},
   "outputs": [
    {
     "name": "stdout",
     "output_type": "stream",
     "text": [
      "{4, 5, 6} <class 'set'>\n"
     ]
    }
   ],
   "source": [
    "s3 = s1 & s2 # 다음과 같은 기능 s1.intersection(s2)\n",
    "print(s3,type(s3))"
   ]
  },
  {
   "cell_type": "markdown",
   "id": "1d2e1441-977d-4a3c-992a-6740e6a97e70",
   "metadata": {},
   "source": [
    "#### 합집합 구하기"
   ]
  },
  {
   "cell_type": "code",
   "execution_count": 96,
   "id": "1e72632b-edb1-4a68-9bf0-01726570f319",
   "metadata": {},
   "outputs": [
    {
     "name": "stdout",
     "output_type": "stream",
     "text": [
      "{1, 2, 3, 4, 5, 6, 7, 8, 9} <class 'set'>\n"
     ]
    }
   ],
   "source": [
    "s4 = s1 | s2 # 다음과 같은 기능 s4 = s1.union(s2)\n",
    "print(s4,type(s4))"
   ]
  },
  {
   "cell_type": "markdown",
   "id": "083f150c-32e8-470c-b63f-4266357cd1f3",
   "metadata": {},
   "source": [
    "#### 차집합 구하기"
   ]
  },
  {
   "cell_type": "code",
   "execution_count": 98,
   "id": "d9daaf46-a144-43f4-916b-ed4682240100",
   "metadata": {},
   "outputs": [
    {
     "name": "stdout",
     "output_type": "stream",
     "text": [
      "{1, 2, 3}\n",
      "{8, 9, 7}\n"
     ]
    }
   ],
   "source": [
    "s5 = s1 - s2 # 다음과 같은 기능 s5 = s1.difference(s2)\n",
    "s6 = s2 - s1 # 다음과 같은 기능 s6 = s2.difference(s1)\n",
    "print(s5)\n",
    "print(s6)"
   ]
  },
  {
   "cell_type": "markdown",
   "id": "8fd42b7c-3b42-46fb-8e72-54a0a36b626c",
   "metadata": {},
   "source": [
    "### 집합 자료형 관련함수"
   ]
  },
  {
   "cell_type": "markdown",
   "id": "06f2eeee-741c-452e-b7e6-b727f7eab60e",
   "metadata": {},
   "source": [
    "#### 값 1개 추가하기 - add"
   ]
  },
  {
   "cell_type": "code",
   "execution_count": 101,
   "id": "53acb6c7-1122-457a-938d-ae9365f79449",
   "metadata": {},
   "outputs": [
    {
     "name": "stdout",
     "output_type": "stream",
     "text": [
      "{1, 2, 3, 4} <class 'set'>\n"
     ]
    }
   ],
   "source": [
    "s1 = set([1,2,3])\n",
    "s1.add(4)\n",
    "print(s1,type(s1))"
   ]
  },
  {
   "cell_type": "markdown",
   "id": "9cd6fe10-6146-4fc1-8d18-ad86f664dff1",
   "metadata": {},
   "source": [
    "#### 값 여러개 추가하기 - update"
   ]
  },
  {
   "cell_type": "code",
   "execution_count": 102,
   "id": "3dbb6fa0-8234-4cf4-b738-67906c4754fc",
   "metadata": {},
   "outputs": [
    {
     "name": "stdout",
     "output_type": "stream",
     "text": [
      "{1, 2, 3, 4, 5, 6} <class 'set'>\n"
     ]
    }
   ],
   "source": [
    "s1 = set([1,2,3])\n",
    "s1.update([4,5,6])\n",
    "print(s1,type(s1))"
   ]
  },
  {
   "cell_type": "markdown",
   "id": "14c331ac-e1c3-4802-8ec0-6d898b385767",
   "metadata": {},
   "source": [
    "#### 특정 값 제거하기 - remove *"
   ]
  },
  {
   "cell_type": "code",
   "execution_count": 104,
   "id": "ac3f2217-46dc-4743-a66e-5f80fc0daeed",
   "metadata": {},
   "outputs": [
    {
     "name": "stdout",
     "output_type": "stream",
     "text": [
      "{1, 3} <class 'set'>\n"
     ]
    }
   ],
   "source": [
    "s1 = set([1,2,3])\n",
    "s1.remove(2)\n",
    "print(s1,type(s1))"
   ]
  },
  {
   "cell_type": "markdown",
   "id": "8f8c1d10-59b0-442a-ba4b-1d200d0daab6",
   "metadata": {},
   "source": [
    "## 불 자료형 *"
   ]
  },
  {
   "cell_type": "markdown",
   "id": "2aa512ce-f6c7-450e-a11e-8fcd6d7c831d",
   "metadata": {},
   "source": [
    "### 불 자료형 (True, False)"
   ]
  },
  {
   "cell_type": "code",
   "execution_count": 118,
   "id": "b65426fe-c011-442a-8f72-bacf932041cc",
   "metadata": {},
   "outputs": [
    {
     "name": "stdout",
     "output_type": "stream",
     "text": [
      "True <class 'bool'>\n",
      "True <class 'bool'>\n",
      "False <class 'bool'>\n",
      "True <class 'bool'>\n",
      "True <class 'bool'>\n",
      "True <class 'bool'>\n"
     ]
    }
   ],
   "source": [
    "b1 = 1 == 1\n",
    "b2 = 2 > 1\n",
    "b3 = 2 < 1\n",
    "b4 = bool((1,)) # 비었을 땐 False\n",
    "b5 = bool([1,2,3]) # 비었을 땐 False\n",
    "b6 = bool({1:2}) # 비었을 땐 False\n",
    "print(b1,type(b1))\n",
    "print(b2,type(b2))\n",
    "print(b3,type(b3))\n",
    "print(b4,type(b4))\n",
    "print(b5,type(b5))\n",
    "print(b6,type(b6))"
   ]
  },
  {
   "cell_type": "markdown",
   "id": "3d688ee2-2561-45a2-99ef-ada1af927593",
   "metadata": {},
   "source": [
    "### 자료형의 참과 거짓"
   ]
  },
  {
   "cell_type": "code",
   "execution_count": 120,
   "id": "53d80fcf-4717-42a6-b01c-bff3279ab723",
   "metadata": {},
   "outputs": [
    {
     "name": "stdout",
     "output_type": "stream",
     "text": [
      "[1, 2, 3, 4] 5\n",
      "[1, 2, 3] 4\n",
      "[1, 2] 3\n",
      "[1] 2\n",
      "[] 1\n",
      "a가 비었습니다.\n"
     ]
    }
   ],
   "source": [
    "a = [1,2,3,4,5]\n",
    "while a:\n",
    "    print(a,a.pop())\n",
    "print('a가 비었습니다.')"
   ]
  },
  {
   "cell_type": "markdown",
   "id": "2a5fbcfa-85c9-4a9d-8682-b70fcf803352",
   "metadata": {},
   "source": [
    "### 불 연산"
   ]
  },
  {
   "cell_type": "code",
   "execution_count": 128,
   "id": "53bc4077-db0b-4d42-9232-4a7032cde480",
   "metadata": {},
   "outputs": [
    {
     "name": "stdout",
     "output_type": "stream",
     "text": [
      "bool([1,2,3]):True\n",
      "bool([]):False\n",
      "bool(0):False\n",
      "bool(3): True\n"
     ]
    }
   ],
   "source": [
    "b1 = bool([1,2,3])\n",
    "b2 = bool([])\n",
    "b3 = bool(0)\n",
    "b4 = bool(3)\n",
    "print('bool([1,2,3]):{0}'.format(b1))\n",
    "print('bool([]):%s' %(b2))\n",
    "print(f'bool(0):{b3}')\n",
    "print('bool(3):',bool(3))"
   ]
  },
  {
   "cell_type": "markdown",
   "id": "d1c5c856-68dc-4d7b-ab63-2b6c864be462",
   "metadata": {},
   "source": [
    "## 자료형의 값을 저장하는 공간, 변수"
   ]
  },
  {
   "cell_type": "markdown",
   "id": "3683baea-e4b7-47a6-aae7-fe529fbbcffb",
   "metadata": {},
   "source": [
    "### 변수 variable\n",
    "- 변수 이름 = 변수에 저장할 값"
   ]
  },
  {
   "cell_type": "markdown",
   "id": "78416573-370d-46ea-823a-8084a98c029e",
   "metadata": {},
   "source": [
    "### 변수란?"
   ]
  },
  {
   "cell_type": "code",
   "execution_count": 141,
   "id": "ea206365-31cc-4948-a653-1bf1d903e7f5",
   "metadata": {},
   "outputs": [
    {
     "name": "stdout",
     "output_type": "stream",
     "text": [
      "4037283976\n"
     ]
    }
   ],
   "source": [
    "a = [1,2,3]\n",
    "print(id(a))"
   ]
  },
  {
   "cell_type": "markdown",
   "id": "7da8be9e-9c52-410a-9fde-9d7100359488",
   "metadata": {},
   "source": [
    "### 리스트를 복사하고자 할 때"
   ]
  },
  {
   "cell_type": "code",
   "execution_count": 26,
   "id": "ab4c2c4f-4ffa-4ec3-aa39-d121bbf49756",
   "metadata": {},
   "outputs": [
    {
     "name": "stdout",
     "output_type": "stream",
     "text": [
      "True\n",
      "True\n",
      "[1, 4, 3]\n",
      "[1, 4, 3]\n"
     ]
    }
   ],
   "source": [
    "a = [1,2,3]\n",
    "# 얕은 복사\n",
    "b = a\n",
    "print(a is b) # 값과 저장공간도 같은지 확인, 속도가 조금 더 빠름\n",
    "print(a == b)# 값만 같은지 확인\n",
    "b[1] = 4\n",
    "print(a)\n",
    "print(b)"
   ]
  },
  {
   "cell_type": "markdown",
   "id": "973bbe57-b88d-4a96-8733-f219c1ee86a1",
   "metadata": {},
   "source": [
    "#### [:] 이용하기 *"
   ]
  },
  {
   "cell_type": "code",
   "execution_count": 25,
   "id": "d4260014-2cfe-4f5f-8083-e6b8cb99b372",
   "metadata": {},
   "outputs": [
    {
     "name": "stdout",
     "output_type": "stream",
     "text": [
      "False\n",
      "True\n",
      "[1, 2, 7]\n",
      "[1, 2, 3]\n"
     ]
    }
   ],
   "source": [
    "a = [1,2,3]\n",
    "# 깊은 복사\n",
    "c = a[:]\n",
    "print(a is c) # 값과 저장공간도 같은지 확인, 속도가 조금 더 빠름\n",
    "print(a == c)# 값만 같은지 확인\n",
    "a[2] = 7\n",
    "print(a)\n",
    "print(c)"
   ]
  },
  {
   "cell_type": "markdown",
   "id": "fdd0a096-6005-4fd7-861c-d49ec4e81e3d",
   "metadata": {},
   "source": [
    "#### copy 모듈 이용하기 *"
   ]
  },
  {
   "cell_type": "code",
   "execution_count": 84,
   "id": "8fb3dd8d-2bdc-4659-bc76-9a04088c74d1",
   "metadata": {},
   "outputs": [
    {
     "name": "stdout",
     "output_type": "stream",
     "text": [
      "[1, 2, 3]\n",
      "4053339912\n",
      "4053005128\n",
      "False\n",
      "True\n"
     ]
    }
   ],
   "source": [
    "# 모듈기능을 가져오기\n",
    "from copy import copy \n",
    "a = [1,2,3]\n",
    "b = copy(a)\n",
    "print(b)\n",
    "print(id(a))\n",
    "print(id(b))\n",
    "print(a is b) # 값과 저장공간도 같은지 확인, 속도가 조금 더 빠름\n",
    "print(a == b)# 값만 같은지 확인"
   ]
  },
  {
   "cell_type": "code",
   "execution_count": 28,
   "id": "45bac2b5-6e16-45c2-838e-d36bbf221774",
   "metadata": {},
   "outputs": [
    {
     "name": "stdout",
     "output_type": "stream",
     "text": [
      "[1, 2, 3]\n",
      "4053785128\n",
      "4053457416\n",
      "False\n",
      "True\n"
     ]
    }
   ],
   "source": [
    "# 내장 함수를 사용하는 방법\n",
    "aa = [1,2,3]\n",
    "bb = aa.copy()\n",
    "print(bb)\n",
    "print(id(aa))\n",
    "print(id(bb))\n",
    "print(aa is bb) # 값과 저장공간도 같은지 확인, 속도가 조금 더 빠름\n",
    "print(aa == bb)# 값만 같은지 확인"
   ]
  },
  {
   "cell_type": "code",
   "execution_count": 10,
   "id": "0945ffdf-000d-47da-84a5-1f78e1afc957",
   "metadata": {},
   "outputs": [
    {
     "name": "stdout",
     "output_type": "stream",
     "text": [
      "4053382048\n",
      "4053382048\n",
      "4053382048\n"
     ]
    }
   ],
   "source": [
    "# 모듈기능을 가져오기 string 복사 테스트\n",
    "from copy import copy\n",
    "s1 = '감사합니다.'\n",
    "s2 = s1\n",
    "print(id(s1))\n",
    "print(id(s2))\n",
    "s3 = copy(s1)\n",
    "print(id(s3))"
   ]
  },
  {
   "cell_type": "code",
   "execution_count": 30,
   "id": "2e0d2bf6-f29e-4a03-81b5-0b04b7d63fff",
   "metadata": {
    "scrolled": true
   },
   "outputs": [
    {
     "name": "stdout",
     "output_type": "stream",
     "text": [
      "4053523104\n",
      "4053523104\n",
      "4053523104\n",
      "True\n",
      "True\n"
     ]
    }
   ],
   "source": [
    "# 모듈기능을 가져오기 tuple 복사 테스트\n",
    "from copy import copy\n",
    "t1 = (1,2,3,4)\n",
    "t2 = t1\n",
    "print(id(t1))\n",
    "print(id(t2))\n",
    "t3 = copy(t1) # 튜플 깊은복사를 해도 아이디가 변하지 않음.\n",
    "print(id(t3))\n",
    "print(t1 is t2) # 값과 저장공간도 같은지 확인, 속도가 조금 더 빠름\n",
    "print(t1 == t2)# 값만 같은지 확인"
   ]
  },
  {
   "cell_type": "markdown",
   "id": "85336bb7-7243-47ef-a727-105fb971f6d9",
   "metadata": {},
   "source": [
    "### 변수를 만드는 여러가지 방법 *"
   ]
  },
  {
   "cell_type": "code",
   "execution_count": 46,
   "id": "92f70230-897d-4e65-9444-5bdff17d2e94",
   "metadata": {},
   "outputs": [
    {
     "name": "stdout",
     "output_type": "stream",
     "text": [
      "python life\n",
      "python life\n",
      "python life\n"
     ]
    }
   ],
   "source": [
    "# 튜플은 괄호 생략가능\n",
    "a1, b1 = 'python', 'life'\n",
    "a2, b2 = ('python', 'life')\n",
    "(a3, b3) = 'python', 'life'\n",
    "print(a1,b1)\n",
    "print(a2,b2)\n",
    "print(a3,b3)"
   ]
  },
  {
   "cell_type": "code",
   "execution_count": 47,
   "id": "bce9fc9d-127a-4b5f-b595-9978451db781",
   "metadata": {},
   "outputs": [
    {
     "name": "stdout",
     "output_type": "stream",
     "text": [
      "python life\n",
      "python life\n",
      "python life\n",
      "python life\n"
     ]
    }
   ],
   "source": [
    "# 리스트 복사\n",
    "a0, b0 = ['python', 'life']\n",
    "[a1, b1] = ['python', 'life']\n",
    "[a2, b2] = 'python', 'life'\n",
    "[a3, b3] = ('python', 'life')\n",
    "print(a0,b0)\n",
    "print(a1,b1)\n",
    "print(a2,b2)\n",
    "print(a3,b3)"
   ]
  },
  {
   "cell_type": "code",
   "execution_count": 50,
   "id": "c32b4676-2502-4a73-8570-4bc0010c9dab",
   "metadata": {},
   "outputs": [
    {
     "name": "stdout",
     "output_type": "stream",
     "text": [
      "python python python\n",
      "python\n"
     ]
    }
   ],
   "source": [
    "# 여러 개의 변수값 대입\n",
    "a = b = c = ㅋ = 'python'\n",
    "print(a,b,c)\n",
    "print(ㅋ)"
   ]
  },
  {
   "cell_type": "code",
   "execution_count": 54,
   "id": "9c4c8144-42af-4822-b9d7-2740bb6ee4ad",
   "metadata": {},
   "outputs": [
    {
     "name": "stdout",
     "output_type": "stream",
     "text": [
      "a:3 b:5\n",
      "a:5 b:3\n",
      "a:5 b:3\n"
     ]
    }
   ],
   "source": [
    "a = 3\n",
    "b = 5\n",
    "print('a:%d b:%d'%(a,b)) # 1\n",
    "a, b = b, a\n",
    "print('a:{0} b:{1}'.format(a,b)) # 2\n",
    "print(f'a:{a} b:{b}') # 3"
   ]
  },
  {
   "cell_type": "markdown",
   "id": "7de34900-4220-4ca1-8288-5223ade7a449",
   "metadata": {},
   "source": [
    "# 제어문 **"
   ]
  },
  {
   "cell_type": "markdown",
   "id": "1a262fa9-3810-452b-a3a4-f502ad23ef70",
   "metadata": {},
   "source": [
    "## if 문 **"
   ]
  },
  {
   "cell_type": "markdown",
   "id": "12f99896-b3c2-4d63-aa51-3927c33e14a2",
   "metadata": {},
   "source": [
    "### 조건문이란"
   ]
  },
  {
   "cell_type": "code",
   "execution_count": 56,
   "id": "d13e3eba-4dd9-4b67-b62c-aa80d2c28598",
   "metadata": {},
   "outputs": [
    {
     "name": "stdout",
     "output_type": "stream",
     "text": [
      "조건문 가동\n"
     ]
    }
   ],
   "source": [
    "if True:\n",
    "    print('조건문 가동')"
   ]
  },
  {
   "cell_type": "markdown",
   "id": "0d0ea87e-e173-491b-8f29-b84ec024ac14",
   "metadata": {},
   "source": [
    "#### 비교연산자 "
   ]
  },
  {
   "cell_type": "code",
   "execution_count": 63,
   "id": "ef4b362d-feed-4934-8c6c-bcfe10391f9a",
   "metadata": {},
   "outputs": [
    {
     "name": "stdout",
     "output_type": "stream",
     "text": [
      "x=3 y=2 일때\n",
      "x<y: False\n",
      "x>y: True\n",
      "x==y: False\n",
      "x!=y: True\n",
      "x>=y: True\n",
      "x<=y: False\n"
     ]
    }
   ],
   "source": [
    "x,y = 3,2\n",
    "print(f'x={x} y={y} 일때')\n",
    "print('x<y:',x<y)\n",
    "print('x>y:',x>y)\n",
    "print('x==y:',x==y)\n",
    "print('x!=y:',x!=y)\n",
    "print('x>=y:',x>=y)\n",
    "print('x<=y:',x<=y)"
   ]
  },
  {
   "cell_type": "code",
   "execution_count": 76,
   "id": "a2689cbd-06ee-4626-ba4b-08f5ffd15ee5",
   "metadata": {},
   "outputs": [
    {
     "name": "stdin",
     "output_type": "stream",
     "text": [
      "얼마 가지고 있어? \n"
     ]
    },
    {
     "name": "stdout",
     "output_type": "stream",
     "text": [
      "걸어가라\n"
     ]
    }
   ],
   "source": [
    "# 만약 3000원 이상의 돈을 가지고 있으면 택시를 타고 가고, 그렇지 않으면 걸어가라.\n",
    "money = int(input('얼마 가지고 있어?') or 2000)\n",
    "if money >= 3000:\n",
    "    print('택시타고 가라')\n",
    "else:\n",
    "    print('걸어가라')"
   ]
  },
  {
   "cell_type": "markdown",
   "id": "9d69e29c-23a9-44be-a9d4-e0ea693a85b3",
   "metadata": {},
   "source": [
    "#### and, or, not"
   ]
  },
  {
   "cell_type": "code",
   "execution_count": 83,
   "id": "7d7d948b-f737-456f-9c03-b73efd3b5299",
   "metadata": {},
   "outputs": [
    {
     "name": "stdout",
     "output_type": "stream",
     "text": [
      "택시타고 가세요\n"
     ]
    }
   ],
   "source": [
    "money = 2000\n",
    "card = False\n",
    "girlFriend = True\n",
    "if (money >= 30000 and girlFriend) or not card: # 무조건 실행됨\n",
    "    print(\"택시타고 가세요\")\n",
    "else:\n",
    "    print(\"걸어갈 리가 없지만 걸어가!\")"
   ]
  },
  {
   "cell_type": "markdown",
   "id": "f586f959-a8a8-4700-9f01-a08a20bb8cca",
   "metadata": {},
   "source": [
    "#### in, not in *"
   ]
  },
  {
   "cell_type": "code",
   "execution_count": 89,
   "id": "88420774-44b1-4903-8def-c3c302aad471",
   "metadata": {},
   "outputs": [
    {
     "name": "stdout",
     "output_type": "stream",
     "text": [
      "True\n",
      "False\n",
      "True\n",
      "True\n"
     ]
    }
   ],
   "source": [
    "print(1 in [1,2,3,4,5])\n",
    "print(1 not in [1,2,3,4,5])\n",
    "print('a' in ('a','b','c'))\n",
    "print('j' not in 'python')"
   ]
  },
  {
   "cell_type": "code",
   "execution_count": 93,
   "id": "8ca82340-06ee-4875-9eed-18d44c199dee",
   "metadata": {},
   "outputs": [
    {
     "name": "stdout",
     "output_type": "stream",
     "text": [
      "택시타고가\n"
     ]
    }
   ],
   "source": [
    "pocket = 'paper','cellphone','money'\n",
    "if 'money' in pocket:\n",
    "    print(\"택시타고가\")\n",
    "else:\n",
    "    print(\"걸어가!\")"
   ]
  },
  {
   "cell_type": "code",
   "execution_count": 98,
   "id": "dc23eafb-0845-46f9-926d-a264a9054b1a",
   "metadata": {},
   "outputs": [],
   "source": [
    "pocket = 'paper','cellphone','money'\n",
    "if 'money' in pocket:\n",
    "    pass\n",
    "else:\n",
    "    print(\"카드꺼내!\")"
   ]
  },
  {
   "cell_type": "code",
   "execution_count": 105,
   "id": "7a0fb5cb-0236-47a8-a752-68e2b224eeed",
   "metadata": {},
   "outputs": [
    {
     "name": "stdout",
     "output_type": "stream",
     "text": [
      "택시 타고 가\n"
     ]
    }
   ],
   "source": [
    "# pocket = ['paper','cellphone']\n",
    "mypocket = {'paper':'영수증','cellphone':'할부남음','key':'집열쇠'}\n",
    "pocket = mypocket.keys() # dict_keys 형태로 나옴.         \n",
    "card = True\n",
    "if 'money' in pocket:\n",
    "    print('택시 타고 가라')\n",
    "elif card:\n",
    "    print(\"택시 타고 가\")\n",
    "else:\n",
    "    print(\"걸어가\")"
   ]
  },
  {
   "cell_type": "code",
   "execution_count": 107,
   "id": "cd218f61-c572-45b5-b9f4-a8de79319dc4",
   "metadata": {},
   "outputs": [
    {
     "name": "stdout",
     "output_type": "stream",
     "text": [
      "카드꺼내라\n"
     ]
    }
   ],
   "source": [
    "pocket = ['money','paper','cellphone']\n",
    "if 'money' not in pocket: pass\n",
    "else:print(\"카드꺼내라\")"
   ]
  },
  {
   "cell_type": "markdown",
   "id": "baefd6ae-4777-40c1-805c-2618b2d76fec",
   "metadata": {},
   "source": [
    "### 조건부 표현식 *"
   ]
  },
  {
   "cell_type": "code",
   "execution_count": 111,
   "id": "28bb1812-2ada-4565-88a9-27ad8a065237",
   "metadata": {},
   "outputs": [
    {
     "name": "stdin",
     "output_type": "stream",
     "text": [
      "점수를 입력하시오 33\n"
     ]
    },
    {
     "name": "stdout",
     "output_type": "stream",
     "text": [
      "failure\n"
     ]
    }
   ],
   "source": [
    "'''\n",
    "if score >= 60:\n",
    "    message = \"success\"\n",
    "else:\n",
    "    message = \"failure\"\n",
    "'''\n",
    "# 조건부 표현식으로 변경\n",
    "score = int(input('점수를 입력하시오'))\n",
    "message = \"success\" if score >=60 else \"failure\"\n",
    "print(message)"
   ]
  },
  {
   "cell_type": "markdown",
   "id": "40381d5e-5aea-4936-89b1-555840df65e2",
   "metadata": {},
   "source": [
    "## While 문 **"
   ]
  },
  {
   "cell_type": "markdown",
   "id": "df6b34fd-f89d-4dec-838b-f51eb948bc0f",
   "metadata": {},
   "source": [
    "### while 문의 기본 구조"
   ]
  },
  {
   "cell_type": "code",
   "execution_count": 112,
   "id": "74c1e78d-5a66-44fa-b8df-fb6ff1910233",
   "metadata": {},
   "outputs": [
    {
     "name": "stdout",
     "output_type": "stream",
     "text": [
      "나무를 1번 찍었습니다\n",
      "나무를 2번 찍었습니다\n",
      "나무를 3번 찍었습니다\n",
      "나무를 4번 찍었습니다\n",
      "나무를 5번 찍었습니다\n",
      "나무를 6번 찍었습니다\n",
      "나무를 7번 찍었습니다\n",
      "나무를 8번 찍었습니다\n",
      "나무를 9번 찍었습니다\n",
      "나무를 10번 찍었습니다\n",
      "나무가 넘어갑니다.\n"
     ]
    }
   ],
   "source": [
    "treeHit = 0\n",
    "while treeHit < 10:\n",
    "    treeHit += 1\n",
    "    print(\"나무를 {0}번 찍었습니다\".format(treeHit))\n",
    "    if treeHit == 10:\n",
    "        print(\"나무가 넘어갑니다.\")"
   ]
  },
  {
   "cell_type": "markdown",
   "id": "71ceb23b-672e-4008-9ed2-4d1ca2e2ca81",
   "metadata": {},
   "source": [
    "### While 문 만들기"
   ]
  },
  {
   "cell_type": "code",
   "execution_count": null,
   "id": "06c9b6ac-1a2f-4f0e-ad4c-f8567da4d6b7",
   "metadata": {},
   "outputs": [],
   "source": [
    "prompt = \"\"\"\n",
    "1. Add\n",
    "2. Del\n",
    "3. List\n",
    "4. Quit\n",
    "\n",
    "Enter number: \"\"\"\n",
    "number = 0\n",
    "while number != 4:\n",
    "    print(prompt)\n",
    "    number = int(input())\n",
    "    print(f'입력하신 숫자는 {number}입니다.')"
   ]
  },
  {
   "cell_type": "markdown",
   "id": "8032a0cf-a52c-419e-80b0-3f174c4bb239",
   "metadata": {},
   "source": [
    "### while 문 강제로 빠져나가기"
   ]
  },
  {
   "cell_type": "code",
   "execution_count": 121,
   "id": "b8e576cf-ccf5-455c-bd2c-241b1e3b67bd",
   "metadata": {},
   "outputs": [
    {
     "name": "stdin",
     "output_type": "stream",
     "text": [
      "돈 주세요:  300\n"
     ]
    },
    {
     "name": "stdout",
     "output_type": "stream",
     "text": [
      "커피드릴께요. 남은 커피 개수:2\n"
     ]
    },
    {
     "name": "stdin",
     "output_type": "stream",
     "text": [
      "돈 주세요:  400\n"
     ]
    },
    {
     "name": "stdout",
     "output_type": "stream",
     "text": [
      "달라는데로 줄 것이지....아닙니다. 거스름돈 100을 드릴께요. 남은 커피 개수:1\n"
     ]
    },
    {
     "name": "stdin",
     "output_type": "stream",
     "text": [
      "돈 주세요:  1\n"
     ]
    },
    {
     "name": "stdout",
     "output_type": "stream",
     "text": [
      "나를 뭘로보고... 돈을 다시 돌려드리고 커피는 앙데요.\n",
      "남은 커피 개수:1\n"
     ]
    },
    {
     "name": "stdin",
     "output_type": "stream",
     "text": [
      "돈 주세요:  300\n"
     ]
    },
    {
     "name": "stdout",
     "output_type": "stream",
     "text": [
      "커피드릴께요. 남은 커피 개수:0\n",
      "커피가 없어요. 없다니까요... 사람 불러주세요.ㅠ\n"
     ]
    }
   ],
   "source": [
    "coffee = 3\n",
    "while 1:\n",
    "    money = int(input('돈 주세요: '))\n",
    "    if money == 300:        \n",
    "        coffee -= 1\n",
    "        print(f'커피드릴께요. 남은 커피 개수:{coffee}')\n",
    "    elif money > 300:\n",
    "        coffee -= 1\n",
    "        print('달라는데로 줄 것이지....아닙니다. 거스름돈 %d을 드릴께요. 남은 커피 개수:%d'%(money-300,coffee))\n",
    "    else:\n",
    "        print('나를 뭘로보고... 돈을 다시 돌려드리고 커피는 앙데요.')\n",
    "        print('남은 커피 개수:{num}'.format(num=coffee))\n",
    "    if not coffee:\n",
    "        print(\"커피가 없어요. 없다니까요... 사람 불러주세요.ㅠ\")\n",
    "        break"
   ]
  },
  {
   "cell_type": "markdown",
   "id": "5e847fa7-735d-4881-a5c0-404784a5bef8",
   "metadata": {},
   "source": [
    "### while 문 continue"
   ]
  },
  {
   "cell_type": "code",
   "execution_count": 124,
   "id": "6daa4b82-76bf-4332-bb8e-220b36cc5b70",
   "metadata": {},
   "outputs": [
    {
     "name": "stdout",
     "output_type": "stream",
     "text": [
      "1\n",
      "..라고 말하고 싶었는데...\n",
      "3\n",
      "..라고 말하고 싶었는데...\n",
      "5\n",
      "..라고 말하고 싶었는데...\n",
      "7\n",
      "..라고 말하고 싶었는데...\n",
      "9\n",
      "..라고 말하고 싶었는데...\n"
     ]
    }
   ],
   "source": [
    "a=0\n",
    "while a < 10:\n",
    "    a += 1\n",
    "    if a % 2 ==0:\n",
    "        print(f'..라고 말하고 싶었는데...')\n",
    "        continue\n",
    "    print(a)"
   ]
  },
  {
   "cell_type": "markdown",
   "id": "8253102c-6cae-4cf7-bff2-bd5fbf42bde4",
   "metadata": {
    "jp-MarkdownHeadingCollapsed": true
   },
   "source": [
    "### 무한루프"
   ]
  },
  {
   "cell_type": "code",
   "execution_count": 127,
   "id": "939b4cb9-46cd-48c7-9222-02c12d74eb72",
   "metadata": {
    "scrolled": true
   },
   "outputs": [],
   "source": [
    "while not '계속 돌릴 꺼에요.':\n",
    "    print(\"Ctrl+C를 눌러야 while 문을 빠져나갈 수 있습니다.\")"
   ]
  },
  {
   "cell_type": "markdown",
   "id": "b36df1a4-47fd-46a1-82fe-4b0aa0127b77",
   "metadata": {},
   "source": [
    "## for 문 **"
   ]
  },
  {
   "cell_type": "markdown",
   "id": "ae5fc41a-678a-41c6-980c-84d3e9051a67",
   "metadata": {
    "jp-MarkdownHeadingCollapsed": true
   },
   "source": [
    "### for 구문\n",
    "- <span style=\"color:red\">for</span> <b>변수</b> <span style=\"color:red\">in</span> <mark>리스트(또는 튜플, 문자열):</mark>"
   ]
  },
  {
   "cell_type": "markdown",
   "id": "00be55ad-bf69-4106-861a-4801ecbc2b9e",
   "metadata": {
    "jp-MarkdownHeadingCollapsed": true
   },
   "source": [
    "#### 전형적인 for 문"
   ]
  },
  {
   "cell_type": "code",
   "execution_count": 69,
   "id": "af43109c-db6a-4f6c-ac8e-cb6e7beb52dc",
   "metadata": {},
   "outputs": [
    {
     "name": "stdout",
     "output_type": "stream",
     "text": [
      "1\n",
      "2\n",
      "3\n",
      "4\n",
      "5\n",
      "6\n",
      "7\n",
      "8\n",
      "9\n"
     ]
    }
   ],
   "source": [
    "''' JS의 경우 for of 과 유사\n",
    "    for (const i of [1,2,3,4,5,6,7,8,9]){\n",
    "        console.log(i)\n",
    "        } '''\n",
    "for i in [1,2,3,4,5,6,7,8,9]:\n",
    "    print(i)"
   ]
  },
  {
   "cell_type": "markdown",
   "id": "f8c9c1f1-caa5-4fda-a07d-7f78a0cf37b0",
   "metadata": {
    "jp-MarkdownHeadingCollapsed": true
   },
   "source": [
    "#### 다양한 for 문의 사용"
   ]
  },
  {
   "cell_type": "code",
   "execution_count": 132,
   "id": "a8c61350-2fad-4f18-abad-83e1dd7a08ae",
   "metadata": {
    "scrolled": true
   },
   "outputs": [
    {
     "name": "stdout",
     "output_type": "stream",
     "text": [
      "1 + 2 = 3\n",
      "3 + 4 = 7\n",
      "5 + 6 = 11\n"
     ]
    }
   ],
   "source": [
    "a =[(1,2),(3,4),(5,6)]\n",
    "for (f,r) in a:\n",
    "    print(f'{f} + {r} = {f + r}')"
   ]
  },
  {
   "cell_type": "markdown",
   "id": "c3086b9e-b083-491c-8dc5-90854ff5b3ab",
   "metadata": {
    "jp-MarkdownHeadingCollapsed": true
   },
   "source": [
    "#### for 문의 응용 *"
   ]
  },
  {
   "cell_type": "code",
   "execution_count": 138,
   "id": "8abc7edc-b0e6-45af-82a3-0d97b107f850",
   "metadata": {},
   "outputs": [
    {
     "name": "stdout",
     "output_type": "stream",
     "text": [
      "1 + 11 = 12 / 9\n",
      "2 + 22 = 24 / 8\n",
      "3 + 33 = 36 / 7\n",
      "4 + 44 = 48 / 6\n",
      "5 + 55 = 60 / 5\n",
      "6 + 66 = 72 / 4\n",
      "7 + 77 = 84 / 3\n",
      "8 + 88 = 96 / 2\n",
      "9 + 99 = 108 / 1\n"
     ]
    }
   ],
   "source": [
    "# for와 zip구문 사용\n",
    "a = [1,2,3,4,5,6,7,8,9]\n",
    "b = [11,22,33,44,55,66,77,88,99]\n",
    "c = [9,8,7,6,5,4,3,2,1]\n",
    "for (i, j, k) in zip(a,b,c):\n",
    "    print(f'{i} + {j} = {i + j} / {k}')"
   ]
  },
  {
   "attachments": {
    "40b7a883-acff-465b-924d-359e9e6c3dc6.png": {
     "image/png": "[encoded data removed]"
    }
   },
   "cell_type": "markdown",
   "id": "3423c4de-76b1-4f70-bce0-95ec219a1af9",
   "metadata": {},
   "source": [
    "<hr>다음 문제를 for와 if를 사용하여 풀어보기<br>\n",
    "\n",
    "![image.png](attachment:40b7a883-acff-465b-924d-359e9e6c3dc6.png)"
   ]
  },
  {
   "cell_type": "code",
   "execution_count": 139,
   "id": "268bf337-e274-498f-8fb4-04eebf4232f2",
   "metadata": {
    "scrolled": true
   },
   "outputs": [
    {
     "name": "stdout",
     "output_type": "stream",
     "text": [
      "1번 학생은 합격입니다.\n",
      "2번 학생은 불합격입니다.\n",
      "3번 학생은 합격입니다.\n",
      "4번 학생은 불합격입니다.\n",
      "5번 학생은 합격입니다.\n"
     ]
    }
   ],
   "source": [
    "marks = [90, 25, 67, 45, 80]   # 학생들의 시험 점수 리스트\n",
    "\n",
    "number = 0   # 학생에게 붙여 줄 번호\n",
    "for mark in marks:   # 90, 25, 67, 45, 80을 순서대로 mark에 대입\n",
    "    number = number +1 \n",
    "    if mark >= 60: \n",
    "        print(\"%d번 학생은 합격입니다.\" % number)\n",
    "    else: \n",
    "        print(\"%d번 학생은 불합격입니다.\" % number)"
   ]
  },
  {
   "cell_type": "markdown",
   "id": "13fed362-d88f-4144-9c88-2f7d2bd05205",
   "metadata": {
    "jp-MarkdownHeadingCollapsed": true
   },
   "source": [
    "### for 문과 continue 문 *"
   ]
  },
  {
   "cell_type": "code",
   "execution_count": 3,
   "id": "a2f75ccd-3c2e-4da2-8650-f630c38944eb",
   "metadata": {},
   "outputs": [
    {
     "name": "stdout",
     "output_type": "stream",
     "text": [
      "1번 학생은 90점으로 합격입니다. 축하합니다.\n",
      "3번 학생은 67점으로 합격입니다. 축하합니다.\n",
      "5번 학생은 80점으로 합격입니다. 축하합니다.\n"
     ]
    }
   ],
   "source": [
    "marks = [90, 25, 67, 45, 80]   # 학생들의 시험 점수 리스트\n",
    "\n",
    "number = 0   # 학생에게 붙여 줄 번호\n",
    "for mark in marks:   # 90, 25, 67, 45, 80을 순서대로 mark에 대입\n",
    "    number = number + 1 \n",
    "    if mark < 60: \n",
    "        continue\n",
    "    print(\"%d번 학생은 %d점으로 합격입니다. 축하합니다.\" % (number, mark))"
   ]
  },
  {
   "cell_type": "markdown",
   "id": "6c409c02-ffe9-46c3-b6f2-8383013ca4f7",
   "metadata": {},
   "source": [
    "### for 과 range 함수 **"
   ]
  },
  {
   "cell_type": "code",
   "execution_count": 18,
   "id": "3bc72e95-f5fe-4b99-8a13-48e383025d07",
   "metadata": {},
   "outputs": [
    {
     "name": "stdout",
     "output_type": "stream",
     "text": [
      "[0, 1, 2, 3, 4, 5, 6, 7, 8, 9]\n",
      "(0, 1, 2, 3, 4, 5, 6, 7, 8, 9)\n",
      "{0, 1, 2, 3, 4, 5, 6, 7, 8, 9}\n"
     ]
    }
   ],
   "source": [
    "a = range(10) # 뜻: 0 <= a < 10 , ex)js 경우 for(let i =0 ; i<10 ; i++)\n",
    "print(list(a))\n",
    "print(tuple(a))\n",
    "print(set(a))"
   ]
  },
  {
   "cell_type": "markdown",
   "id": "af5034d3-4e96-4533-8b73-7df428142b6d",
   "metadata": {
    "jp-MarkdownHeadingCollapsed": true
   },
   "source": [
    "#### range 함수의 예시보기"
   ]
  },
  {
   "cell_type": "code",
   "execution_count": 21,
   "id": "f3ce8377-b373-44c7-81ea-7fdceaf38d61",
   "metadata": {},
   "outputs": [
    {
     "name": "stdout",
     "output_type": "stream",
     "text": [
      "55\n"
     ]
    }
   ],
   "source": [
    "add = 0\n",
    "for i in range(1,11):\n",
    "    add = add + i\n",
    "print(add)"
   ]
  },
  {
   "cell_type": "code",
   "execution_count": 32,
   "id": "994e470c-8b66-4c7a-9015-ba5b75810768",
   "metadata": {},
   "outputs": [
    {
     "name": "stdout",
     "output_type": "stream",
     "text": [
      "1번 학생은 90점으로 합격입니다. 축하합니다.\n",
      "3번 학생은 67점으로 합격입니다. 축하합니다.\n",
      "5번 학생은 80점으로 합격입니다. 축하합니다.\n"
     ]
    }
   ],
   "source": [
    "# range 응용1 (index 와 value구하기)\n",
    "marks = [90, 25, 67, 45, 80]   # 학생들의 시험 점수 리스트\n",
    "for index in range(len(marks)):   # 90, 25, 67, 45, 80을 순서대로 mark에 대입\n",
    "    if marks[index] < 60: \n",
    "        continue\n",
    "    print(\"%d번 학생은 %d점으로 합격입니다. 축하합니다.\" % (index+1, marks[index]))"
   ]
  },
  {
   "cell_type": "code",
   "execution_count": 46,
   "id": "77487bff-e426-4d54-a15c-52fa17b2601f",
   "metadata": {},
   "outputs": [
    {
     "name": "stdout",
     "output_type": "stream",
     "text": [
      "[0, 1, 2, 3, 4, 5, 6, 7, 8, 9]\n",
      "[0, 1, 2, 3, 4, 5, 6, 7, 8, 9]\n",
      "True\n",
      "[4, 6, 8, 10, 12, 14, 16, 18]\n",
      "[10, 9, 8, 7, 6, 5, 4, 3, 2, 1]\n"
     ]
    }
   ],
   "source": [
    "# range 응용2\n",
    "a = range(0,10,1)\n",
    "b = range(10) # 축약형\n",
    "print(list(a))\n",
    "print(list(b))\n",
    "print(a==b)\n",
    "print(list(range(4,20,2)))\n",
    "print(list(range(10,0,-1)))"
   ]
  },
  {
   "cell_type": "code",
   "execution_count": 35,
   "id": "5dfbbe44-7b9a-4802-bdfd-1c036d38432b",
   "metadata": {
    "scrolled": true
   },
   "outputs": [
    {
     "name": "stdout",
     "output_type": "stream",
     "text": [
      "1 90\n",
      "2 25\n",
      "3 67\n",
      "4 45\n",
      "5 80\n"
     ]
    }
   ],
   "source": [
    "# 예제 2 (index 와 value구하기)\n",
    "marks = [90, 25, 67, 45, 80]\n",
    "for i , v in enumerate(marks,1):\n",
    "    print(i, v)"
   ]
  },
  {
   "cell_type": "markdown",
   "id": "575c0b71-a2a8-40b6-b453-7148a9db2d2e",
   "metadata": {},
   "source": [
    "#### for 와 range를 이용한 구구단"
   ]
  },
  {
   "cell_type": "code",
   "execution_count": null,
   "id": "166f3b7b-fa99-46be-8bb2-b2a495fceeb5",
   "metadata": {},
   "outputs": [],
   "source": [
    "for i in range(2,10):\n",
    "    print(f'{str(i) + \"단\":=^10}') # 다른 표현1\n",
    "    for j in range(1,10):\n",
    "        print('%d x %d = %d'%(i,j,i*j)) # 다른 표현2\n",
    "    print('{0:10}'.format('')) # 다른 표현3"
   ]
  },
  {
   "cell_type": "markdown",
   "id": "25b3826c-d3d7-4b84-8043-c363e5f13114",
   "metadata": {},
   "source": [
    "### 리스트 컴프리헨션 **"
   ]
  },
  {
   "cell_type": "code",
   "execution_count": 85,
   "id": "decaca12-75be-4a65-a9d9-8fd0806beb66",
   "metadata": {},
   "outputs": [
    {
     "name": "stdout",
     "output_type": "stream",
     "text": [
      "[3, 6, 9, 12, 15]\n"
     ]
    }
   ],
   "source": [
    "# 일반적\n",
    "a = [1,2,3,4,5]\n",
    "result =[]\n",
    "for num in a:\n",
    "    result.append(num*3)\n",
    "print(result)"
   ]
  },
  {
   "cell_type": "code",
   "execution_count": 88,
   "id": "be92061f-8dad-4f11-839f-00c1cce23548",
   "metadata": {},
   "outputs": [
    {
     "name": "stdout",
     "output_type": "stream",
     "text": [
      "[3, 6, 9, 12, 15]\n"
     ]
    }
   ],
   "source": [
    "# 리스트 컴프리헨션(기본)\n",
    "a = [1,2,3,4,5]\n",
    "result =[num*3 for num in a] # 기억할 것\n",
    "print(result)"
   ]
  },
  {
   "cell_type": "code",
   "execution_count": 89,
   "id": "bc4e141a-846b-4d28-a689-c29d816657c4",
   "metadata": {},
   "outputs": [
    {
     "name": "stdout",
     "output_type": "stream",
     "text": [
      "[6, 12]\n"
     ]
    }
   ],
   "source": [
    "# 리스트 컴프리헨션(if와 사용할 때)\n",
    "a = [1,2,3,4,5]\n",
    "result =[num*3 for num in a if num%2 == 0] # 기억할 것\n",
    "print(result)"
   ]
  },
  {
   "cell_type": "code",
   "execution_count": 98,
   "id": "e3b31086-6aac-430e-a1a8-7bfcb8a7ca2a",
   "metadata": {},
   "outputs": [
    {
     "name": "stdout",
     "output_type": "stream",
     "text": [
      "[2, 4, 6, 8, 10, 12, 14, 16, 18, 3, 6, 9, 12, 15, 18, 21, 24, 27, 4, 8, 12, 16, 20, 24, 28, 32, 36, 5, 10, 15, 20, 25, 30, 35, 40, 45, 6, 12, 18, 24, 30, 36, 42, 48, 54, 7, 14, 21, 28, 35, 42, 49, 56, 63, 8, 16, 24, 32, 40, 48, 56, 64, 72, 9, 18, 27, 36, 45, 54, 63, 72, 81]\n"
     ]
    }
   ],
   "source": [
    "# 구구단의 값을 넣기\n",
    "result = [i*j for i in range(2,10)\n",
    "               for j in range(1,10)]\n",
    "print(result)    "
   ]
  },
  {
   "cell_type": "markdown",
   "id": "0ae4d64a-ebcd-4b12-8993-f8e7dfc82c19",
   "metadata": {},
   "source": [
    "### 해결해 보기\n",
    "1. 자판기를 만들어 보기\n",
    "2. a) 물건 값을 입력받고, b) 지불할 돈을 입력하면\n",
    "3. 거스름돈을 계산해 준다. 단, 1000원 짜리 몇장 500원 짜리 몇개 등으로 잔돈을 구비하여 출력한다.\n",
    "4. 예) 물건 값: 3200원, 지불한 돈: 10000원 이면\n",
    "    <pre>거스름돈 6800원이\n",
    "            10000원 x 0개\n",
    "             5000원 x 1개\n",
    "             1000원 x 1개\n",
    "              500원 x 1개\n",
    "              100원 x 3개\n",
    "               50원 x 0개 ...\n",
    "    등의 표현으로 출력되게 하라.</pre>"
   ]
  },
  {
   "cell_type": "markdown",
   "id": "242d9f28-ca72-46e9-ae53-5525c4522b20",
   "metadata": {},
   "source": [
    "# 파이썬의 입출력"
   ]
  },
  {
   "cell_type": "markdown",
   "id": "21edf78e-fefe-43ab-8cf2-10b9847a529e",
   "metadata": {},
   "source": [
    "## 함수 **"
   ]
  },
  {
   "cell_type": "markdown",
   "id": "6626304e-5aac-4962-9255-14f6cd3b1691",
   "metadata": {},
   "source": [
    "### 파이썬 함수"
   ]
  },
  {
   "cell_type": "code",
   "execution_count": 4,
   "id": "66a71f6b-1164-4fca-af96-13a64ba64427",
   "metadata": {},
   "outputs": [],
   "source": [
    "def add(a,b):\n",
    "    print('입력하신{0}과 {1}을 더하면 {2}입니다.'.format(a,b,a+b))\n",
    "    return a+b"
   ]
  },
  {
   "cell_type": "code",
   "execution_count": 5,
   "id": "f163e0bc-b14d-44f9-8a79-e70bc5d47730",
   "metadata": {},
   "outputs": [
    {
     "name": "stdout",
     "output_type": "stream",
     "text": [
      "입력하신3과 4을 더하면 7입니다.\n",
      "입력하신3과 4을 더하면 7입니다.\n",
      "7\n"
     ]
    }
   ],
   "source": [
    "add(3,4)\n",
    "c = add(3,4) # return 값을 받음.\n",
    "print(c)"
   ]
  },
  {
   "attachments": {},
   "cell_type": "markdown",
   "id": "befbdf2b-d4ff-42fa-9602-25681ed8c4b7",
   "metadata": {},
   "source": [
    "### 매개변수와 인수\n",
    "- 매개변수(parameter)와 인수(arguments)는 혼용\n"
   ]
  },
  {
   "attachments": {
    "017c263b-12a3-46ad-b313-0ac3e2caf379.png": {
     "image/png": "[encoded data removed]"
    }
   },
   "cell_type": "markdown",
   "id": "b1724428-b282-404e-8b5b-af5bfa8c7012",
   "metadata": {},
   "source": [
    "### 입력값과 리턴값에 따른 함수의 형태\n",
    "\n",
    "- ![image.png](attachment:017c263b-12a3-46ad-b313-0ac3e2caf379.png)"
   ]
  },
  {
   "cell_type": "markdown",
   "id": "1dd22ec4-2f91-4165-a3e8-f4737e6677b6",
   "metadata": {},
   "source": [
    "#### 일반적인 함수 "
   ]
  },
  {
   "cell_type": "code",
   "execution_count": 6,
   "id": "ad16e5c2-0086-425d-81bb-731bbbfab960",
   "metadata": {},
   "outputs": [],
   "source": [
    "def mul(a,b):\n",
    "    return a*b"
   ]
  },
  {
   "cell_type": "markdown",
   "id": "bbac2911-4b52-4352-910a-020f527b2ee0",
   "metadata": {},
   "source": [
    "#### 입력값이 없는 함수"
   ]
  },
  {
   "cell_type": "code",
   "execution_count": 7,
   "id": "04852271-dc20-491a-ab27-8cc014426acb",
   "metadata": {},
   "outputs": [],
   "source": [
    "def say():\n",
    "    print('하이라고 말할 겁니다.')\n",
    "    return 'Hi'"
   ]
  },
  {
   "cell_type": "code",
   "execution_count": 12,
   "id": "b9ea14fc-e2db-4a38-9978-269d42b0352d",
   "metadata": {},
   "outputs": [],
   "source": [
    "a = say #함수의 복사, 실행은 안됨"
   ]
  },
  {
   "cell_type": "code",
   "execution_count": 15,
   "id": "6f84d3a5-7c9f-4d92-ab6d-d2c151644fe9",
   "metadata": {},
   "outputs": [
    {
     "name": "stdout",
     "output_type": "stream",
     "text": [
      "<function say at 0xf42d8578>\n",
      "하이라고 말할 겁니다.\n",
      "Hi\n"
     ]
    }
   ],
   "source": [
    "print(a)\n",
    "print(a())"
   ]
  },
  {
   "cell_type": "markdown",
   "id": "e576012a-8fa7-4bce-bcbb-70040bfa0fc7",
   "metadata": {},
   "source": [
    "#### 리턴값이 없는 함수"
   ]
  },
  {
   "cell_type": "code",
   "execution_count": 16,
   "id": "673f550d-d812-4141-a8c2-0e296e32bcff",
   "metadata": {},
   "outputs": [],
   "source": [
    "def add(a, b): \n",
    "    print(\"%d, %d의 합은 %d입니다.\" % (a, b, a+b))"
   ]
  },
  {
   "cell_type": "code",
   "execution_count": 17,
   "id": "5dcc87b3-aa60-48ec-89e6-2510f2c3097a",
   "metadata": {},
   "outputs": [
    {
     "name": "stdout",
     "output_type": "stream",
     "text": [
      "3, 4의 합은 7입니다.\n"
     ]
    }
   ],
   "source": [
    "a = add(3,4)"
   ]
  },
  {
   "cell_type": "code",
   "execution_count": 18,
   "id": "3d02a0ad-5d25-4ddd-824d-17f4dfe14ad1",
   "metadata": {},
   "outputs": [
    {
     "name": "stdout",
     "output_type": "stream",
     "text": [
      "None\n"
     ]
    }
   ],
   "source": [
    "print(a)"
   ]
  },
  {
   "cell_type": "markdown",
   "id": "adc7f5bc-080a-4c96-ae8c-05b24350ce38",
   "metadata": {},
   "source": [
    "#### 입력값도, 리턴값도 없는 함수\n"
   ]
  },
  {
   "cell_type": "code",
   "execution_count": 19,
   "id": "63e694e7-afc3-4aea-8c29-73c6582ca363",
   "metadata": {},
   "outputs": [],
   "source": [
    "def say():\n",
    "    print('hi')\n",
    "    # return 없음"
   ]
  },
  {
   "cell_type": "code",
   "execution_count": 20,
   "id": "8b272251-4c3a-4db8-932e-2cf018b31307",
   "metadata": {
    "scrolled": true
   },
   "outputs": [
    {
     "name": "stdout",
     "output_type": "stream",
     "text": [
      "hi\n"
     ]
    }
   ],
   "source": [
    "say()"
   ]
  },
  {
   "cell_type": "markdown",
   "id": "17c52634-838f-4939-a3e2-dcd4ec72daeb",
   "metadata": {},
   "source": [
    "### 매개변수를 지정하여 호출하기(초기값)"
   ]
  },
  {
   "cell_type": "code",
   "execution_count": 25,
   "id": "0e914f8d-427d-45fe-b759-22a4e6302eea",
   "metadata": {},
   "outputs": [],
   "source": [
    "def sub(a=7,b=3): #순서와 상관없음(b=5, a=3)\n",
    "    return a - b"
   ]
  },
  {
   "cell_type": "code",
   "execution_count": 24,
   "id": "c2b787e0-3e0f-485a-a509-3c1ca33dff15",
   "metadata": {},
   "outputs": [
    {
     "name": "stdout",
     "output_type": "stream",
     "text": [
      "4\n"
     ]
    }
   ],
   "source": [
    "result = sub()\n",
    "print(result)"
   ]
  },
  {
   "cell_type": "markdown",
   "id": "43b14386-76c5-4604-9f5e-0ffe764a65be",
   "metadata": {},
   "source": [
    "### 입력값이 몇 개가 될지 모를 때"
   ]
  },
  {
   "cell_type": "markdown",
   "id": "cd3c974a-5e8d-423b-a5cc-84da1c5d0df7",
   "metadata": {},
   "source": [
    "#### 여러 개의 입력값을 받는 함수 만들기 *"
   ]
  },
  {
   "cell_type": "code",
   "execution_count": 30,
   "id": "5960e162-18a6-4a6e-b14a-656aeabefd73",
   "metadata": {},
   "outputs": [],
   "source": [
    "def add_many(*args):\n",
    "    result = 0\n",
    "    print(type(args),args)\n",
    "    for i in args:\n",
    "        result += i\n",
    "    return result"
   ]
  },
  {
   "cell_type": "code",
   "execution_count": 31,
   "id": "fb7e02ad-d83f-4dba-98da-4c840a00f859",
   "metadata": {},
   "outputs": [
    {
     "name": "stdout",
     "output_type": "stream",
     "text": [
      "<class 'tuple'> (1, 2, 3, 4, 5, 6, 7, 8, 9, 10)\n",
      "55\n"
     ]
    }
   ],
   "source": [
    "result = add_many(1,2,3,4,5,6,7,8,9,10)\n",
    "print(result)"
   ]
  },
  {
   "cell_type": "code",
   "execution_count": 32,
   "id": "367a47c4-502e-4b00-9be1-712e07623aa4",
   "metadata": {},
   "outputs": [],
   "source": [
    "def add_mul(choice, *args):\n",
    "    if choice == 'add':\n",
    "        result = 0\n",
    "        for i in args:\n",
    "            result += i\n",
    "    elif choice == 'mul':\n",
    "        result = 1\n",
    "        for i in args:\n",
    "            result *= i\n",
    "    return result"
   ]
  },
  {
   "cell_type": "code",
   "execution_count": 33,
   "id": "cb74aa9e-d57c-4020-9f8d-a5a8b463fc8f",
   "metadata": {},
   "outputs": [
    {
     "name": "stdout",
     "output_type": "stream",
     "text": [
      "15\n",
      "120\n"
     ]
    }
   ],
   "source": [
    "result = add_mul('add',1,2,3,4,5)\n",
    "result2 = add_mul('mul',1,2,3,4,5)\n",
    "print(result)\n",
    "print(result2)"
   ]
  },
  {
   "cell_type": "markdown",
   "id": "eeb3be5e-0452-45dd-8093-40758f276e7a",
   "metadata": {},
   "source": [
    "- 응용1 변수에 튜플을 담고 변수에 * 붙임"
   ]
  },
  {
   "cell_type": "code",
   "execution_count": 47,
   "id": "206ff262-1b46-42c3-a0e7-cbb463c3d597",
   "metadata": {},
   "outputs": [
    {
     "name": "stdout",
     "output_type": "stream",
     "text": [
      "45\n",
      "55\n"
     ]
    }
   ],
   "source": [
    "rp = 1,2,3,4,5,6,7,8,9\n",
    "lt = [1,2,3,4,5,6,7,8,9,10]\n",
    "result3= add_mul('add',*rp)\n",
    "result4= add_mul('add',*lt)\n",
    "print(result3)\n",
    "print(result4)"
   ]
  },
  {
   "cell_type": "markdown",
   "id": "2821f5fe-10d5-4514-890c-cf3b1a8bf401",
   "metadata": {},
   "source": [
    "- 응용2 args의 요소에 접근하기"
   ]
  },
  {
   "cell_type": "code",
   "execution_count": 69,
   "id": "cf45fdee-109d-4dd7-9945-01ec2ac9a502",
   "metadata": {},
   "outputs": [],
   "source": [
    "def add_new(*args):\n",
    "    if args[0][0] == 'add':\n",
    "        result = 0\n",
    "        arr = args[0][1:]\n",
    "        for i in arr:\n",
    "            result += i\n",
    "    elif args[0][0] == 'mul':\n",
    "        result = 1\n",
    "        for i in arr:\n",
    "            result *= i\n",
    "    return result"
   ]
  },
  {
   "cell_type": "code",
   "execution_count": 75,
   "id": "6cf236ab-6057-4e21-bb4d-a63a85d524d4",
   "metadata": {},
   "outputs": [
    {
     "data": {
      "text/plain": [
       "45"
      ]
     },
     "execution_count": 75,
     "metadata": {},
     "output_type": "execute_result"
    }
   ],
   "source": [
    "ar = 'add',1,2,3,4,5,6,7,8,9\n",
    "add_new(ar)"
   ]
  },
  {
   "cell_type": "markdown",
   "id": "3ecdbbeb-955b-406f-b88d-59d5482f8244",
   "metadata": {},
   "source": [
    "#### 키워드 매개변수, kwargs *\n",
    "- 키워드 매개변수를 사용할 때는 매개변수 앞에 별 2개(**)를 붙인다."
   ]
  },
  {
   "cell_type": "code",
   "execution_count": 76,
   "id": "1b622131-6d36-4235-b344-bc3e2fc71606",
   "metadata": {},
   "outputs": [
    {
     "name": "stdout",
     "output_type": "stream",
     "text": [
      "{'a': 1, 'b': 2}로 딕셔너리 형태로 출력\n",
      "{'a': 1, 'b': 2}\n"
     ]
    }
   ],
   "source": [
    "def dic_maker(**kwargs):\n",
    "    print(f'{kwargs}로 딕셔너리 형태로 출력')\n",
    "    return kwargs\n",
    "print(dic_maker(a=1,b=2))"
   ]
  },
  {
   "cell_type": "markdown",
   "id": "bc89c876-d72a-4425-b5ea-31219c551840",
   "metadata": {},
   "source": [
    "### 함수의 리턴값은 언제나 하나이다 **"
   ]
  },
  {
   "cell_type": "code",
   "execution_count": 78,
   "id": "32cf5122-77a2-47fc-b7ca-548aa893b3cb",
   "metadata": {},
   "outputs": [],
   "source": [
    "def add2(a,b):\n",
    "    print(f'{a+b},{a*b}의 결과')\n",
    "    return a+b, a*b"
   ]
  },
  {
   "cell_type": "code",
   "execution_count": 81,
   "id": "da528b9e-041d-40f1-88b6-1ad8fd4cda59",
   "metadata": {},
   "outputs": [
    {
     "name": "stdout",
     "output_type": "stream",
     "text": [
      "7,12의 결과\n",
      "(7, 12) <class 'tuple'>\n"
     ]
    }
   ],
   "source": [
    "result = add2(3,4)\n",
    "print(result,type(result))"
   ]
  },
  {
   "cell_type": "code",
   "execution_count": 86,
   "id": "40e606b5-f715-4590-8b42-61f1e71041d4",
   "metadata": {},
   "outputs": [],
   "source": [
    "def add3(a,b):\n",
    "    if a == 0:return\n",
    "    print(f'1:{a+b},{a*b}의 결과')\n",
    "    return a+b\n",
    "    print(f'2:{a+b}의 결과')\n",
    "    return a*b\n",
    "    print(f'3:{a*b}의 결과')"
   ]
  },
  {
   "cell_type": "code",
   "execution_count": 88,
   "id": "76aad666-8fe6-4f0f-9c8a-21d90e49519c",
   "metadata": {},
   "outputs": [
    {
     "name": "stdout",
     "output_type": "stream",
     "text": [
      "1:7,12의 결과\n",
      "7\n",
      "None\n"
     ]
    }
   ],
   "source": [
    "result = add3(3,4)\n",
    "print(result)\n",
    "result2 = add3(0,12434)\n",
    "print(result2)"
   ]
  },
  {
   "cell_type": "markdown",
   "id": "bb9f4fe7-006e-432c-ab1c-b44e473ec7a2",
   "metadata": {},
   "source": [
    "### 매개변수에 초깃값 미리 설정하기"
   ]
  },
  {
   "cell_type": "code",
   "execution_count": 91,
   "id": "d8a2af3f-8d11-4f79-8a7b-e9291bc697d7",
   "metadata": {},
   "outputs": [],
   "source": [
    "def say_myself(name, age, man=True): # 초깃값은 마지막에 설정\n",
    "    print(\"나의 이름은 %s 입니다.\" % name) \n",
    "    print(\"나이는 %d살입니다.\" % age) \n",
    "    if man: \n",
    "        print(\"남자입니다.\")\n",
    "    else: \n",
    "        print(\"여자입니다.\")"
   ]
  },
  {
   "cell_type": "code",
   "execution_count": 92,
   "id": "099ab69a-adf5-4d14-a962-fe16123dca31",
   "metadata": {},
   "outputs": [
    {
     "name": "stdout",
     "output_type": "stream",
     "text": [
      "나의 이름은 박응용 입니다.\n",
      "나이는 27살입니다.\n",
      "남자입니다.\n",
      "나의 이름은 박응용 입니다.\n",
      "나이는 27살입니다.\n",
      "남자입니다.\n"
     ]
    }
   ],
   "source": [
    "say_myself(\"박응용\", 27)\n",
    "say_myself(\"박응용\", 27, True)"
   ]
  },
  {
   "cell_type": "markdown",
   "id": "ce86a24a-5eaa-4d99-817c-c0a093f79a83",
   "metadata": {},
   "source": [
    "### 함수 안에서 선언한 변수의 효력 범위 **"
   ]
  },
  {
   "cell_type": "code",
   "execution_count": 94,
   "id": "f332ad57-3b1c-4420-9303-e0d027c6e525",
   "metadata": {},
   "outputs": [
    {
     "name": "stdout",
     "output_type": "stream",
     "text": [
      "2\n",
      "1\n"
     ]
    }
   ],
   "source": [
    "a = 1\n",
    "def vartest(a):\n",
    "    a = a + 1\n",
    "    print(a)\n",
    "vartest(a)\n",
    "print(a)"
   ]
  },
  {
   "cell_type": "markdown",
   "id": "931dd896-359a-477d-9a05-7a4de57f0a52",
   "metadata": {},
   "source": [
    "### 함수 안에서 함수 밖의 변수를 변경하는 방법 *"
   ]
  },
  {
   "cell_type": "markdown",
   "id": "419e7873-f974-4ec5-aa35-e65fb9e474f5",
   "metadata": {},
   "source": [
    "#### 1) return 사용하기"
   ]
  },
  {
   "cell_type": "code",
   "execution_count": 95,
   "id": "f3973531-fcfc-4fc6-b10b-7408203fb566",
   "metadata": {},
   "outputs": [
    {
     "name": "stdout",
     "output_type": "stream",
     "text": [
      "2\n"
     ]
    }
   ],
   "source": [
    "a = 1\n",
    "def vartest(a):\n",
    "    a = a + 1\n",
    "    return a\n",
    "a = vartest(a)\n",
    "print(a)"
   ]
  },
  {
   "cell_type": "markdown",
   "id": "e037f249-109b-4f03-a826-c8b660104f6f",
   "metadata": {},
   "source": [
    "#### 2) global 명령어 사용하기"
   ]
  },
  {
   "cell_type": "code",
   "execution_count": 107,
   "id": "672329cc-c952-4660-8661-c85bf2f9b96c",
   "metadata": {},
   "outputs": [
    {
     "name": "stdout",
     "output_type": "stream",
     "text": [
      "2\n",
      "2\n"
     ]
    }
   ],
   "source": [
    "a = 1\n",
    "def vartest():\n",
    "    \"\"\"global 함수는 자제하고 return 값으로 대체할 것\"\"\"\n",
    "    global a\n",
    "    a = a + 1\n",
    "    print(a)\n",
    "vartest()\n",
    "print(a)"
   ]
  },
  {
   "cell_type": "code",
   "execution_count": 113,
   "id": "c5996a58-2a31-4bb3-9e3b-2a0a3d2fc62f",
   "metadata": {},
   "outputs": [
    {
     "data": {
      "text/plain": [
       "'global 함수는 자제하고 return 값으로 대체할 것'"
      ]
     },
     "execution_count": 113,
     "metadata": {},
     "output_type": "execute_result"
    }
   ],
   "source": [
    "vartest.__doc__"
   ]
  },
  {
   "cell_type": "markdown",
   "id": "fc6da3b8-da56-4f3d-bdc8-e9229606a9a1",
   "metadata": {},
   "source": [
    "### lambda 예약어 *\n",
    "- 함수_이름 = lambda 매개변수1, 매개변수2, ... : 매개변수를_이용한_표현식"
   ]
  },
  {
   "cell_type": "code",
   "execution_count": 99,
   "id": "f9433a8d-faba-44a5-930a-207dd38c6156",
   "metadata": {},
   "outputs": [
    {
     "name": "stdout",
     "output_type": "stream",
     "text": [
      "7\n"
     ]
    }
   ],
   "source": [
    "add = lambda a, b: a+b\n",
    "result = add(3,4)\n",
    "print(result)"
   ]
  },
  {
   "attachments": {
    "449ef831-8034-431f-9428-675fb4d50e98.png": {
     "image/png": "[encoded data removed]"
    }
   },
   "cell_type": "markdown",
   "id": "9191502a-5b6d-43fc-b63b-be42bae1502d",
   "metadata": {},
   "source": [
    "## 사용자 입출력\n",
    "\n",
    "  ![image.png](attachment:449ef831-8034-431f-9428-675fb4d50e98.png)"
   ]
  },
  {
   "cell_type": "markdown",
   "id": "09e65824-8dac-4ebf-a8a9-f756c0f204bd",
   "metadata": {},
   "source": [
    "### 사용자 입력 활용하기"
   ]
  },
  {
   "cell_type": "markdown",
   "id": "90e773f7-f768-4794-8504-f3bb66caa2c3",
   "metadata": {},
   "source": [
    "#### input 사용하기 *\n",
    "- input은 사용자가 키보드로 입력한 모든 것을 문자열로 저장한다."
   ]
  },
  {
   "cell_type": "code",
   "execution_count": 115,
   "id": "75b8fe22-040e-4cf6-9477-c99bef07c685",
   "metadata": {},
   "outputs": [
    {
     "name": "stdin",
     "output_type": "stream",
     "text": [
      "안내문구 111\n"
     ]
    }
   ],
   "source": [
    "a = input('안내문구') # 숫자를 입력받기 원할 때는 int() 사용"
   ]
  },
  {
   "cell_type": "markdown",
   "id": "73703c5c-e5fe-4862-baad-e571bfce4904",
   "metadata": {},
   "source": [
    "#### 프롬프트를 띄워 사용자 입력받기"
   ]
  },
  {
   "cell_type": "code",
   "execution_count": 121,
   "id": "07dd933f-a465-41e3-84b7-c7a8272b9c51",
   "metadata": {},
   "outputs": [
    {
     "name": "stdin",
     "output_type": "stream",
     "text": [
      "숫자를 입력하세요 \n"
     ]
    },
    {
     "name": "stdout",
     "output_type": "stream",
     "text": [
      "1234 <class 'int'>\n"
     ]
    }
   ],
   "source": [
    "a = int(input('숫자를 입력하세요') or 1234) \n",
    "print(a, type(a))"
   ]
  },
  {
   "cell_type": "markdown",
   "id": "200cba01-552a-41fc-8f45-1096b7f355ca",
   "metadata": {},
   "source": [
    "### print 자세히 알기"
   ]
  },
  {
   "cell_type": "markdown",
   "id": "56cb5c35-e39f-4440-8220-4288ccf9f224",
   "metadata": {},
   "source": [
    "#### 큰따옴표로 둘러싸인 문자열은 + 연산과 동일하다"
   ]
  },
  {
   "cell_type": "code",
   "execution_count": 136,
   "id": "6082d36a-7d0e-4fbd-ac81-9ea8c2f6896d",
   "metadata": {},
   "outputs": [
    {
     "name": "stdout",
     "output_type": "stream",
     "text": [
      "life is too short\n",
      "life is too short\n",
      "life is too short\n"
     ]
    }
   ],
   "source": [
    "print(\"life\" \" is\" \" too short\")\n",
    "print(\"life\"+\" is\"+\" too short\")\n",
    "print(\"life\",\"is\",\"too short\") # 띄어쓰기 쉼표"
   ]
  },
  {
   "cell_type": "code",
   "execution_count": 137,
   "id": "3f9af63c-fcc6-4ec1-abaa-02219039b203",
   "metadata": {},
   "outputs": [
    {
     "name": "stdout",
     "output_type": "stream",
     "text": [
      "0 1 2 3 4 5 6 7 8 9 \n",
      "====================\n",
      "9\r"
     ]
    }
   ],
   "source": [
    "for i in range(10):\n",
    "    print(i, end=\" \") # 이어쓰기\n",
    "print(f'\\n{\"=\"* 20}') # 기본 end 값은 \\n 개행\n",
    "for j in range(10):\n",
    "    print(i, end=\"\\r\") # 덮어쓰기 캐리지 리턴"
   ]
  },
  {
   "cell_type": "markdown",
   "id": "0f48413e-f8b9-4321-a1f3-f9e204d4d0c0",
   "metadata": {},
   "source": [
    "## 파일 읽고 쓰기 *\n",
    "<table>\n",
    "<thead>\n",
    "<tr>\n",
    "<th>파일열기모드</th>\n",
    "<th>설명</th>\n",
    "</tr>\n",
    "</thead>\n",
    "<tbody>\n",
    "<tr>\n",
    "<td>r</td>\n",
    "<td>읽기 모드: 파일을 읽기만 할 때 사용한다.</td>\n",
    "</tr>\n",
    "<tr>\n",
    "<td>w</td>\n",
    "<td>쓰기 모드: 파일에 내용을 쓸 때 사용한다.</td>\n",
    "</tr>\n",
    "<tr>\n",
    "<td>a</td>\n",
    "<td>추가 모드: 파일의 마지막에 새로운 내용을 추가할 때 사용한다.</td>\n",
    "</tr>\n",
    "</tbody>\n",
    "</table>\n",
    "<pre>\n",
    "<strong>파일 경로와 슬래시(/)</strong>\n",
    "파이썬 코드에서 파일 경로를 표시할 때 \"C:/doit/새파일.txt\"처럼 슬래시(/)를 사용할 수 있다. 만약 역슬래시(\\)를 사용한다면 \"C:\\\\doit\\\\새파일.txt\"처럼 역슬래시를 2개 사용하거나 r\"C:\\doit\\새파일.txt\"와 같이 문자열 앞에 r 문자(raw string)를 덧붙여 사용해야 한다. 왜냐하면 \"C:\\note\\test.txt\"처럼 파일 경로에 \\n과 같은 이스케이프 문자가 있을 경우, 줄바꿈 문자로 해석되어 의도했던 파일 경로와 달라지기 때문이다.</pre>"
   ]
  },
  {
   "cell_type": "markdown",
   "id": "23b7581b-628b-415c-9d57-cd0349238b70",
   "metadata": {},
   "source": [
    "### 파일 생성하기"
   ]
  },
  {
   "cell_type": "code",
   "execution_count": 139,
   "id": "a86f2ced-f4b3-46a5-b7c1-82ceb64335b7",
   "metadata": {},
   "outputs": [],
   "source": [
    "f = open(\"새파일.txt\",'w')\n",
    "f.close()"
   ]
  },
  {
   "cell_type": "markdown",
   "id": "efa403f8-0a84-494e-ae36-2d3d99b04ac8",
   "metadata": {},
   "source": [
    "### 파일을 쓰기 모드로 열어 내용 쓰기"
   ]
  },
  {
   "cell_type": "code",
   "execution_count": 142,
   "id": "1f0c4cdf-5c48-4449-969e-29a82185ac8e",
   "metadata": {},
   "outputs": [],
   "source": [
    "f = open(\"새파일.txt\",\"w\")\n",
    "for i in range(1,11):\n",
    "    data = f'{i}번째 줄 입니다.\\n'\n",
    "    f.write(data)\n",
    "f.close()"
   ]
  },
  {
   "cell_type": "markdown",
   "id": "73193ab1-f064-43ca-aead-d520abe2cab1",
   "metadata": {},
   "source": [
    "### 파일을 읽는 여러 가지 방법 *"
   ]
  },
  {
   "cell_type": "markdown",
   "id": "7c64959b-1c84-47e9-8883-41e7ac6dc512",
   "metadata": {},
   "source": [
    "#### readline 함수 이용하기"
   ]
  },
  {
   "cell_type": "code",
   "execution_count": 144,
   "id": "ebb031fe-fea7-4cc0-a956-5ee5715243af",
   "metadata": {},
   "outputs": [
    {
     "name": "stdout",
     "output_type": "stream",
     "text": [
      "1번째 줄 입니다.\n",
      "\n",
      "2번째 줄 입니다.\n",
      "\n",
      "3번째 줄 입니다.\n",
      "\n",
      "4번째 줄 입니다.\n",
      "\n",
      "5번째 줄 입니다.\n",
      "\n",
      "6번째 줄 입니다.\n",
      "\n",
      "7번째 줄 입니다.\n",
      "\n",
      "8번째 줄 입니다.\n",
      "\n",
      "9번째 줄 입니다.\n",
      "\n",
      "10번째 줄 입니다.\n",
      "\n"
     ]
    }
   ],
   "source": [
    "f = open(\"새파일.txt\",\"r\")\n",
    "while 1:\n",
    "    line = f.readline()\n",
    "    if not line: break\n",
    "    print(line)\n",
    "f.close()"
   ]
  },
  {
   "cell_type": "markdown",
   "id": "47d58a09-37dd-42f5-9623-4bddb535d275",
   "metadata": {},
   "source": [
    "#### readlines 함수 사용하기"
   ]
  },
  {
   "cell_type": "code",
   "execution_count": 147,
   "id": "aa212edb-1d5d-4c14-9720-9d4891b5add1",
   "metadata": {},
   "outputs": [
    {
     "name": "stdout",
     "output_type": "stream",
     "text": [
      "1번째 줄 입니다.\n",
      "2번째 줄 입니다.\n",
      "3번째 줄 입니다.\n",
      "4번째 줄 입니다.\n",
      "5번째 줄 입니다.\n",
      "6번째 줄 입니다.\n",
      "7번째 줄 입니다.\n",
      "8번째 줄 입니다.\n",
      "9번째 줄 입니다.\n",
      "10번째 줄 입니다.\n"
     ]
    }
   ],
   "source": [
    "f = open(\"새파일.txt\",\"r\")\n",
    "lines = f.readlines()\n",
    "for line in lines:\n",
    "    line = line.strip()\n",
    "    print(line)\n",
    "f.close()"
   ]
  },
  {
   "cell_type": "markdown",
   "id": "298bdf21-cb19-4359-a6b8-b8e7c7e07801",
   "metadata": {},
   "source": [
    "#### read 함수 사용하기"
   ]
  },
  {
   "cell_type": "code",
   "execution_count": 1,
   "id": "9ade900a-ae52-42e2-a26e-c0bff5392749",
   "metadata": {},
   "outputs": [
    {
     "name": "stdout",
     "output_type": "stream",
     "text": [
      "1번째 줄 입니다.\n",
      "2번째 줄 입니다.\n",
      "3번째 줄 입니다.\n",
      "4번째 줄 입니다.\n",
      "5번째 줄 입니다.\n",
      "6번째 줄 입니다.\n",
      "7번째 줄 입니다.\n",
      "8번째 줄 입니다.\n",
      "9번째 줄 입니다.\n",
      "10번째 줄 입니다.\n",
      "\n"
     ]
    }
   ],
   "source": [
    "f = open(\"새파일.txt\",\"r\")\n",
    "data = f.read()\n",
    "print(data)\n",
    "f.close()"
   ]
  },
  {
   "cell_type": "markdown",
   "id": "7f467727-761a-4c13-9adc-a5ce0e5d1084",
   "metadata": {},
   "source": [
    "#### 파일 객체를 for 문과 함께 사용하기"
   ]
  },
  {
   "cell_type": "code",
   "execution_count": 3,
   "id": "ac8c1af1-1ed8-4a92-85ac-12b865df89ed",
   "metadata": {},
   "outputs": [
    {
     "name": "stdout",
     "output_type": "stream",
     "text": [
      "<_io.TextIOWrapper name='새파일.txt' mode='r' encoding='UTF-8'>\n",
      "1번째 줄 입니다.\n",
      "\n",
      "2번째 줄 입니다.\n",
      "\n",
      "3번째 줄 입니다.\n",
      "\n",
      "4번째 줄 입니다.\n",
      "\n",
      "5번째 줄 입니다.\n",
      "\n",
      "6번째 줄 입니다.\n",
      "\n",
      "7번째 줄 입니다.\n",
      "\n",
      "8번째 줄 입니다.\n",
      "\n",
      "9번째 줄 입니다.\n",
      "\n",
      "10번째 줄 입니다.\n",
      "\n"
     ]
    }
   ],
   "source": [
    "f = open(\"새파일.txt\",\"r\")\n",
    "print(f)\n",
    "for line in f:\n",
    "    print(line)\n",
    "f.close()"
   ]
  },
  {
   "cell_type": "markdown",
   "id": "e72509f5-4c1c-4578-a893-936e77b42723",
   "metadata": {},
   "source": [
    "### 파일에 새로운 내용 추가하기"
   ]
  },
  {
   "cell_type": "code",
   "execution_count": 5,
   "id": "e57ddfcf-68f7-4061-8f90-90d3518a2819",
   "metadata": {},
   "outputs": [
    {
     "name": "stdout",
     "output_type": "stream",
     "text": [
      "1번째 줄 입니다.\n",
      "2번째 줄 입니다.\n",
      "3번째 줄 입니다.\n",
      "4번째 줄 입니다.\n",
      "5번째 줄 입니다.\n",
      "6번째 줄 입니다.\n",
      "7번째 줄 입니다.\n",
      "8번째 줄 입니다.\n",
      "9번째 줄 입니다.\n",
      "10번째 줄 입니다.\n",
      "==============================\n",
      "1번째 줄 입니다.\n",
      "2번째 줄 입니다.\n",
      "3번째 줄 입니다.\n",
      "4번째 줄 입니다.\n",
      "5번째 줄 입니다.\n",
      "6번째 줄 입니다.\n",
      "7번째 줄 입니다.\n",
      "8번째 줄 입니다.\n",
      "9번째 줄 입니다.\n",
      "10번째 줄 입니다.11번째 줄입니다.\n",
      "12번째 줄입니다.\n",
      "13번째 줄입니다.\n",
      "14번째 줄입니다.\n",
      "15번째 줄입니다.\n",
      "16번째 줄입니다.\n",
      "17번째 줄입니다.\n",
      "18번째 줄입니다.\n",
      "19번째 줄입니다.\n",
      "20번째 줄입니다.\n",
      "\n"
     ]
    }
   ],
   "source": [
    "fr = open(\"새파일.txt\",\"r\")\n",
    "print(fr.read())\n",
    "fr.close()\n",
    "print(f'{\"=\"*30}')\n",
    "fa = open(\"새파일.txt\",\"a\")\n",
    "for i in range(11,21):\n",
    "    data = \"{0}번째 줄입니다.\\n\".format(i)\n",
    "    fa.write(data)\n",
    "fa.close()\n",
    "fr = open(\"새파일.txt\",\"r\")\n",
    "print(fr.read())\n",
    "fr.close()"
   ]
  },
  {
   "cell_type": "markdown",
   "id": "381818a8-238b-4090-86bc-99742e9fb65d",
   "metadata": {},
   "source": [
    "### with 문과 함께 사용하기 *"
   ]
  },
  {
   "cell_type": "code",
   "execution_count": 9,
   "id": "df2e5332-9da6-4859-9acb-abc5b2e26431",
   "metadata": {},
   "outputs": [
    {
     "name": "stdout",
     "output_type": "stream",
     "text": [
      "<_io.TextIOWrapper name='새파일.txt' mode='r' encoding='UTF-8'>\n",
      "1번째 줄 입니다.\n",
      "\n",
      "2번째 줄 입니다.\n",
      "\n",
      "3번째 줄 입니다.\n",
      "\n",
      "4번째 줄 입니다.\n",
      "\n",
      "5번째 줄 입니다.\n",
      "\n",
      "6번째 줄 입니다.\n",
      "\n",
      "7번째 줄 입니다.\n",
      "\n",
      "8번째 줄 입니다.\n",
      "\n",
      "9번째 줄 입니다.\n",
      "\n",
      "10번째 줄 입니다.11번째 줄입니다.\n",
      "\n",
      "12번째 줄입니다.\n",
      "\n",
      "13번째 줄입니다.\n",
      "\n",
      "14번째 줄입니다.\n",
      "\n",
      "15번째 줄입니다.\n",
      "\n",
      "16번째 줄입니다.\n",
      "\n",
      "17번째 줄입니다.\n",
      "\n",
      "18번째 줄입니다.\n",
      "\n",
      "19번째 줄입니다.\n",
      "\n",
      "20번째 줄입니다.\n",
      "\n"
     ]
    }
   ],
   "source": [
    "with open(\"새파일.txt\",\"r\") as f:\n",
    "# f = open(\"새파일.txt\",\"r\")\n",
    "    print(f)\n",
    "    for line in f:\n",
    "        print(line)\n",
    "# f.close()"
   ]
  },
  {
   "cell_type": "markdown",
   "id": "fc1fd60a-248d-47c1-987d-cf17ea9ab7e2",
   "metadata": {},
   "source": [
    "## 프로그램의 입출력"
   ]
  },
  {
   "cell_type": "code",
   "execution_count": 10,
   "id": "a9ca6ee5-0992-4d42-8abc-3ce65a210e95",
   "metadata": {},
   "outputs": [
    {
     "name": "stdout",
     "output_type": "stream",
     "text": [
      "['/home/pi04/venv/lib/python3.11/site-packages/ipykernel_launcher.py', '-f', '/home/pi04/.local/share/jupyter/runtime/kernel-b4eb3992-283c-4fa1-ac53-09abc8ef301f.json']\n"
     ]
    }
   ],
   "source": [
    "import sys\n",
    "args = sys.argv\n",
    "print(args)"
   ]
  },
  {
   "cell_type": "code",
   "execution_count": 15,
   "id": "9a53b5d1-9fc7-4221-95e9-2eee90b50e90",
   "metadata": {},
   "outputs": [
    {
     "name": "stdout",
     "output_type": "stream",
     "text": [
      "생성완료!\n"
     ]
    }
   ],
   "source": [
    "with open(\"sys1.py\",\"w\") as f:\n",
    "    data ='''import sys\n",
    "args = sys.argv\n",
    "print(args)\n",
    "for i in args:\n",
    "    print(i)\n",
    "'''\n",
    "    f.write(data)\n",
    "print('생성완료!')"
   ]
  },
  {
   "cell_type": "code",
   "execution_count": 16,
   "id": "4e653c48-9fbb-4c32-aa23-3690d9a9c55b",
   "metadata": {},
   "outputs": [
    {
     "name": "stdout",
     "output_type": "stream",
     "text": [
      "['sys1.py', 'aa', 'bb', 'cc']\n",
      "sys1.py\n",
      "aa\n",
      "bb\n",
      "cc\n"
     ]
    }
   ],
   "source": [
    "!python sys1.py aa bb cc"
   ]
  },
  {
   "cell_type": "code",
   "execution_count": 17,
   "id": "71a6ddbd-6a5b-4f21-8530-d6c98e872060",
   "metadata": {},
   "outputs": [
    {
     "name": "stdout",
     "output_type": "stream",
     "text": [
      "생성완료!\n"
     ]
    }
   ],
   "source": [
    "with open(\"sys2.py\",\"w\") as f:\n",
    "    data ='''import sys\n",
    "args = sys.argv[1:]\n",
    "print(args)\n",
    "for i in args:\n",
    "    print(i.upper(), end=' ')\n",
    "'''\n",
    "    f.write(data)\n",
    "print('생성완료!')"
   ]
  },
  {
   "cell_type": "code",
   "execution_count": 18,
   "id": "e343ebd2-6792-442e-af98-fe06cdabf582",
   "metadata": {},
   "outputs": [
    {
     "name": "stdout",
     "output_type": "stream",
     "text": [
      "['life', 'is', 'too', 'shOrt,', 'You', 'neEd', 'python!']\n",
      "LIFE IS TOO SHORT, YOU NEED PYTHON! "
     ]
    }
   ],
   "source": [
    "!python sys2.py life is too shOrt, You neEd python!"
   ]
  },
  {
   "cell_type": "markdown",
   "id": "aa57d5f6-ae57-4c9b-93cc-1f241afaaf2c",
   "metadata": {},
   "source": [
    "# 파이썬의 확장"
   ]
  },
  {
   "cell_type": "markdown",
   "id": "e61834f6-3819-4ed3-adeb-f37c48ea9789",
   "metadata": {},
   "source": [
    "## 클래스 **"
   ]
  },
  {
   "cell_type": "markdown",
   "id": "1e1510db-9adc-4f20-a157-60e670df392b",
   "metadata": {},
   "source": [
    "### 클래스와 객체\n",
    "- 과자 틀 = 클래스\n",
    "- 과자틀로 찍어 낸 과자 = 객체\n",
    "<fieldset><legend>파이썬의 클래스</legend>\n",
    "<strong>객체와 인스턴스의 차이</strong><p></p>\n",
    "<p>클래스로 만든 객체를 ‘인스턴스’라고도 한다. 그렇다면 객체와 인스턴스의 차이는 무엇일까? 이렇게 생각해 보자. <code>a = Cookie()</code>로 만든 a는 객체이다. 그리고 a 객체는 Cookie의 인스턴스이다. 즉, 인스턴스라는 말은 특정 객체(a)가 어떤 클래스(Cookie)의 객체인지를 관계 위주로 설명할 때 사용한다. ‘a는 인스턴스’보다 ‘a는 객체’라는 표현이 어울리며 ‘a는 Cookie의 객체’보다 ‘a는 Cookie의 인스턴스’라는 표현이 훨씬 잘 어울린다.\n",
    "</p></fieldset>"
   ]
  },
  {
   "cell_type": "code",
   "execution_count": 21,
   "id": "38d71e78-4a66-4454-9ce4-e08204e6cc97",
   "metadata": {},
   "outputs": [],
   "source": [
    "class Cookie:\n",
    "    pass    "
   ]
  },
  {
   "attachments": {},
   "cell_type": "markdown",
   "id": "93d3ed2d-70be-403d-bde6-6204224e91ac",
   "metadata": {},
   "source": [
    "### 사칙 연산 클래스 만들기"
   ]
  },
  {
   "attachments": {
    "3a58b9ff-713c-4e55-8fb3-35852fd760ef.png": {
     "image/png": "[encoded data removed]"
    }
   },
   "cell_type": "markdown",
   "id": "b7810563-3a3f-4293-a652-a130136b21eb",
   "metadata": {},
   "source": [
    "#### 어떻게 만들지 먼저 구상하기\n",
    "\n",
    "![image.png](attachment:3a58b9ff-713c-4e55-8fb3-35852fd760ef.png)"
   ]
  },
  {
   "cell_type": "markdown",
   "id": "9f9edac4-9439-48cf-9d31-4db0686ced04",
   "metadata": {},
   "source": [
    "#### 클래스 구조 만들기"
   ]
  },
  {
   "cell_type": "code",
   "execution_count": 24,
   "id": "a30da9b0-0223-4220-934a-d8b77213987c",
   "metadata": {},
   "outputs": [
    {
     "name": "stdout",
     "output_type": "stream",
     "text": [
      "<class '__main__.FourCal'>\n"
     ]
    }
   ],
   "source": [
    "class FourCal:\n",
    "    pass   \n",
    "a = FourCal()\n",
    "print(type(a)) # 객체 a가 FourCal 클래스의 인스턴스"
   ]
  },
  {
   "cell_type": "markdown",
   "id": "c711b350-2cb7-4c02-ac5f-13afcd81bbdc",
   "metadata": {},
   "source": [
    "#### 객체에 연산할 숫자 지정하기"
   ]
  },
  {
   "cell_type": "code",
   "execution_count": 25,
   "id": "99e908be-b562-48e7-aece-f0a2bcc21114",
   "metadata": {
    "jp-MarkdownHeadingCollapsed": true
   },
   "outputs": [],
   "source": [
    "class FourCal:\n",
    "    def setdata(self, first, second):\n",
    "        self.first = first\n",
    "        self.second = second    "
   ]
  },
  {
   "cell_type": "markdown",
   "id": "6d778319-a423-4051-ac97-fd7df89888df",
   "metadata": {},
   "source": [
    "#### 더하기 기능 만들기"
   ]
  },
  {
   "cell_type": "code",
   "execution_count": 26,
   "id": "e84cf588-c74f-45fd-9e6b-572ad6de1535",
   "metadata": {},
   "outputs": [],
   "source": [
    "class FourCal:\n",
    "    def setdata(self, first, second):\n",
    "        self.first = first\n",
    "        self.second = second\n",
    "    def add(self):\n",
    "        result = self.first + self.second\n",
    "        return result"
   ]
  },
  {
   "cell_type": "code",
   "execution_count": 29,
   "id": "d30aed3c-f749-4a6c-90c6-0172238f4b63",
   "metadata": {},
   "outputs": [
    {
     "name": "stdout",
     "output_type": "stream",
     "text": [
      "6\n",
      "8\n",
      "14\n"
     ]
    }
   ],
   "source": [
    "도준 = FourCal()\n",
    "도준.setdata(4,2)\n",
    "print(도준.add())\n",
    "승훈 = FourCal()\n",
    "승훈.setdata(7,1)\n",
    "print(승훈.add())\n",
    "지훈 = FourCal()\n",
    "지훈.setdata(5,9)\n",
    "print(지훈.add())"
   ]
  },
  {
   "cell_type": "code",
   "execution_count": 54,
   "id": "f4c78335-7717-4d6d-b18e-900e22971335",
   "metadata": {},
   "outputs": [],
   "source": [
    "class Vack:\n",
    "    def my(selfID, won, ea):\n",
    "        selfID.won = won\n",
    "        selfID.ea = ea\n",
    "    def dduk(selfID):\n",
    "        result = selfID.won * selfID.ea\n",
    "        print(\"떡볶이집에서 %d원 치 먹었다\" %result)\n",
    "        # return result\n",
    "    def man(selfID):\n",
    "        result = selfID.won + selfID.won\n",
    "        print(\"만두집에서 %d원 치 먹었다\" %result)"
   ]
  },
  {
   "cell_type": "code",
   "execution_count": 55,
   "id": "d54d4aba-6563-4982-b82c-3128159842ec",
   "metadata": {},
   "outputs": [],
   "source": [
    "도준 = Vack()\n",
    "승훈 = Vack()\n",
    "지훈 = Vack()"
   ]
  },
  {
   "cell_type": "code",
   "execution_count": 56,
   "id": "52b06286-a63a-4431-bcf6-7cc56ed01b0c",
   "metadata": {},
   "outputs": [],
   "source": [
    "도준.my(24000,44)\n",
    "승훈.my(18000,22)\n",
    "지훈.my(13000,15)"
   ]
  },
  {
   "cell_type": "code",
   "execution_count": 57,
   "id": "3ad38fda-0dcc-482f-8195-dd70433171ed",
   "metadata": {},
   "outputs": [
    {
     "name": "stdout",
     "output_type": "stream",
     "text": [
      "떡볶이집에서 1056000원 치 먹었다\n"
     ]
    }
   ],
   "source": [
    "도준.dduk()"
   ]
  },
  {
   "cell_type": "code",
   "execution_count": 58,
   "id": "2bc7b2c6-0920-4127-af13-dd18ea07e421",
   "metadata": {},
   "outputs": [
    {
     "name": "stdout",
     "output_type": "stream",
     "text": [
      "떡볶이집에서 396000원 치 먹었다\n"
     ]
    }
   ],
   "source": [
    "승훈.dduk()"
   ]
  },
  {
   "cell_type": "code",
   "execution_count": 59,
   "id": "23903a9c-71c3-49f6-a781-ddf930b0ae71",
   "metadata": {},
   "outputs": [
    {
     "name": "stdout",
     "output_type": "stream",
     "text": [
      "떡볶이집에서 195000원 치 먹었다\n"
     ]
    }
   ],
   "source": [
    "지훈.dduk()"
   ]
  },
  {
   "cell_type": "code",
   "execution_count": 60,
   "id": "ce566db0-52d8-4165-b8b2-830fd9534c10",
   "metadata": {},
   "outputs": [
    {
     "name": "stdout",
     "output_type": "stream",
     "text": [
      "만두집에서 36000원 치 먹었다\n"
     ]
    }
   ],
   "source": [
    "승훈.man()"
   ]
  },
  {
   "cell_type": "code",
   "execution_count": 61,
   "id": "2f9e1ef6-1143-43f0-85f1-4ba65c568673",
   "metadata": {},
   "outputs": [
    {
     "name": "stdout",
     "output_type": "stream",
     "text": [
      "만두집에서 26000원 치 먹었다\n"
     ]
    }
   ],
   "source": [
    "지훈.man()"
   ]
  },
  {
   "cell_type": "code",
   "execution_count": 62,
   "id": "03e8c3af-a0ec-4e7d-bf9b-9842e843a445",
   "metadata": {},
   "outputs": [
    {
     "name": "stdout",
     "output_type": "stream",
     "text": [
      "만두집에서 48000원 치 먹었다\n"
     ]
    }
   ],
   "source": [
    "도준.man()"
   ]
  },
  {
   "cell_type": "markdown",
   "id": "27461b99-8d09-4632-aec6-95f9c5560a08",
   "metadata": {},
   "source": [
    "#### 곱하기, 빼기, 나누기 기능 만들기"
   ]
  },
  {
   "cell_type": "code",
   "execution_count": 1,
   "id": "b6230d2a-b894-4f28-beb7-2b9436861e1c",
   "metadata": {},
   "outputs": [],
   "source": [
    "class FourCal:\n",
    "    def setdata(self, first, second):\n",
    "        self.first = first\n",
    "        self.second = second\n",
    "    def add(self):\n",
    "        result = self.first + self.second\n",
    "        return result\n",
    "    def mul(self):\n",
    "        result = self.first * self.second\n",
    "        return result\n",
    "    def sub(self):\n",
    "        result = self.first - self.second\n",
    "        return result\n",
    "    def div(self):\n",
    "        result = self.first / self.second\n",
    "        return result\n",
    "    def mod(self):\n",
    "        result = self.first % self.second\n",
    "        return result"
   ]
  },
  {
   "cell_type": "code",
   "execution_count": 5,
   "id": "7547a57a-e255-49a7-856c-726072dcbbc7",
   "metadata": {},
   "outputs": [
    {
     "name": "stdout",
     "output_type": "stream",
     "text": [
      "6\n",
      "8\n",
      "2.0\n",
      "11\n",
      "3\n"
     ]
    }
   ],
   "source": [
    "a = FourCal()\n",
    "b = FourCal()\n",
    "a.setdata(4,2)\n",
    "b.setdata(3,8)\n",
    "print(a.add())\n",
    "print(a.mul())\n",
    "print(a.div())\n",
    "print(b.add())\n",
    "print(b.mod())"
   ]
  },
  {
   "cell_type": "markdown",
   "id": "7d5cfa4d-7877-4d5a-8a55-4c0075c4a577",
   "metadata": {},
   "source": [
    "### 생성자 *"
   ]
  },
  {
   "cell_type": "code",
   "execution_count": 10,
   "id": "c820bda3-fa52-47a7-b068-42fb98e8277a",
   "metadata": {},
   "outputs": [],
   "source": [
    "class FiveCal:\n",
    "    def __init__(self, first, second):\n",
    "        self.first = first\n",
    "        self.second = second\n",
    "    def setdata(self, first, second):\n",
    "        self.first = first\n",
    "        self.second = second\n",
    "    def add(self):\n",
    "        result = self.first + self.second\n",
    "        return result\n",
    "    def mul(self):\n",
    "        result = self.first * self.second\n",
    "        return result\n",
    "    def sub(self):\n",
    "        result = self.first - self.second\n",
    "        return result\n",
    "    def div(self):\n",
    "        result = self.first / self.second\n",
    "        return result\n",
    "    def mod(self):\n",
    "        result = self.first % self.second\n",
    "        return result"
   ]
  },
  {
   "cell_type": "code",
   "execution_count": 6,
   "id": "bd921463-a982-4544-9526-20577569821f",
   "metadata": {},
   "outputs": [],
   "source": [
    "a = FiveCal(5,3)"
   ]
  },
  {
   "cell_type": "code",
   "execution_count": 7,
   "id": "6262e3ca-4bf3-4522-8176-0a4c7f946636",
   "metadata": {},
   "outputs": [
    {
     "data": {
      "text/plain": [
       "8"
      ]
     },
     "execution_count": 7,
     "metadata": {},
     "output_type": "execute_result"
    }
   ],
   "source": [
    "a.add()"
   ]
  },
  {
   "cell_type": "code",
   "execution_count": 8,
   "id": "9ffa6e53-59f2-4ee7-973d-3e8bbdd6207b",
   "metadata": {},
   "outputs": [
    {
     "data": {
      "text/plain": [
       "10"
      ]
     },
     "execution_count": 8,
     "metadata": {},
     "output_type": "execute_result"
    }
   ],
   "source": [
    "a.setdata(3,7)\n",
    "a.add()"
   ]
  },
  {
   "cell_type": "code",
   "execution_count": 9,
   "id": "2e44d04c-b669-4c75-b660-426db49b4845",
   "metadata": {},
   "outputs": [
    {
     "data": {
      "text/plain": [
       "8"
      ]
     },
     "execution_count": 9,
     "metadata": {},
     "output_type": "execute_result"
    }
   ],
   "source": [
    "a.__init__(4,4)\n",
    "a.add()"
   ]
  },
  {
   "cell_type": "markdown",
   "id": "3a8992a5-fe9a-4341-981f-c1690f421258",
   "metadata": {},
   "source": [
    "### 클래스의 상속 *\n",
    "<fieldset><legend>클래스의 상속</legend>\n",
    "<strong>상속 기능은 왜 쓰는 걸까?</strong><p></p>\n",
    "<p>보통 상속은 기존 클래스를 변경하지 않고 기능을 추가하거나 기존 기능을 변경하려고 할 때 사용한다. ‘클래스에 기능을 추가하고 싶으면 기존 클래스를 수정하면 되는데 왜 굳이 상속을 받아서 처리해야 하지?’라는 의문이 들 수도 있다. 하지만 기존 클래스가 라이브러리 형태로 제공되거나 수정이 허용되지 않는 상황이라면 상속을 사용해야 한다.\n",
    "</p></fieldset>"
   ]
  },
  {
   "cell_type": "code",
   "execution_count": 11,
   "id": "343a4dc9-f091-4b91-b90d-2b141cb84782",
   "metadata": {},
   "outputs": [],
   "source": [
    "class SixCal(FiveCal):\n",
    "    pass"
   ]
  },
  {
   "cell_type": "code",
   "execution_count": 13,
   "id": "e67ca1f5-235e-4653-b7c9-0e2cbc40ddbc",
   "metadata": {},
   "outputs": [
    {
     "data": {
      "text/plain": [
       "1"
      ]
     },
     "execution_count": 13,
     "metadata": {},
     "output_type": "execute_result"
    }
   ],
   "source": [
    "aa = SixCal(7,3)\n",
    "aa.mod()"
   ]
  },
  {
   "cell_type": "code",
   "execution_count": 14,
   "id": "e1b838f1-bf00-4494-bf1f-459a37fb48cb",
   "metadata": {},
   "outputs": [],
   "source": [
    "class SixCal(FiveCal):\n",
    "    def pow(self):\n",
    "        result = self.first ** self.second\n",
    "        return result"
   ]
  },
  {
   "cell_type": "code",
   "execution_count": 15,
   "id": "6c2fcb09-ba05-45e1-9ba7-b43dc9448b59",
   "metadata": {},
   "outputs": [
    {
     "data": {
      "text/plain": [
       "65536"
      ]
     },
     "execution_count": 15,
     "metadata": {},
     "output_type": "execute_result"
    }
   ],
   "source": [
    "aa = SixCal(2,16)\n",
    "aa.pow()"
   ]
  },
  {
   "cell_type": "markdown",
   "id": "edcea9d3-3b77-48bf-8b9d-0147f5118c6d",
   "metadata": {},
   "source": [
    "### 메서드 오버라이딩 *\n",
    "- 이름이 같을 경우 내용을 업데이트 함"
   ]
  },
  {
   "cell_type": "code",
   "execution_count": 16,
   "id": "80bc3071-796c-4b31-b6dc-71cf6500fe35",
   "metadata": {},
   "outputs": [],
   "source": [
    "class NewCal(SixCal):\n",
    "    def div(self):\n",
    "        if self.second == 0:\n",
    "            return 0\n",
    "        else:\n",
    "            return self.first / self.second        "
   ]
  },
  {
   "cell_type": "markdown",
   "id": "45df770b-6e7f-4796-ae3a-8e83bb321729",
   "metadata": {},
   "source": [
    "### 클래스 변수 *\n",
    "- 클래스의 필드에 변수를 작성\n",
    "- 클래스변수는 객체변수와 달리 클래스로 만든 모든 객체에 공유된다는 특징이 있다."
   ]
  },
  {
   "cell_type": "code",
   "execution_count": 19,
   "id": "7e15a951-c060-41ba-8c7f-b4b03003a8ac",
   "metadata": {},
   "outputs": [],
   "source": [
    "class Student:\n",
    "    name = \"지훈\""
   ]
  },
  {
   "cell_type": "code",
   "execution_count": 20,
   "id": "6b66b786-ca63-4c4c-9b49-ac1b03b01365",
   "metadata": {},
   "outputs": [
    {
     "data": {
      "text/plain": [
       "'지훈'"
      ]
     },
     "execution_count": 20,
     "metadata": {},
     "output_type": "execute_result"
    }
   ],
   "source": [
    "Student.name"
   ]
  },
  {
   "cell_type": "code",
   "execution_count": 22,
   "id": "3a7209c9-ea5f-453b-829b-b225ef7f24e7",
   "metadata": {},
   "outputs": [
    {
     "name": "stdout",
     "output_type": "stream",
     "text": [
      "지훈\n",
      "지훈\n"
     ]
    }
   ],
   "source": [
    "a = Student()\n",
    "b = Student()\n",
    "print(a.name)\n",
    "print(b.name)"
   ]
  },
  {
   "cell_type": "code",
   "execution_count": 23,
   "id": "0d815672-48be-425b-9fda-82cb5d6fd88a",
   "metadata": {},
   "outputs": [
    {
     "name": "stdout",
     "output_type": "stream",
     "text": [
      "도준\n",
      "도준\n"
     ]
    }
   ],
   "source": [
    "Student.name = \"도준\"\n",
    "a = Student()\n",
    "b = Student()\n",
    "print(a.name)\n",
    "print(b.name)"
   ]
  },
  {
   "cell_type": "code",
   "execution_count": 24,
   "id": "68c5d929-ee67-494d-a464-c2b6cd211e8e",
   "metadata": {},
   "outputs": [
    {
     "name": "stdout",
     "output_type": "stream",
     "text": [
      "승훈\n",
      "도준\n"
     ]
    }
   ],
   "source": [
    "a = Student()\n",
    "b = Student()\n",
    "a.name = \"승훈\"\n",
    "print(a.name)\n",
    "print(b.name)"
   ]
  },
  {
   "cell_type": "markdown",
   "id": "a6a8877e-aaec-4037-bd1e-848fa81a3e95",
   "metadata": {},
   "source": [
    "### 클래스 응용"
   ]
  },
  {
   "cell_type": "code",
   "execution_count": 47,
   "id": "e02ac7f4-83b5-47b0-93cd-db6ba0604390",
   "metadata": {},
   "outputs": [],
   "source": [
    "# 기본 클래스 형태\n",
    "class Basic:\n",
    "    def __init__(self, level):\n",
    "        self.level = level\n",
    "    def eat(self):\n",
    "        print('잘먹어요')\n",
    "    def say(self):\n",
    "        print(f'레벨은 {self.level} 입니다.')\n",
    "    def move(self):\n",
    "        print('이동을 합니다.')"
   ]
  },
  {
   "cell_type": "code",
   "execution_count": 48,
   "id": "f8146a9f-e7d6-4ffe-bacc-53bb5a8a1dab",
   "metadata": {},
   "outputs": [],
   "source": [
    "a = Basic(1)\n",
    "b = Basic(8)\n",
    "c = Basic(20)"
   ]
  },
  {
   "cell_type": "code",
   "execution_count": 49,
   "id": "98bd4af6-61e8-4360-a588-3a08573dd000",
   "metadata": {},
   "outputs": [
    {
     "name": "stdout",
     "output_type": "stream",
     "text": [
      "잘먹어요\n",
      "레벨은 1 입니다.\n",
      "이동을 합니다.\n",
      "잘먹어요\n",
      "레벨은 8 입니다.\n",
      "이동을 합니다.\n",
      "잘먹어요\n",
      "레벨은 20 입니다.\n",
      "이동을 합니다.\n"
     ]
    },
    {
     "data": {
      "text/plain": [
       "(None, None, None)"
      ]
     },
     "execution_count": 49,
     "metadata": {},
     "output_type": "execute_result"
    }
   ],
   "source": [
    "a.eat(),a.say(),a.move()\n",
    "b.eat(),b.say(),b.move()\n",
    "c.eat(),c.say(),c.move()"
   ]
  },
  {
   "cell_type": "code",
   "execution_count": 50,
   "id": "4810b3cb-4b49-40c7-ab5f-29f1a1192a26",
   "metadata": {},
   "outputs": [],
   "source": [
    "# 상속\n",
    "class Warrior(Basic):\n",
    "    def skill(self):\n",
    "        print(f'1초에 {self.level}번 휘두룹니다.')"
   ]
  },
  {
   "cell_type": "code",
   "execution_count": 52,
   "id": "673f534f-2216-40dc-83f3-d7eb0cd2f48c",
   "metadata": {},
   "outputs": [
    {
     "name": "stdout",
     "output_type": "stream",
     "text": [
      "레벨은 7 입니다.\n",
      "1초에 7번 휘두룹니다.\n"
     ]
    }
   ],
   "source": [
    "war = Warrior(7)\n",
    "war.say()\n",
    "war.skill()"
   ]
  },
  {
   "cell_type": "code",
   "execution_count": 53,
   "id": "5bbffbfb-8fd0-4602-9e36-e98dfab718b9",
   "metadata": {},
   "outputs": [],
   "source": [
    "# 오버라이딩\n",
    "class Sor(Warrior):\n",
    "    def skill(self):\n",
    "        if self.level < 6:\n",
    "            print('당신의 레벨은 %d레벨 아직 스킬레벨이 부족합니다'%self.level)\n",
    "        else:\n",
    "            print(f'{self.level}개의 메태오를 던집니다.')\n",
    "        "
   ]
  },
  {
   "cell_type": "code",
   "execution_count": 55,
   "id": "f06ad7a2-e4a0-42e3-8bf0-e2a7a9557293",
   "metadata": {},
   "outputs": [
    {
     "name": "stdout",
     "output_type": "stream",
     "text": [
      "레벨은 3 입니다.\n",
      "당신의 레벨은 3레벨 아직 스킬레벨이 부족합니다\n",
      "레벨은 17 입니다.\n",
      "17개의 메태오를 던집니다.\n"
     ]
    }
   ],
   "source": [
    "sor = Sor(3)\n",
    "sor2 = Sor(17)\n",
    "sor.say()\n",
    "sor.skill()\n",
    "sor2.say()\n",
    "sor2.skill()"
   ]
  },
  {
   "cell_type": "markdown",
   "id": "3b8e409e-4062-4d30-b397-cbcfd84e5bbb",
   "metadata": {},
   "source": [
    "## 모듈 **\n",
    "<fieldset><legend>import 와 실행</legend>\n",
    "<strong><code>__name__</code> 변수란?</strong><p></p>\n",
    "<p>파이썬의 <code>__name__</code> 변수는 파이썬이 내부적으로 사용하는 특별한 변수 이름이다. 만약 <code>C:\\doit&gt;python mod1.py</code>처럼 직접 mod1.py 파일을 실행할 경우, mod1.py의 <code>__name__</code> 변수에는 <code>__main__</code> 값이 저장된다. 하지만 파이썬 셸이나 다른 파이썬 모듈에서 mod1을 import할 경우에는 mod1.py의 <code>__name__</code> 변수에 mod1.py의 모듈 이름인 mod1이 저장된다.</p>\n",
    "<pre><code class=\"language-python hljs md-csc-wrap\"><button class=\"md-csc-button btn btn-xs btn-default\"><span class=\"copymsg\">Copy</span></button><span class=\"hljs-meta\">&gt;&gt;&gt; </span><span class=\"hljs-keyword\">import</span> mod1\n",
    "<span class=\"hljs-meta\">&gt;&gt;&gt; </span>mod1.__name__\n",
    "<span class=\"hljs-string\">'mod1'</span>\n",
    "</code></pre>\n",
    "<p></p></fieldset>"
   ]
  },
  {
   "cell_type": "code",
   "execution_count": 59,
   "id": "280e9f3b-06b7-405d-a142-fbb22cc5ea5f",
   "metadata": {},
   "outputs": [],
   "source": [
    "with open('mod1.py','w') as f:\n",
    "    data='''def add(a,b):\n",
    "    return a+b\n",
    "def sub(a,b):\n",
    "    return a-b'''\n",
    "    f.write(data)"
   ]
  },
  {
   "cell_type": "code",
   "execution_count": 60,
   "id": "e723e2d4-40e6-47a2-bfdd-bf7f5c5d6959",
   "metadata": {},
   "outputs": [
    {
     "name": "stdout",
     "output_type": "stream",
     "text": [
      "7\n",
      "4\n"
     ]
    }
   ],
   "source": [
    "import mod1\n",
    "print(mod1.add(3,4))\n",
    "print(mod1.sub(7,3))"
   ]
  },
  {
   "cell_type": "code",
   "execution_count": 3,
   "id": "9da287be-a710-4d0d-bac7-c521fa84dca1",
   "metadata": {},
   "outputs": [
    {
     "name": "stdout",
     "output_type": "stream",
     "text": [
      "7\n",
      "4\n"
     ]
    }
   ],
   "source": [
    "from mod1 import add , sub # from mod1 import *\n",
    "print(add(3,4))\n",
    "print(sub(7,3))"
   ]
  },
  {
   "cell_type": "code",
   "execution_count": 3,
   "id": "32cce78a-3f65-44aa-a133-23c2ff35590d",
   "metadata": {},
   "outputs": [],
   "source": [
    "with open('mod1.py','a') as f:\n",
    "    data='''\n",
    "print(__name__)'''\n",
    "    f.write(data)"
   ]
  },
  {
   "cell_type": "code",
   "execution_count": 3,
   "id": "445e3686-78a4-4c06-b482-918c8d7bc70b",
   "metadata": {},
   "outputs": [],
   "source": [
    "with open('mod1.py','a') as f:\n",
    "    data='''\n",
    "if __name__ == \"__main__\":\n",
    "    print(add(1,4))\n",
    "    print(sub(4,2))'''\n",
    "    f.write(data)"
   ]
  },
  {
   "cell_type": "code",
   "execution_count": 1,
   "id": "08d86eee-552b-4666-8b64-a52b662f7dc7",
   "metadata": {},
   "outputs": [
    {
     "name": "stdout",
     "output_type": "stream",
     "text": [
      "mod1\n"
     ]
    }
   ],
   "source": [
    "import mod1"
   ]
  },
  {
   "cell_type": "code",
   "execution_count": 2,
   "id": "dd37d9ba-e424-4d41-b2bc-0ef176cf5177",
   "metadata": {},
   "outputs": [
    {
     "name": "stdout",
     "output_type": "stream",
     "text": [
      "__main__\n",
      "5\n",
      "2\n"
     ]
    }
   ],
   "source": [
    "!python mod1.py"
   ]
  },
  {
   "cell_type": "markdown",
   "id": "fc49bf88-06bd-4744-b731-095501adca41",
   "metadata": {},
   "source": [
    "### 클래스나 변수 등을 포함한 모듈"
   ]
  },
  {
   "cell_type": "code",
   "execution_count": 3,
   "id": "3b3ce978-c78f-44d0-b03b-45b0723dd077",
   "metadata": {},
   "outputs": [],
   "source": [
    "f = open('mod2.py','w')\n",
    "data ='''PI = 3.141592\n",
    "class Math:\n",
    "    def solv(self, r):\n",
    "        return PI * (r**2)\n",
    "    def add(a,b):\n",
    "        return a+b'''\n",
    "f.write(data)\n",
    "f.close()"
   ]
  },
  {
   "cell_type": "code",
   "execution_count": 5,
   "id": "879c505c-b3ac-4108-8ca0-97031feb6f3f",
   "metadata": {},
   "outputs": [
    {
     "name": "stdout",
     "output_type": "stream",
     "text": [
      "PI = 3.141592\n",
      "class Math:\n",
      "    def solv(self, r):\n",
      "        return PI * (r**2)\n",
      "def add(a,b):\n",
      "    return a+b\n"
     ]
    }
   ],
   "source": [
    "f = open('mod2.py','r')\n",
    "print(f.read())\n",
    "f.close()"
   ]
  },
  {
   "cell_type": "code",
   "execution_count": 6,
   "id": "6d5a6054-1ae6-4c26-8b30-72fa0ddb9ae1",
   "metadata": {},
   "outputs": [
    {
     "name": "stdout",
     "output_type": "stream",
     "text": [
      "3.141592\n"
     ]
    }
   ],
   "source": [
    "import mod2\n",
    "print(mod2.PI) # 변수 로드"
   ]
  },
  {
   "cell_type": "code",
   "execution_count": 7,
   "id": "5252ed52-142f-4eaa-86a0-fd3c14d82d5b",
   "metadata": {},
   "outputs": [
    {
     "name": "stdout",
     "output_type": "stream",
     "text": [
      "12.566368\n"
     ]
    }
   ],
   "source": [
    "a = mod2.Math() # 클래스로부터 인스턴스 만들기\n",
    "print(a.solv(2))"
   ]
  },
  {
   "cell_type": "code",
   "execution_count": 8,
   "id": "d5c80ed0-5a9e-4399-9000-70704dced914",
   "metadata": {},
   "outputs": [
    {
     "name": "stdout",
     "output_type": "stream",
     "text": [
      "7.5415920000000005\n"
     ]
    }
   ],
   "source": [
    "print(mod2.add(mod2.PI, 4.4))"
   ]
  },
  {
   "cell_type": "code",
   "execution_count": 3,
   "id": "5af4a065-7d7c-401b-84a9-0dccdcc35bdd",
   "metadata": {},
   "outputs": [],
   "source": [
    "f = open('mod2.py','a')\n",
    "data ='''\n",
    "class Math2:\n",
    "    def __init__(self, r=3):\n",
    "        self.r = r\n",
    "    def solv(self, r):\n",
    "        return PI * (r**2)'''\n",
    "f.write(data)\n",
    "f.close()"
   ]
  },
  {
   "cell_type": "code",
   "execution_count": 4,
   "id": "0a546103-30dc-432a-a5a0-a44f3db0a056",
   "metadata": {},
   "outputs": [
    {
     "name": "stdout",
     "output_type": "stream",
     "text": [
      "PI = 3.141592\n",
      "class Math:\n",
      "    def solv(self, r):\n",
      "        return PI * (r**2)\n",
      "    def add(a,b):\n",
      "        return a+b\n",
      "class Math2:\n",
      "    def __init__(self, r=3):\n",
      "        self.r = r\n",
      "    def solv(self, r):\n",
      "        return PI * (r**2)\n"
     ]
    }
   ],
   "source": [
    "f = open('mod2.py','r')\n",
    "print(f.read())\n",
    "f.close()"
   ]
  },
  {
   "cell_type": "markdown",
   "id": "bcc32afb-ba0e-4eea-8c39-883efdc01adb",
   "metadata": {},
   "source": [
    "- 일시정지"
   ]
  },
  {
   "cell_type": "code",
   "execution_count": 7,
   "id": "eb92ff2f-95d4-4292-a4bb-babe93920209",
   "metadata": {},
   "outputs": [
    {
     "ename": "TypeError",
     "evalue": "Math2.solv() missing 1 required positional argument: 'r'",
     "output_type": "error",
     "traceback": [
      "\u001b[0;31m---------------------------------------------------------------------------\u001b[0m",
      "\u001b[0;31mTypeError\u001b[0m                                 Traceback (most recent call last)",
      "Cell \u001b[0;32mIn[7], line 3\u001b[0m\n\u001b[1;32m      1\u001b[0m \u001b[38;5;28;01mimport\u001b[39;00m \u001b[38;5;21;01mmod2\u001b[39;00m\n\u001b[1;32m      2\u001b[0m b \u001b[38;5;241m=\u001b[39m mod2\u001b[38;5;241m.\u001b[39mMath2()\n\u001b[0;32m----> 3\u001b[0m \u001b[38;5;28mprint\u001b[39m(\u001b[43mb\u001b[49m\u001b[38;5;241;43m.\u001b[39;49m\u001b[43msolv\u001b[49m\u001b[43m(\u001b[49m\u001b[43m)\u001b[49m)\n",
      "\u001b[0;31mTypeError\u001b[0m: Math2.solv() missing 1 required positional argument: 'r'"
     ]
    }
   ],
   "source": [
    "import mod2\n",
    "b = mod2.Math2()\n",
    "print(b.solv())"
   ]
  },
  {
   "cell_type": "markdown",
   "id": "aa2812b9-f860-4c19-a781-cd126eed14f2",
   "metadata": {},
   "source": [
    "### 다른 파일에서 모듈 불러오기\n",
    "- 파일이 동일한 디렉터리에 있어야 한다."
   ]
  },
  {
   "cell_type": "markdown",
   "id": "4d6adacb-25d0-4d75-80f2-0e0a47094a6d",
   "metadata": {},
   "source": [
    "### 다른 디렉터리에 있는 모듈을 불러오는 방법"
   ]
  },
  {
   "cell_type": "markdown",
   "id": "8486c3b2-4212-4d14-a121-7a0f9a80e9aa",
   "metadata": {},
   "source": [
    "#### sys.path.append 사용하기 (기록)"
   ]
  },
  {
   "cell_type": "code",
   "execution_count": 7,
   "id": "9ea8d15a-870c-4825-b9db-807bbe364691",
   "metadata": {},
   "outputs": [
    {
     "data": {
      "text/plain": [
       "['/home/pi04/py_data',\n",
       " '/usr/lib/python311.zip',\n",
       " '/usr/lib/python3.11',\n",
       " '/usr/lib/python3.11/lib-dynload',\n",
       " '',\n",
       " '/home/pi04/venv/lib/python3.11/site-packages']"
      ]
     },
     "execution_count": 7,
     "metadata": {},
     "output_type": "execute_result"
    }
   ],
   "source": [
    "import sys\n",
    "sys.path"
   ]
  },
  {
   "cell_type": "markdown",
   "id": "7336eced-00bd-499d-8cf0-e95d9c0ece85",
   "metadata": {},
   "source": [
    "#### PYTHONPATH 환경 변수 사용하기 (즉석)\n",
    "- 맥이나 유닉스 환경에서는 set 대신 export 명령을 사용해야 한다."
   ]
  },
  {
   "cell_type": "markdown",
   "id": "7f3d7e36-1351-49d9-8f37-bf780e121c7f",
   "metadata": {},
   "source": [
    "## 패키지 **\n",
    "- 파이썬에서 패키지(packages)란 관련 있는 모듈의 집합을 말한다. 패키지는 파이썬 모듈을 계층적(디렉터리 구조)으로 관리할 수 있게 해 준다.\r\n",
    "- \r\n",
    "파이썬에서 모듈은 하나의 .py 파일이다."
   ]
  },
  {
   "cell_type": "markdown",
   "id": "a6492bc3-26dd-47c9-9705-f3a8ee395342",
   "metadata": {},
   "source": [
    "### 패키지 만들기"
   ]
  },
  {
   "cell_type": "code",
   "execution_count": 27,
   "id": "83553a1f-3e53-4426-bde8-405a5496a545",
   "metadata": {},
   "outputs": [
    {
     "data": {
      "text/plain": [
       "'/home/pi04/py_data'"
      ]
     },
     "execution_count": 27,
     "metadata": {},
     "output_type": "execute_result"
    }
   ],
   "source": [
    "import os\n",
    "os.getcwd() # 경로\n",
    "# os.mkdir('pkg') # 경로상에 폴더생성\n",
    "# os.mkdir('pkg/sound') # 경로내에 폴더생성\n",
    "# os.makedirs('pkg/sound',exist_ok=True) # 중복허용\n",
    "# os.makedirs('1/2/3/4/5/6/7') # 연속경로생성"
   ]
  },
  {
   "cell_type": "code",
   "execution_count": 29,
   "id": "68fe2476-4288-4827-b1a7-8ca139487a41",
   "metadata": {},
   "outputs": [],
   "source": [
    "os.makedirs('pkg/sound')\n",
    "os.makedirs('pkg/graphic')"
   ]
  },
  {
   "cell_type": "code",
   "execution_count": 35,
   "id": "b361d392-6cd8-4d95-a5a1-faeba7143813",
   "metadata": {},
   "outputs": [],
   "source": [
    "with open('pkg/__init__.py','w'):\n",
    "    pass\n",
    "with open('pkg/sound/__init__.py','w'):\n",
    "    pass\n",
    "with open('pkg/graphic/__init__.py','w'):\n",
    "    pass"
   ]
  },
  {
   "cell_type": "code",
   "execution_count": 36,
   "id": "2b3ba312-f1d4-4705-abac-447f475aabe8",
   "metadata": {},
   "outputs": [],
   "source": [
    "f = open('pkg/sound/echo.py','w')\n",
    "data = '''\n",
    "def echo_test():\n",
    "    print(\"소리테스트\")'''\n",
    "f.write(data)\n",
    "f.close()\n",
    "f = open('pkg/graphic/render.py','w')\n",
    "data = '''\n",
    "def render_test():\n",
    "    print(\"화면테스트\")'''\n",
    "f.write(data)\n",
    "f.close()"
   ]
  },
  {
   "cell_type": "code",
   "execution_count": 40,
   "id": "e1920b23-54f2-4f3f-a081-2109b7531d1f",
   "metadata": {},
   "outputs": [
    {
     "name": "stdout",
     "output_type": "stream",
     "text": [
      "/home/pi04/py_data\n"
     ]
    }
   ],
   "source": [
    "!pwd # 현재경로"
   ]
  },
  {
   "cell_type": "code",
   "execution_count": 41,
   "id": "25d908fa-da66-4054-a723-3d505efc47c3",
   "metadata": {},
   "outputs": [],
   "source": [
    "!export PYTHONPATH=/home/pi04/py_data # 윈도우 경우 set 사용"
   ]
  },
  {
   "cell_type": "markdown",
   "id": "5d9820c4-9bf5-4662-8b67-3002353ff595",
   "metadata": {},
   "source": [
    "### 패키지 안의 함수 실행하기"
   ]
  },
  {
   "cell_type": "markdown",
   "id": "09714214-f3b6-4eb3-9461-c8caecb01cf4",
   "metadata": {},
   "source": [
    "#### echo 모듈을 import하여 실행"
   ]
  },
  {
   "cell_type": "code",
   "execution_count": 39,
   "id": "effcfc1f-675e-4c60-ac4d-1c256f504451",
   "metadata": {},
   "outputs": [
    {
     "name": "stdout",
     "output_type": "stream",
     "text": [
      "소리테스트\n"
     ]
    }
   ],
   "source": [
    "import pkg.sound.echo\n",
    "pkg.sound.echo.echo_test()"
   ]
  },
  {
   "cell_type": "markdown",
   "id": "770efe76-978b-444d-96ee-4111113bc7c7",
   "metadata": {},
   "source": [
    "#### echo 모듈이 있는 디렉터리까지를 from ... import하여 실행"
   ]
  },
  {
   "cell_type": "code",
   "execution_count": 1,
   "id": "a4088884-86e7-46b3-87a1-66fcbeec22d0",
   "metadata": {},
   "outputs": [
    {
     "name": "stdout",
     "output_type": "stream",
     "text": [
      "소리테스트\n"
     ]
    }
   ],
   "source": [
    "from pkg.sound import echo\n",
    "echo.echo_test()"
   ]
  },
  {
   "cell_type": "markdown",
   "id": "a2c73245-c695-4fbf-902e-0a8fcfc0f445",
   "metadata": {},
   "source": [
    "####  echo 모듈의 echo_test 함수를 직접 import하여 실행"
   ]
  },
  {
   "cell_type": "code",
   "execution_count": 1,
   "id": "b368a61e-567f-48e4-9eac-a8259f6a5e1e",
   "metadata": {},
   "outputs": [
    {
     "name": "stdout",
     "output_type": "stream",
     "text": [
      "소리테스트\n"
     ]
    }
   ],
   "source": [
    "from pkg.sound.echo import echo_test\n",
    "echo_test()"
   ]
  },
  {
   "cell_type": "markdown",
   "id": "094be172-2041-4961-a033-d2161311cf93",
   "metadata": {
    "scrolled": true
   },
   "source": [
    "- 도트 연산자(.)를 사용해서 import a.b.c처럼 import할 때 가장 마지막 항목인 c는 반드시 모듈 또는 패키지여야만 한다."
   ]
  },
  {
   "cell_type": "markdown",
   "id": "d0f9a66c-242c-4211-828c-a269a20c8ab5",
   "metadata": {},
   "source": [
    "### \\_\\_init\\_\\_.py의 용도 *\n",
    "- <b>\\_\\_init\\_\\_.py</b> 파일은 해당 디렉터리가 패키지의 일부임을 알려 주는 역할을 한다. 만약 game, sound, graphic 등 패키지에 포함된 디렉터리에 <b>\\_\\_init\\_\\_.py</b> 파일이 없다면 패키지로 인식되지 않는다.\n",
    "<blockquote>\n",
    "<p>python 3.3 버전부터는 <code>__init__.py</code> 파일이 없어도 패키지로 인식한다(<a class=\"wiki_link\" data-title=\"PEP\" data-wiki=\"/page/wiki/PEP\" href=\"javascript:void(0)\">PEP</a> 420). 하지만 하위 버전 호환을 위해 <code>__init__.py</code> 파일을 생성하는 것이 안전한 방법이다.</p>\n",
    "</blockquote>\n",
    "- <b>\\_\\_init\\_\\_.py</b> 파일은 패키지와 관련된 설정이나 초기화 코드를 포함할 수 있다. 다양한 방법으로 활용할 수 있는데, 몇 가지 예를 들어 살펴보자."
   ]
  },
  {
   "cell_type": "markdown",
   "id": "c65aaccb-e9a7-4903-b113-5b7324f3e67e",
   "metadata": {},
   "source": [
    "#### 패키지 변수 및 함수 정의"
   ]
  },
  {
   "cell_type": "code",
   "execution_count": 3,
   "id": "e9fc3086-e381-4d5b-8d81-f45730a10f8e",
   "metadata": {},
   "outputs": [],
   "source": [
    "with open('pkg/__init__.py','w') as f:\n",
    "    data ='''VERSION = 3.11\n",
    "    \n",
    "def print_version_info():\n",
    "    print(f'The version of this pkg is {VERSION}.')'''\n",
    "    f.write(data)"
   ]
  },
  {
   "cell_type": "code",
   "execution_count": 4,
   "id": "5af3f089-1f37-4677-9ee7-48ede57316c3",
   "metadata": {},
   "outputs": [
    {
     "name": "stdout",
     "output_type": "stream",
     "text": [
      "3.11\n",
      "The version of this pkg is 3.11.\n"
     ]
    }
   ],
   "source": [
    "import pkg\n",
    "print(pkg.VERSION)\n",
    "pkg.print_version_info()"
   ]
  },
  {
   "cell_type": "markdown",
   "id": "d07a7fd2-01ca-436c-9245-2a32e0ce6e9e",
   "metadata": {},
   "source": [
    "#### 패키지 내 모듈을 미리 import"
   ]
  },
  {
   "cell_type": "code",
   "execution_count": 3,
   "id": "4c3a036a-ac7c-4204-b291-0858ff7698a7",
   "metadata": {},
   "outputs": [],
   "source": [
    "with open('pkg/__init__.py','w') as f:\n",
    "    data ='''from .graphic.render import render_test\n",
    "VERSION = 3.11\n",
    "    \n",
    "def print_version_info():\n",
    "    print(f'The version of this pkg is {VERSION}.')'''\n",
    "    f.write(data)"
   ]
  },
  {
   "cell_type": "code",
   "execution_count": 1,
   "id": "6be35fd8-7ff7-469d-abbe-1ae1235121dc",
   "metadata": {},
   "outputs": [
    {
     "name": "stdout",
     "output_type": "stream",
     "text": [
      "화면테스트\n"
     ]
    }
   ],
   "source": [
    "import pkg\n",
    "pkg.render_test()"
   ]
  },
  {
   "cell_type": "markdown",
   "id": "43e3546a-7258-48af-a6bd-80270e6569c9",
   "metadata": {},
   "source": [
    "#### 패키지 초기화"
   ]
  },
  {
   "cell_type": "code",
   "execution_count": 4,
   "id": "407c6a70-95c6-4365-a588-850e3076d213",
   "metadata": {},
   "outputs": [],
   "source": [
    "with open('pkg/__init__.py','a') as f:\n",
    "    data ='''\n",
    "# 여기에 패키지 초기화 코드를 작성한다.\n",
    "print(\"Initializing pkg ...\")'''\n",
    "    f.write(data)"
   ]
  },
  {
   "cell_type": "code",
   "execution_count": 3,
   "id": "92463033-de93-4474-9f02-a37b7107cd60",
   "metadata": {},
   "outputs": [
    {
     "name": "stdout",
     "output_type": "stream",
     "text": [
      "from .graphic.render import render_test\n",
      "VERSION = 3.11\n",
      "    \n",
      "def print_version_info():\n",
      "    print(f'The version of this pkg is {VERSION}.')\n"
     ]
    }
   ],
   "source": [
    "with open('pkg/__init__.py','r') as f:\n",
    "    print(f.read())"
   ]
  },
  {
   "cell_type": "code",
   "execution_count": 1,
   "id": "2cad2ed5-1930-4081-ac08-3f70ac78cd75",
   "metadata": {},
   "outputs": [
    {
     "name": "stdout",
     "output_type": "stream",
     "text": [
      "Initializing pkg ...\n"
     ]
    }
   ],
   "source": [
    "import pkg"
   ]
  },
  {
   "cell_type": "code",
   "execution_count": 1,
   "id": "ef7c38f0-85b1-4329-8bd8-15536c4e99f8",
   "metadata": {},
   "outputs": [
    {
     "name": "stdout",
     "output_type": "stream",
     "text": [
      "Initializing pkg ...\n"
     ]
    }
   ],
   "source": [
    "from pkg.graphic.render import render_test"
   ]
  },
  {
   "cell_type": "markdown",
   "id": "5b918226-f003-4d11-867d-2914dec36e80",
   "metadata": {},
   "source": [
    "#### **\\_\\_all\\_\\_**"
   ]
  },
  {
   "cell_type": "code",
   "execution_count": 1,
   "id": "b51f10ff-f120-4253-a0d7-89df4fe1eda2",
   "metadata": {},
   "outputs": [],
   "source": [
    "with open('pkg/sound/__init__.py','w') as f:\n",
    "    data ='''__all__ = ['echo']'''\n",
    "    f.write(data)"
   ]
  },
  {
   "cell_type": "code",
   "execution_count": 2,
   "id": "4deda9fb-42e6-47e3-a526-39fd5bde42d9",
   "metadata": {},
   "outputs": [
    {
     "name": "stdout",
     "output_type": "stream",
     "text": [
      "Initializing pkg ...\n"
     ]
    }
   ],
   "source": [
    "from pkg.sound import *"
   ]
  },
  {
   "cell_type": "code",
   "execution_count": 3,
   "id": "3e45d49e-b959-408a-8d54-74857d1ba7e8",
   "metadata": {},
   "outputs": [
    {
     "name": "stdout",
     "output_type": "stream",
     "text": [
      "소리테스트\n"
     ]
    }
   ],
   "source": [
    "echo.echo_test()"
   ]
  },
  {
   "cell_type": "markdown",
   "id": "60262adc-dcf2-4477-9754-4333ae1ddce5",
   "metadata": {},
   "source": [
    "### relative 패키지\n",
    "<table>\n",
    "<thead>\n",
    "<tr>\n",
    "<th>접근자</th>\n",
    "<th>설명</th>\n",
    "</tr>\n",
    "</thead>\n",
    "<tbody>\n",
    "<tr>\n",
    "<td><code>..</code></td>\n",
    "<td>부모 디렉터리</td>\n",
    "</tr>\n",
    "<tr>\n",
    "<td><code>.</code></td>\n",
    "<td>현재 디렉터리</td>\n",
    "</tr>\n",
    "</tbody>\n",
    "</table>"
   ]
  },
  {
   "cell_type": "code",
   "execution_count": 5,
   "id": "07a559a9-b24d-4d29-87ce-376ea0304c59",
   "metadata": {},
   "outputs": [],
   "source": [
    "with open('pkg/graphic/render.py','w') as f:\n",
    "    data ='''from pkg.sound.echo import echo_test\n",
    "def render_test():\n",
    "    print(\"화면짱\")\n",
    "    echo_test()'''\n",
    "    f.write(data)"
   ]
  },
  {
   "cell_type": "code",
   "execution_count": 1,
   "id": "6a0200a3-b613-401f-b6e2-1adc5ce6f54d",
   "metadata": {},
   "outputs": [
    {
     "name": "stdout",
     "output_type": "stream",
     "text": [
      "Initializing pkg ...\n",
      "화면짱\n",
      "소리테스트\n"
     ]
    }
   ],
   "source": [
    "from pkg.graphic.render import render_test\n",
    "render_test()"
   ]
  },
  {
   "cell_type": "code",
   "execution_count": 2,
   "id": "edbb0d28-b88d-4d63-86f6-30a9e3c4248a",
   "metadata": {},
   "outputs": [],
   "source": [
    "with open('pkg/graphic/render.py','w') as f:\n",
    "    data ='''from ..sound.echo import echo_test\n",
    "def render_test():\n",
    "    print(\"화면짱\")\n",
    "    echo_test()'''\n",
    "    f.write(data)"
   ]
  },
  {
   "cell_type": "code",
   "execution_count": 1,
   "id": "65319bc7-5360-454f-84fe-af84e3e647b4",
   "metadata": {},
   "outputs": [
    {
     "name": "stdout",
     "output_type": "stream",
     "text": [
      "Initializing pkg ...\n",
      "화면짱\n",
      "소리테스트\n"
     ]
    }
   ],
   "source": [
    "from pkg.graphic.render import render_test\n",
    "render_test()"
   ]
  },
  {
   "cell_type": "markdown",
   "id": "935fa1ce-c95c-4a73-bc46-20d3fb1ff9de",
   "metadata": {},
   "source": [
    "## 예외 처리"
   ]
  },
  {
   "cell_type": "markdown",
   "id": "19afcb35-dcc0-4b77-af01-c0c8bd408a38",
   "metadata": {},
   "source": [
    "### 오류발생\n",
    "- 오타\n",
    "- 존재하지 않는 파일을 사용\n",
    "- 수학적 오류\n",
    "- 인덱스 오류"
   ]
  },
  {
   "cell_type": "markdown",
   "id": "9c184909-dd28-4a18-922b-a7236ff99663",
   "metadata": {},
   "source": [
    "### 오류 예외 처리 기법\n",
    "- try-except 문\n",
    "- try-finally 문\n",
    "- 여러 개의 오류 처리하기\n",
    "- try-else 문"
   ]
  },
  {
   "cell_type": "markdown",
   "id": "c2e09ce7-0a30-4a96-8c5f-961919485f63",
   "metadata": {},
   "source": [
    "#### try-except 문"
   ]
  },
  {
   "cell_type": "code",
   "execution_count": null,
   "id": "bd5f43a7-08f9-4556-b22f-15179e2f1729",
   "metadata": {
    "scrolled": true
   },
   "outputs": [],
   "source": [
    "# 일반적 에러\n",
    "4/0\n",
    "# 발생 ZeroDivisionError: division by zero "
   ]
  },
  {
   "cell_type": "code",
   "execution_count": null,
   "id": "b92cdb5f-6607-4934-a9c3-8055762ab8a0",
   "metadata": {
    "scrolled": true
   },
   "outputs": [],
   "source": [
    "# try-except 예 (모든 에러발생시)\n",
    "try:\n",
    "    4/0\n",
    "except:\n",
    "    a=1\n",
    "    b=2\n",
    "    print(a+b)\n",
    "    print('에러남')"
   ]
  },
  {
   "cell_type": "code",
   "execution_count": null,
   "id": "52f0581b-69dd-4701-8b51-ae5553e97263",
   "metadata": {
    "scrolled": true
   },
   "outputs": [],
   "source": [
    "# try-except2 (발생 오류만 포함한 except 문)\n",
    "try:\n",
    "    print('종료되면안돼')\n",
    "    4/0\n",
    "    for i in 3:\n",
    "        pass\n",
    "except ZeroDivisionError:\n",
    "    print('에러남')"
   ]
  },
  {
   "cell_type": "code",
   "execution_count": 18,
   "id": "098acf69-1278-43fb-b493-d5ead66ca4bd",
   "metadata": {},
   "outputs": [
    {
     "name": "stdout",
     "output_type": "stream",
     "text": [
      "division by zero\n"
     ]
    }
   ],
   "source": [
    "# try-except2 (발생 오류와 오류변수 포함한 except 문)\n",
    "try:\n",
    "    4/0\n",
    "    for i in 3:\n",
    "        pass\n",
    "except ZeroDivisionError as e:\n",
    "    print(e)"
   ]
  },
  {
   "cell_type": "markdown",
   "id": "e1553ebf-2041-4308-b8b5-99541dc7c9a3",
   "metadata": {},
   "source": [
    "#### try-finally 문"
   ]
  },
  {
   "cell_type": "code",
   "execution_count": null,
   "id": "a4c30a3e-f73a-4bd7-9018-0ee8018fbfaf",
   "metadata": {
    "scrolled": true
   },
   "outputs": [],
   "source": [
    "# try-finally 구문 (무조건 실행)\n",
    "try:\n",
    "    f = open('foo.txt','w')\n",
    "    # 무언가 수행함\n",
    "    for i in 3:\n",
    "        f.write(i)\n",
    "finally:\n",
    "    f.close()\n",
    "    print('연파일 닫음')"
   ]
  },
  {
   "cell_type": "markdown",
   "id": "94693444-dc73-4dd6-aae9-bce6c72a5f05",
   "metadata": {},
   "source": [
    "#### 어러 개의 오류 처리하기"
   ]
  },
  {
   "cell_type": "code",
   "execution_count": 35,
   "id": "63cc54d7-dbe8-4e23-8fd6-5e751fda42f3",
   "metadata": {},
   "outputs": [
    {
     "name": "stdout",
     "output_type": "stream",
     "text": [
      "list index out of range\n"
     ]
    }
   ],
   "source": [
    "# try-except 여러개 1 (먼저발생에러만 표현)\n",
    "try:\n",
    "    a = [1,2]\n",
    "    print(a[3])\n",
    "    4/0\n",
    "except ZeroDivisionError as j:\n",
    "    print(j)\n",
    "except IndexError as e:\n",
    "    print(e)"
   ]
  },
  {
   "cell_type": "code",
   "execution_count": 36,
   "id": "f396f94e-5266-4050-bc1c-4bcf64cb0be3",
   "metadata": {},
   "outputs": [
    {
     "name": "stdout",
     "output_type": "stream",
     "text": [
      "list index out of range\n"
     ]
    }
   ],
   "source": [
    "# try-except 여러개 2 (먼저발생에러만 표현)\n",
    "try:\n",
    "    a = [1,2]\n",
    "    print(a[3])\n",
    "    4/0\n",
    "except (ZeroDivisionError, IndexError) as e:\n",
    "    print(e)"
   ]
  },
  {
   "cell_type": "markdown",
   "id": "10ea53da-23e0-431e-a384-af2673ca293a",
   "metadata": {},
   "source": [
    "#### try-else 문"
   ]
  },
  {
   "cell_type": "code",
   "execution_count": 39,
   "id": "d3587d39-5317-4604-afe2-da546e892a12",
   "metadata": {},
   "outputs": [
    {
     "name": "stdin",
     "output_type": "stream",
     "text": [
      "나이를 입력하세요:  3\n"
     ]
    },
    {
     "name": "stdout",
     "output_type": "stream",
     "text": [
      "미성년자는 출입금지입니다.\n"
     ]
    }
   ],
   "source": [
    "# try-else문 (오류가 없을 때 else가 실행됨)\n",
    "try:\n",
    "    age=int(input('나이를 입력하세요: '))\n",
    "except:\n",
    "    print('입력이 정확하지 않습니다.')\n",
    "else:\n",
    "    if age <= 18:\n",
    "        print('미성년자는 출입금지입니다.')\n",
    "    else:\n",
    "        print('환영합니다.')"
   ]
  },
  {
   "cell_type": "markdown",
   "id": "ca32198e-5911-4507-b421-76b59055e59e",
   "metadata": {},
   "source": [
    "### 오류 회피하기"
   ]
  },
  {
   "cell_type": "code",
   "execution_count": 43,
   "id": "667c6378-f50c-4dfa-9e6a-3268c9601643",
   "metadata": {},
   "outputs": [],
   "source": [
    "try:\n",
    "    f = open(\"나없는파일\", 'r')\n",
    "except FileNotFoundError as e:\n",
    "    # print(e)\n",
    "    pass"
   ]
  },
  {
   "cell_type": "markdown",
   "id": "793fb4f7-5acc-4cd1-85d6-52a72039ced7",
   "metadata": {},
   "source": [
    "### 오류 일부러 발생시키기 (raise) *"
   ]
  },
  {
   "cell_type": "code",
   "execution_count": 47,
   "id": "6e9aaead-9d93-4280-b9d3-24a35a44140e",
   "metadata": {},
   "outputs": [],
   "source": [
    "class Bird:\n",
    "    def fly(self):\n",
    "        raise NotImplementedError"
   ]
  },
  {
   "cell_type": "code",
   "execution_count": 48,
   "id": "c6b027f2-40c8-48c2-9e6c-be2098acb5fe",
   "metadata": {},
   "outputs": [
    {
     "name": "stdout",
     "output_type": "stream",
     "text": [
      "very fast\n"
     ]
    }
   ],
   "source": [
    "class Eagle(Bird):\n",
    "    # pass\n",
    "    def fly(self):\n",
    "        print(\"very fast\")\n",
    "eagle = Eagle()\n",
    "eagle.fly()"
   ]
  },
  {
   "cell_type": "markdown",
   "id": "c064f10b-7ef0-48d3-8837-a42ff5aaa5c7",
   "metadata": {},
   "source": [
    "### 예외 만들기 *"
   ]
  },
  {
   "cell_type": "code",
   "execution_count": 60,
   "id": "3fc48149-e17d-47be-bd95-85f95e4aca79",
   "metadata": {},
   "outputs": [],
   "source": [
    "class MyError(Exception):\n",
    "    # pass\n",
    "    def __str__(self):\n",
    "        return \"허용되지 않는 별명입니다.\""
   ]
  },
  {
   "cell_type": "code",
   "execution_count": 61,
   "id": "6f29aa55-669a-48e3-9fdb-b88abcd1c5fd",
   "metadata": {},
   "outputs": [],
   "source": [
    "def say_nick(nick):\n",
    "    if nick =='바보':\n",
    "        raise MyError()\n",
    "    print(nick)        "
   ]
  },
  {
   "cell_type": "code",
   "execution_count": 53,
   "id": "af73a6ee-8005-4079-8c38-c578b42c03f4",
   "metadata": {},
   "outputs": [
    {
     "name": "stdout",
     "output_type": "stream",
     "text": [
      "천사\n"
     ]
    },
    {
     "ename": "MyError",
     "evalue": "",
     "output_type": "error",
     "traceback": [
      "\u001b[0;31m---------------------------------------------------------------------------\u001b[0m",
      "\u001b[0;31mMyError\u001b[0m                                   Traceback (most recent call last)",
      "Cell \u001b[0;32mIn[53], line 2\u001b[0m\n\u001b[1;32m      1\u001b[0m say_nick(\u001b[38;5;124m'\u001b[39m\u001b[38;5;124m천사\u001b[39m\u001b[38;5;124m'\u001b[39m)\n\u001b[0;32m----> 2\u001b[0m \u001b[43msay_nick\u001b[49m\u001b[43m(\u001b[49m\u001b[38;5;124;43m'\u001b[39;49m\u001b[38;5;124;43m바보\u001b[39;49m\u001b[38;5;124;43m'\u001b[39;49m\u001b[43m)\u001b[49m\n",
      "Cell \u001b[0;32mIn[52], line 3\u001b[0m, in \u001b[0;36msay_nick\u001b[0;34m(nick)\u001b[0m\n\u001b[1;32m      1\u001b[0m \u001b[38;5;28;01mdef\u001b[39;00m \u001b[38;5;21msay_nick\u001b[39m(nick):\n\u001b[1;32m      2\u001b[0m     \u001b[38;5;28;01mif\u001b[39;00m nick \u001b[38;5;241m==\u001b[39m\u001b[38;5;124m'\u001b[39m\u001b[38;5;124m바보\u001b[39m\u001b[38;5;124m'\u001b[39m:\n\u001b[0;32m----> 3\u001b[0m         \u001b[38;5;28;01mraise\u001b[39;00m MyError()\n\u001b[1;32m      4\u001b[0m     \u001b[38;5;28mprint\u001b[39m(nick)\n",
      "\u001b[0;31mMyError\u001b[0m: "
     ]
    }
   ],
   "source": [
    "say_nick('천사')\n",
    "say_nick('바보')"
   ]
  },
  {
   "cell_type": "code",
   "execution_count": 62,
   "id": "33f9dd42-77de-46d1-b917-b4905a6f8327",
   "metadata": {},
   "outputs": [
    {
     "name": "stdout",
     "output_type": "stream",
     "text": [
      "천사\n",
      "허용되지 않는 별명입니다.\n"
     ]
    }
   ],
   "source": [
    "try:\n",
    "    say_nick('천사')\n",
    "    say_nick('바보')\n",
    "except MyError as e:\n",
    "    print(e)"
   ]
  },
  {
   "cell_type": "markdown",
   "id": "92280785-eb3e-4ba5-960a-cbc2d86781ba",
   "metadata": {},
   "source": [
    "## 내장함수 *"
   ]
  },
  {
   "cell_type": "markdown",
   "id": "82155cf7-c0e1-440b-bf7a-0bf3cd20ffc6",
   "metadata": {},
   "source": [
    "### all (모두가 참)"
   ]
  },
  {
   "cell_type": "code",
   "execution_count": 64,
   "id": "893688be-0b71-462d-b419-3bfcc0dd4be6",
   "metadata": {},
   "outputs": [
    {
     "data": {
      "text/plain": [
       "False"
      ]
     },
     "execution_count": 64,
     "metadata": {},
     "output_type": "execute_result"
    }
   ],
   "source": [
    "all([1,2,3,0,5,6])"
   ]
  },
  {
   "cell_type": "markdown",
   "id": "4193e123-fe8e-41fb-90cf-a3fe0d3d0b7b",
   "metadata": {},
   "source": [
    "### any (하나라도 참이면 참)"
   ]
  },
  {
   "cell_type": "code",
   "execution_count": 66,
   "id": "47f2dd2c-a12a-4d01-aa9f-fdc0f76bde5b",
   "metadata": {},
   "outputs": [
    {
     "data": {
      "text/plain": [
       "True"
      ]
     },
     "execution_count": 66,
     "metadata": {},
     "output_type": "execute_result"
    }
   ],
   "source": [
    "any([1,0,3,0,5,0,0])"
   ]
  },
  {
   "cell_type": "markdown",
   "id": "bb6fb2c5-e0eb-4305-a68b-8b463020912b",
   "metadata": {},
   "source": [
    "### chr(유니코드 입력받아 해당 문자리턴) **"
   ]
  },
  {
   "cell_type": "code",
   "execution_count": 68,
   "id": "521a2f39-04e9-42d0-924c-a6672afa17d5",
   "metadata": {},
   "outputs": [
    {
     "data": {
      "text/plain": [
       "'A'"
      ]
     },
     "execution_count": 68,
     "metadata": {},
     "output_type": "execute_result"
    }
   ],
   "source": [
    "chr(65)"
   ]
  },
  {
   "cell_type": "code",
   "execution_count": 88,
   "id": "ed115969-d802-4e91-863a-543b1d968a6d",
   "metadata": {},
   "outputs": [
    {
     "name": "stdout",
     "output_type": "stream",
     "text": [
      "A,B,C,D,E,F,G,H,I,J,K,L,M,N,O,P,Q,R,S,T,U,V,W,X,Y,Z,"
     ]
    }
   ],
   "source": [
    "# 문자출력 예\n",
    "for i in range(65,91):\n",
    "    print(chr(i),end=',')"
   ]
  },
  {
   "cell_type": "code",
   "execution_count": 86,
   "id": "48d4b284-c478-4827-9567-69171a35002e",
   "metadata": {},
   "outputs": [],
   "source": [
    "# ord(문자를 유니코드로 리턴)\n",
    "def dn(text):\n",
    "    print(chr(ord(text)+32))"
   ]
  },
  {
   "cell_type": "code",
   "execution_count": 85,
   "id": "643d229e-6c7d-4175-844f-4240a3b30df6",
   "metadata": {},
   "outputs": [
    {
     "name": "stdout",
     "output_type": "stream",
     "text": [
      "b\n"
     ]
    }
   ],
   "source": [
    "dn('B')"
   ]
  },
  {
   "cell_type": "markdown",
   "id": "565d06d8-7130-4175-a9ae-240dc0b5465a",
   "metadata": {},
   "source": [
    "### dir (객체가 지닌 변수나 함수를 보여준다)"
   ]
  },
  {
   "cell_type": "code",
   "execution_count": null,
   "id": "3d5b31d7-a977-4e16-a68c-3863cb73b798",
   "metadata": {},
   "outputs": [],
   "source": [
    "dir([])"
   ]
  },
  {
   "cell_type": "markdown",
   "id": "4377658b-4f70-4b87-9c87-2a15a777d8da",
   "metadata": {},
   "source": [
    "### enumerate"
   ]
  },
  {
   "cell_type": "code",
   "execution_count": 89,
   "id": "c45ece3c-292d-4a00-acc2-2f6a7698a354",
   "metadata": {},
   "outputs": [
    {
     "name": "stdout",
     "output_type": "stream",
     "text": [
      "0 a\n",
      "1 b\n",
      "2 c\n"
     ]
    }
   ],
   "source": [
    "for i, v in enumerate(['a','b','c']):\n",
    "    print(i,v)"
   ]
  },
  {
   "cell_type": "code",
   "execution_count": 90,
   "id": "c0a14938-6436-48db-8bfa-27ce5e269aaa",
   "metadata": {},
   "outputs": [
    {
     "name": "stdout",
     "output_type": "stream",
     "text": [
      "a 0\n",
      "b 1\n",
      "c 2\n"
     ]
    }
   ],
   "source": [
    "arr = ['a','b','c']\n",
    "for (v,i) in zip(arr,range(len(arr))):\n",
    "    print(v,i)"
   ]
  },
  {
   "cell_type": "markdown",
   "id": "c0281b1f-77ab-44f6-a8d0-547c102b8501",
   "metadata": {},
   "source": [
    "### filter (리턴값이 참인 것만 리턴한다)"
   ]
  },
  {
   "cell_type": "code",
   "execution_count": 107,
   "id": "e5707abe-4e19-4cb9-a22a-7054883e04db",
   "metadata": {},
   "outputs": [
    {
     "name": "stdout",
     "output_type": "stream",
     "text": [
      "[1, 2, 6]\n"
     ]
    }
   ],
   "source": [
    "# 사용전\n",
    "def positive(l):\n",
    "    result=[]\n",
    "    for i in l:\n",
    "        if i > 0:\n",
    "            result.append(i)\n",
    "    return result\n",
    "print(positive([1,-3,2,0,-5,6]))"
   ]
  },
  {
   "cell_type": "code",
   "execution_count": 108,
   "id": "27292ed7-c05f-43b2-a3de-30f476b9d7e8",
   "metadata": {},
   "outputs": [],
   "source": [
    "# 사용후\n",
    "def positive(x):\n",
    "    return x > 0"
   ]
  },
  {
   "cell_type": "code",
   "execution_count": 109,
   "id": "263746b8-57bc-4e23-be07-a714b651a890",
   "metadata": {},
   "outputs": [
    {
     "name": "stdout",
     "output_type": "stream",
     "text": [
      "[1, 2, 6]\n"
     ]
    }
   ],
   "source": [
    "print(list(filter(positive,[1,-3,2,0,-5,6])))"
   ]
  },
  {
   "cell_type": "code",
   "execution_count": 104,
   "id": "cf0c044b-5189-4908-8d61-5752b078a514",
   "metadata": {},
   "outputs": [
    {
     "data": {
      "text/plain": [
       "[1, 2, 6]"
      ]
     },
     "execution_count": 104,
     "metadata": {},
     "output_type": "execute_result"
    }
   ],
   "source": [
    "list(filter(lambda x: x > 0, [1, -3, 2, 0, -5, 6]))"
   ]
  },
  {
   "cell_type": "markdown",
   "id": "0db1fbf7-7060-4290-9f9d-1571066ef42a",
   "metadata": {},
   "source": [
    "### map (요소에 함수 f를 적용한 결과를 리턴하는 함수)"
   ]
  },
  {
   "cell_type": "code",
   "execution_count": 110,
   "id": "12f31ab3-787d-4c7d-b01d-2d8c853136fd",
   "metadata": {},
   "outputs": [
    {
     "name": "stdout",
     "output_type": "stream",
     "text": [
      "[2, 4, 6, 8]\n"
     ]
    }
   ],
   "source": [
    "# 사용전\n",
    "def two_times(numberList):\n",
    "    result =[]\n",
    "    for number in numberList:\n",
    "        result.append(number*2)\n",
    "    return result\n",
    "result = two_times([1,2,3,4])\n",
    "print(result)"
   ]
  },
  {
   "cell_type": "code",
   "execution_count": 114,
   "id": "e148ac1d-f55a-4eec-986c-371b982cad6a",
   "metadata": {},
   "outputs": [
    {
     "data": {
      "text/plain": [
       "[2, 4, 6, 8]"
      ]
     },
     "execution_count": 114,
     "metadata": {},
     "output_type": "execute_result"
    }
   ],
   "source": [
    "# 사용후\n",
    "def two_times(x):\n",
    "    return x*2\n",
    "list(map(two_times,[1,2,3,4]))"
   ]
  },
  {
   "cell_type": "code",
   "execution_count": 115,
   "id": "4af2a301-d137-41c2-b0df-934bebe7fc26",
   "metadata": {},
   "outputs": [
    {
     "data": {
      "text/plain": [
       "[2, 4, 6, 8]"
      ]
     },
     "execution_count": 115,
     "metadata": {},
     "output_type": "execute_result"
    }
   ],
   "source": [
    "list(map(lambda a: a*2, [1, 2, 3, 4]))"
   ]
  },
  {
   "cell_type": "markdown",
   "id": "ed5de11e-964c-4f01-ad2c-537e35b015ac",
   "metadata": {},
   "source": [
    "### round (반올림)"
   ]
  },
  {
   "cell_type": "code",
   "execution_count": 117,
   "id": "1ea892e6-882f-486a-96fb-3d594ed8f065",
   "metadata": {},
   "outputs": [
    {
     "data": {
      "text/plain": [
       "3"
      ]
     },
     "execution_count": 117,
     "metadata": {},
     "output_type": "execute_result"
    }
   ],
   "source": [
    "round(3.14)"
   ]
  },
  {
   "cell_type": "markdown",
   "id": "6cc8ea69-e7b9-4bf4-88bc-aeea10cc528b",
   "metadata": {},
   "source": [
    "### sorted ( 입력 데이터를 정렬한 후 그 결과를 리스트로 리턴)"
   ]
  },
  {
   "cell_type": "code",
   "execution_count": 120,
   "id": "33608ece-12a9-462c-b17b-7316642bad8f",
   "metadata": {},
   "outputs": [
    {
     "data": {
      "text/plain": [
       "[1, 2, 2, 4, 4, 6, 7, 32, 43, 434, 312332]"
      ]
     },
     "execution_count": 120,
     "metadata": {},
     "output_type": "execute_result"
    }
   ],
   "source": [
    "sorted([4,1,2,4,6,2,32,312332,434,43,7])"
   ]
  },
  {
   "cell_type": "markdown",
   "id": "da072516-7991-4ff5-9c4c-c36de7c90a28",
   "metadata": {},
   "source": [
    "## 표준 라이브러리"
   ]
  },
  {
   "cell_type": "markdown",
   "id": "4e0582b1-9b30-43d6-8fd9-f03906a0d721",
   "metadata": {},
   "source": [
    "### datetime.date"
   ]
  },
  {
   "cell_type": "code",
   "execution_count": 121,
   "id": "8bf4c49b-21f5-4ad4-b62a-b6f3d0d6578b",
   "metadata": {},
   "outputs": [
    {
     "data": {
      "text/plain": [
       "124"
      ]
     },
     "execution_count": 121,
     "metadata": {},
     "output_type": "execute_result"
    }
   ],
   "source": [
    "import datetime\n",
    "day1 = datetime.date(2023,9,20)\n",
    "day2 = datetime.date(2024,1,22)\n",
    "diff = day2 - day1\n",
    "diff.days"
   ]
  },
  {
   "cell_type": "markdown",
   "id": "dd511af0-5573-4475-b21e-ba0918521e84",
   "metadata": {},
   "source": [
    "### time **"
   ]
  },
  {
   "cell_type": "markdown",
   "id": "7625de62-81c5-4df3-af6d-d1fb14e96a57",
   "metadata": {},
   "source": [
    "#### time.time"
   ]
  },
  {
   "cell_type": "code",
   "execution_count": 126,
   "id": "ee33fe3d-0956-4b7a-b085-ecee212b7e3c",
   "metadata": {},
   "outputs": [
    {
     "data": {
      "text/plain": [
       "1705894244.0129836"
      ]
     },
     "execution_count": 126,
     "metadata": {},
     "output_type": "execute_result"
    }
   ],
   "source": [
    "import time as t\n",
    "t.time()"
   ]
  },
  {
   "cell_type": "code",
   "execution_count": 127,
   "id": "6a8705e0-005e-43df-b5e9-9d0b28f701b0",
   "metadata": {},
   "outputs": [
    {
     "data": {
      "text/plain": [
       "time.struct_time(tm_year=2024, tm_mon=1, tm_mday=22, tm_hour=12, tm_min=30, tm_sec=44, tm_wday=0, tm_yday=22, tm_isdst=0)"
      ]
     },
     "execution_count": 127,
     "metadata": {},
     "output_type": "execute_result"
    }
   ],
   "source": [
    "t.localtime(time.time())"
   ]
  },
  {
   "cell_type": "code",
   "execution_count": 129,
   "id": "618e33a0-a77f-414b-9562-b78e3b79e931",
   "metadata": {},
   "outputs": [
    {
     "data": {
      "text/plain": [
       "'Mon Jan 22 12:31:04 2024'"
      ]
     },
     "execution_count": 129,
     "metadata": {},
     "output_type": "execute_result"
    }
   ],
   "source": [
    "t.ctime()"
   ]
  },
  {
   "cell_type": "code",
   "execution_count": 131,
   "id": "ca1ec95a-dd86-4452-89c1-ce85d4750829",
   "metadata": {},
   "outputs": [
    {
     "name": "stdout",
     "output_type": "stream",
     "text": [
      "0\n",
      "1\n",
      "2\n",
      "3\n",
      "4\n",
      "5\n",
      "6\n",
      "7\n",
      "8\n",
      "9\n"
     ]
    }
   ],
   "source": [
    "for i in range(10):\n",
    "    print(i)\n",
    "    t.sleep(1)"
   ]
  },
  {
   "cell_type": "markdown",
   "id": "28a1d9a8-812b-4dc0-a2c6-ba2493c1ac26",
   "metadata": {},
   "source": [
    "### random (규칙이 없는 임의의 수)"
   ]
  },
  {
   "cell_type": "code",
   "execution_count": 17,
   "id": "cd381361-2ea7-41aa-a9c2-e26d08b779a1",
   "metadata": {},
   "outputs": [
    {
     "name": "stdout",
     "output_type": "stream",
     "text": [
      "3.17s :[333062, 333655, 333047, 333476, 333421, 333339]\n"
     ]
    }
   ],
   "source": [
    "# random, randint\n",
    "import random as r\n",
    "import time as t\n",
    "list=[0]*6\n",
    "start = t.time()\n",
    "for i in range(2000000):\n",
    "    ran = r.randint(1,6)\n",
    "    list[ran-1]+=1\n",
    "end = t.time()-start\n",
    "print(f'{round(end,2)}s :{list}')"
   ]
  },
  {
   "cell_type": "markdown",
   "id": "4ebb698a-3c16-4930-9145-ce60ccb4d7f7",
   "metadata": {},
   "source": [
    "### itertools.permutation,itertools.combination (수학적확률)@*"
   ]
  },
  {
   "cell_type": "markdown",
   "id": "a3350cb6-580b-4808-aef2-6ccff948497c",
   "metadata": {},
   "source": [
    "### functools.reduce @*"
   ]
  },
  {
   "cell_type": "markdown",
   "id": "b4e90ad3-b1fb-49ee-aff7-03ef505ee54b",
   "metadata": {},
   "source": [
    "### operator.itemgetter @*"
   ]
  },
  {
   "cell_type": "markdown",
   "id": "c5428043-0129-4566-97cb-7f9defcb1552",
   "metadata": {},
   "source": [
    "### shutil (파일을 복사하거나 이동) **"
   ]
  },
  {
   "cell_type": "markdown",
   "id": "a6571c68-e78d-49f1-bc34-ccbcc58cbb62",
   "metadata": {},
   "source": [
    "### glob *"
   ]
  },
  {
   "cell_type": "markdown",
   "id": "e8e6ff84-dcf9-4e7c-ae83-d33cdf7803e6",
   "metadata": {},
   "source": [
    "### pickle @*"
   ]
  },
  {
   "cell_type": "markdown",
   "id": "ea62b5eb-4c00-4396-a045-ac3910d1c498",
   "metadata": {},
   "source": [
    "### OS **"
   ]
  },
  {
   "cell_type": "markdown",
   "id": "3b962048-ac65-4f0d-af19-4c6f16250200",
   "metadata": {},
   "source": [
    "### zipfile @"
   ]
  },
  {
   "cell_type": "markdown",
   "id": "540c095b-5554-4241-b3b9-0ba03405b7b2",
   "metadata": {},
   "source": [
    "### threading @**"
   ]
  },
  {
   "cell_type": "markdown",
   "id": "aecb8cc0-73d0-423b-8988-9ca875cf11e3",
   "metadata": {},
   "source": [
    "### tempfile @"
   ]
  },
  {
   "cell_type": "markdown",
   "id": "06ed7730-9a8c-4413-ba8c-70a4ffda68cf",
   "metadata": {},
   "source": [
    "### traceback @"
   ]
  },
  {
   "cell_type": "markdown",
   "id": "dc03daf6-0338-4621-9e99-47ef45e7fba6",
   "metadata": {},
   "source": [
    "### JSON **"
   ]
  },
  {
   "cell_type": "markdown",
   "id": "27813611-90c1-49d4-9295-001df8e50e73",
   "metadata": {},
   "source": [
    "### urllib @*"
   ]
  },
  {
   "cell_type": "markdown",
   "id": "e4cda4dc-87ae-41ab-8b61-3285dcaa4cc7",
   "metadata": {},
   "source": [
    "### webbrowser @"
   ]
  },
  {
   "cell_type": "code",
   "execution_count": null,
   "id": "af98e3e1-c733-44e2-8be0-dec483280e74",
   "metadata": {},
   "outputs": [],
   "source": []
  }
 ],
 "metadata": {
  "kernelspec": {
   "display_name": "Python 3 (ipykernel)",
   "language": "python",
   "name": "python3"
  },
  "language_info": {
   "codemirror_mode": {
    "name": "ipython",
    "version": 3
   },
   "file_extension": ".py",
   "mimetype": "text/x-python",
   "name": "python",
   "nbconvert_exporter": "python",
   "pygments_lexer": "ipython3",
   "version": "3.11.2"
  }
 },
 "nbformat": 4,
 "nbformat_minor": 5
}
